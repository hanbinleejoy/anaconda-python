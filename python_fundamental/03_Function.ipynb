{
 "cells": [
  {
   "cell_type": "code",
   "execution_count": 1,
   "metadata": {},
   "outputs": [
    {
     "name": "stdout",
     "output_type": "stream",
     "text": [
      "21\n",
      "550\n"
     ]
    }
   ],
   "source": [
    "# 여러개의 요소값이 담긴 변수를 인자로 보낼 때 * 기호를 넣으면 된다.\n",
    "# (pointer 개념?)\n",
    "def sumrandom(*args):\n",
    "    result = 0\n",
    "    for i in args:\n",
    "        result = result + i\n",
    "    return result\n",
    "\n",
    "print(sumrandom(1,2,3,4,5,6))\n",
    "print(sumrandom(10,20,30,40,50,60,70,80,90,100))"
   ]
  },
  {
   "cell_type": "code",
   "execution_count": 2,
   "metadata": {},
   "outputs": [
    {
     "name": "stdout",
     "output_type": "stream",
     "text": [
      "47\n",
      "5\n",
      "No func!\n"
     ]
    }
   ],
   "source": [
    "def myfunction(func, *args):\n",
    "    result = 0\n",
    "    if func == \"sum\":\n",
    "        for i in args:\n",
    "            result = result + i\n",
    "        return result\n",
    "    elif func == \"count\":\n",
    "        return len(args)\n",
    "    else:\n",
    "        return \"No func!\"\n",
    "\n",
    "a = myfunction(\"sum\",10,2,30,4,1)\n",
    "b = myfunction(\"count\",10,2,30,4,1)\n",
    "c = myfunction(\"nono\",10,2,30,4,1)\n",
    "\n",
    "print(a)\n",
    "print(b)\n",
    "print(c)"
   ]
  },
  {
   "cell_type": "code",
   "execution_count": 3,
   "metadata": {},
   "outputs": [
    {
     "name": "stdout",
     "output_type": "stream",
     "text": [
      "(40, 300, 0.3333333333333333, 52)\n"
     ]
    }
   ],
   "source": [
    "def multifunc(a,b):\n",
    "    return a+b, a*b, a/b, a+b+12\n",
    "\n",
    "# 튜플형식으로 묶어서 1개로 반환해준다.\n",
    "print(multifunc(10,30))"
   ]
  },
  {
   "cell_type": "code",
   "execution_count": 4,
   "metadata": {},
   "outputs": [
    {
     "data": {
      "text/plain": [
       "40"
      ]
     },
     "execution_count": 4,
     "metadata": {},
     "output_type": "execute_result"
    }
   ],
   "source": [
    "# lambda function (익명함수)\n",
    "\n",
    "(lambda x, y: x+y)(10,30)"
   ]
  },
  {
   "cell_type": "code",
   "execution_count": 8,
   "metadata": {},
   "outputs": [
    {
     "name": "stdout",
     "output_type": "stream",
     "text": [
      "(15, 120)\n",
      "(1, 4)\n",
      "check sel parameter!!!\n"
     ]
    }
   ],
   "source": [
    "def myfunc(sel, *args):\n",
    "    plus = 0\n",
    "    mul = 1\n",
    "    if sel == \"sel1\":\n",
    "        for i in args:\n",
    "            plus = plus + i\n",
    "            mul = mul*i\n",
    "        return plus, mul\n",
    "    elif sel == \"sel2\":\n",
    "        return args[0], args[len(args)-1]\n",
    "    else:\n",
    "        return \"check sel parameter!!!\"\n",
    "\n",
    "print(myfunc(\"sel1\", 1,2,3,4,5))\n",
    "print(myfunc(\"sel2\", 1,2,3,4))\n",
    "print(myfunc(\"sel\", 1,2,3,4,5))"
   ]
  },
  {
   "cell_type": "code",
   "execution_count": 9,
   "metadata": {},
   "outputs": [
    {
     "name": "stdout",
     "output_type": "stream",
     "text": [
      "한국어 점수를 입력해주세요!ddd\n",
      "dddaaa\n"
     ]
    }
   ],
   "source": [
    "# input\n",
    "korean = input(\"한국어 점수를 입력해주세요!\")\n",
    "\n",
    "print(korean +\"aaa\")"
   ]
  }
 ],
 "metadata": {
  "kernelspec": {
   "display_name": "Python 3",
   "language": "python",
   "name": "python3"
  },
  "language_info": {
   "codemirror_mode": {
    "name": "ipython",
    "version": 3
   },
   "file_extension": ".py",
   "mimetype": "text/x-python",
   "name": "python",
   "nbconvert_exporter": "python",
   "pygments_lexer": "ipython3",
   "version": "3.7.4"
  }
 },
 "nbformat": 4,
 "nbformat_minor": 2
}
