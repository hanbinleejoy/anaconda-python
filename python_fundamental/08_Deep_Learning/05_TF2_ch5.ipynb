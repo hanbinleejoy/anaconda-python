{
 "cells": [
  {
   "cell_type": "markdown",
   "metadata": {
    "colab_type": "text",
    "id": "uhcsaDFfh0fp"
   },
   "source": [
    "# Classification"
   ]
  },
  {
   "cell_type": "markdown",
   "metadata": {},
   "source": [
    "* 참고)))이미지에 대한 분류는 뒤의 CNN에서 다루기로 하고 Pass --> 일반 데이터를 가지고 수행!!"
   ]
  },
  {
   "cell_type": "markdown",
   "metadata": {},
   "source": [
    "# 5.1 이항 분류"
   ]
  },
  {
   "cell_type": "code",
   "execution_count": 1,
   "metadata": {
    "colab": {
     "base_uri": "https://localhost:8080/",
     "height": 35
    },
    "colab_type": "code",
    "executionInfo": {
     "elapsed": 1222,
     "status": "ok",
     "timestamp": 1575816927211,
     "user": {
      "displayName": "Hwanhee Kim",
      "photoUrl": "https://lh3.googleusercontent.com/a-/AAuE7mAJC9PPBoQ91glDwFjxm3TlW5EqGy0BIAJ52D-ekw=s64",
      "userId": "04863080312902369470"
     },
     "user_tz": -540
    },
    "id": "p6PRuUGky7Gi",
    "outputId": "9319d356-ae57-4047-98a0-7f60ce861cc9"
   },
   "outputs": [],
   "source": [
    "# 텐서플로 2 버전 선택\n",
    "try:\n",
    "    # %tensorflow_version only exists in Colab.\n",
    "    %tensorflow_version 2.x\n",
    "except Exception:\n",
    "    pass"
   ]
  },
  {
   "cell_type": "markdown",
   "metadata": {},
   "source": [
    "* 데이터 컬럼 설명    \n",
    "<img src=\"img/img_15.png\">"
   ]
  },
  {
   "cell_type": "code",
   "execution_count": 2,
   "metadata": {
    "colab": {
     "base_uri": "https://localhost:8080/",
     "height": 305
    },
    "colab_type": "code",
    "executionInfo": {
     "elapsed": 2511,
     "status": "ok",
     "timestamp": 1575816929840,
     "user": {
      "displayName": "Hwanhee Kim",
      "photoUrl": "https://lh3.googleusercontent.com/a-/AAuE7mAJC9PPBoQ91glDwFjxm3TlW5EqGy0BIAJ52D-ekw=s64",
      "userId": "04863080312902369470"
     },
     "user_tz": -540
    },
    "id": "dG7D-IRGhtp_",
    "outputId": "e845498c-a360-47f4-9de1-ef8d100c8122"
   },
   "outputs": [
    {
     "name": "stdout",
     "output_type": "stream",
     "text": [
      "   fixed acidity  volatile acidity  citric acid  residual sugar  chlorides  \\\n",
      "0            7.4              0.70         0.00             1.9      0.076   \n",
      "1            7.8              0.88         0.00             2.6      0.098   \n",
      "2            7.8              0.76         0.04             2.3      0.092   \n",
      "3           11.2              0.28         0.56             1.9      0.075   \n",
      "4            7.4              0.70         0.00             1.9      0.076   \n",
      "\n",
      "   free sulfur dioxide  total sulfur dioxide  density    pH  sulphates  \\\n",
      "0                 11.0                  34.0   0.9978  3.51       0.56   \n",
      "1                 25.0                  67.0   0.9968  3.20       0.68   \n",
      "2                 15.0                  54.0   0.9970  3.26       0.65   \n",
      "3                 17.0                  60.0   0.9980  3.16       0.58   \n",
      "4                 11.0                  34.0   0.9978  3.51       0.56   \n",
      "\n",
      "   alcohol  quality  \n",
      "0      9.4        5  \n",
      "1      9.8        5  \n",
      "2      9.8        5  \n",
      "3      9.8        6  \n",
      "4      9.4        5  \n",
      "   fixed acidity  volatile acidity  citric acid  residual sugar  chlorides  \\\n",
      "0            7.0              0.27         0.36            20.7      0.045   \n",
      "1            6.3              0.30         0.34             1.6      0.049   \n",
      "2            8.1              0.28         0.40             6.9      0.050   \n",
      "3            7.2              0.23         0.32             8.5      0.058   \n",
      "4            7.2              0.23         0.32             8.5      0.058   \n",
      "\n",
      "   free sulfur dioxide  total sulfur dioxide  density    pH  sulphates  \\\n",
      "0                 45.0                 170.0   1.0010  3.00       0.45   \n",
      "1                 14.0                 132.0   0.9940  3.30       0.49   \n",
      "2                 30.0                  97.0   0.9951  3.26       0.44   \n",
      "3                 47.0                 186.0   0.9956  3.19       0.40   \n",
      "4                 47.0                 186.0   0.9956  3.19       0.40   \n",
      "\n",
      "   alcohol  quality  \n",
      "0      8.8        6  \n",
      "1      9.5        6  \n",
      "2     10.1        6  \n",
      "3      9.9        6  \n",
      "4      9.9        6  \n"
     ]
    }
   ],
   "source": [
    "# 5.1 와인 데이터셋 불러오기\n",
    "import pandas as pd\n",
    "red = pd.read_csv('http://archive.ics.uci.edu/ml/machine-learning-databases/wine-quality/winequality-red.csv', sep=';')\n",
    "white = pd.read_csv('http://archive.ics.uci.edu/ml/machine-learning-databases/wine-quality/winequality-white.csv', sep=';')\n",
    "print(red.head())\n",
    "print(white.head())"
   ]
  },
  {
   "cell_type": "code",
   "execution_count": 3,
   "metadata": {
    "colab": {
     "base_uri": "https://localhost:8080/",
     "height": 395
    },
    "colab_type": "code",
    "executionInfo": {
     "elapsed": 797,
     "status": "ok",
     "timestamp": 1575816941142,
     "user": {
      "displayName": "Hwanhee Kim",
      "photoUrl": "https://lh3.googleusercontent.com/a-/AAuE7mAJC9PPBoQ91glDwFjxm3TlW5EqGy0BIAJ52D-ekw=s64",
      "userId": "04863080312902369470"
     },
     "user_tz": -540
    },
    "id": "q1ddlvU_fcK0",
    "outputId": "acbc9866-24d1-4edb-9d09-0cac3af92e2f"
   },
   "outputs": [
    {
     "name": "stdout",
     "output_type": "stream",
     "text": [
      "   fixed acidity  volatile acidity  citric acid  residual sugar  chlorides  \\\n",
      "0            7.4              0.70          0.0             1.9      0.076   \n",
      "1            7.8              0.88          0.0             2.6      0.098   \n",
      "\n",
      "   free sulfur dioxide  total sulfur dioxide  density    pH  sulphates  \\\n",
      "0                 11.0                  34.0   0.9978  3.51       0.56   \n",
      "1                 25.0                  67.0   0.9968  3.20       0.68   \n",
      "\n",
      "   alcohol  quality  type  \n",
      "0      9.4        5     0  \n",
      "1      9.8        5     0  \n",
      "   fixed acidity  volatile acidity  citric acid  residual sugar  chlorides  \\\n",
      "0            7.0              0.27         0.36            20.7      0.045   \n",
      "1            6.3              0.30         0.34             1.6      0.049   \n",
      "\n",
      "   free sulfur dioxide  total sulfur dioxide  density   pH  sulphates  \\\n",
      "0                 45.0                 170.0    1.001  3.0       0.45   \n",
      "1                 14.0                 132.0    0.994  3.3       0.49   \n",
      "\n",
      "   alcohol  quality  type  \n",
      "0      8.8        6     1  \n",
      "1      9.5        6     1  \n",
      "       fixed acidity  volatile acidity  citric acid  residual sugar  \\\n",
      "count    6497.000000       6497.000000  6497.000000     6497.000000   \n",
      "mean        7.215307          0.339666     0.318633        5.443235   \n",
      "std         1.296434          0.164636     0.145318        4.757804   \n",
      "min         3.800000          0.080000     0.000000        0.600000   \n",
      "25%         6.400000          0.230000     0.250000        1.800000   \n",
      "50%         7.000000          0.290000     0.310000        3.000000   \n",
      "75%         7.700000          0.400000     0.390000        8.100000   \n",
      "max        15.900000          1.580000     1.660000       65.800000   \n",
      "\n",
      "         chlorides  free sulfur dioxide  total sulfur dioxide      density  \\\n",
      "count  6497.000000          6497.000000           6497.000000  6497.000000   \n",
      "mean      0.056034            30.525319            115.744574     0.994697   \n",
      "std       0.035034            17.749400             56.521855     0.002999   \n",
      "min       0.009000             1.000000              6.000000     0.987110   \n",
      "25%       0.038000            17.000000             77.000000     0.992340   \n",
      "50%       0.047000            29.000000            118.000000     0.994890   \n",
      "75%       0.065000            41.000000            156.000000     0.996990   \n",
      "max       0.611000           289.000000            440.000000     1.038980   \n",
      "\n",
      "                pH    sulphates      alcohol      quality         type  \n",
      "count  6497.000000  6497.000000  6497.000000  6497.000000  6497.000000  \n",
      "mean      3.218501     0.531268    10.491801     5.818378     0.753886  \n",
      "std       0.160787     0.148806     1.192712     0.873255     0.430779  \n",
      "min       2.720000     0.220000     8.000000     3.000000     0.000000  \n",
      "25%       3.110000     0.430000     9.500000     5.000000     1.000000  \n",
      "50%       3.210000     0.510000    10.300000     6.000000     1.000000  \n",
      "75%       3.320000     0.600000    11.300000     6.000000     1.000000  \n",
      "max       4.010000     2.000000    14.900000     9.000000     1.000000  \n"
     ]
    }
   ],
   "source": [
    "# 5.2 와인 데이터셋 합치기\n",
    "red['type'] = 0\n",
    "white['type'] = 1\n",
    "print(red.head(2))\n",
    "print(white.head(2))\n",
    "\n",
    "wine = pd.concat([red, white])\n",
    "print(wine.describe())"
   ]
  },
  {
   "cell_type": "code",
   "execution_count": 4,
   "metadata": {
    "colab": {
     "base_uri": "https://localhost:8080/",
     "height": 319
    },
    "colab_type": "code",
    "executionInfo": {
     "elapsed": 806,
     "status": "ok",
     "timestamp": 1575816953983,
     "user": {
      "displayName": "Hwanhee Kim",
      "photoUrl": "https://lh3.googleusercontent.com/a-/AAuE7mAJC9PPBoQ91glDwFjxm3TlW5EqGy0BIAJ52D-ekw=s64",
      "userId": "04863080312902369470"
     },
     "user_tz": -540
    },
    "id": "bCt4AfOCfcIA",
    "outputId": "9632f8e6-8204-4f9b-b393-c4cd46634753"
   },
   "outputs": [
    {
     "data": {
      "text/plain": [
       "<Figure size 640x480 with 1 Axes>"
      ]
     },
     "metadata": {},
     "output_type": "display_data"
    },
    {
     "name": "stdout",
     "output_type": "stream",
     "text": [
      "1    4898\n",
      "0    1599\n",
      "Name: type, dtype: int64\n"
     ]
    }
   ],
   "source": [
    "# 5.3 레드 와인과 화이트 와인 type 히스토그램\n",
    "import matplotlib.pyplot as plt\n",
    "plt.hist(wine['type'])\n",
    "plt.xticks([0, 1])\n",
    "plt.show()\n",
    "\n",
    "print(wine['type'].value_counts())"
   ]
  },
  {
   "cell_type": "code",
   "execution_count": 5,
   "metadata": {},
   "outputs": [
    {
     "data": {
      "text/plain": [
       "<matplotlib.axes._subplots.AxesSubplot at 0x1e11f785908>"
      ]
     },
     "execution_count": 5,
     "metadata": {},
     "output_type": "execute_result"
    },
    {
     "data": {
      "image/png": "[encoded data removed]",
      "text/plain": [
       "<Figure size 432x288 with 2 Axes>"
      ]
     },
     "metadata": {
      "needs_background": "light"
     },
     "output_type": "display_data"
    }
   ],
   "source": [
    "import seaborn as sns\n",
    "correlations = wine[wine.columns].corr(method='pearson')\n",
    "sns.heatmap(correlations, cmap=\"YlGnBu\", annot = True)"
   ]
  },
  {
   "cell_type": "code",
   "execution_count": 6,
   "metadata": {
    "colab": {
     "base_uri": "https://localhost:8080/",
     "height": 359
    },
    "colab_type": "code",
    "executionInfo": {
     "elapsed": 758,
     "status": "ok",
     "timestamp": 1575816961943,
     "user": {
      "displayName": "Hwanhee Kim",
      "photoUrl": "https://lh3.googleusercontent.com/a-/AAuE7mAJC9PPBoQ91glDwFjxm3TlW5EqGy0BIAJ52D-ekw=s64",
      "userId": "04863080312902369470"
     },
     "user_tz": -540
    },
    "id": "L3G-uSOQhvxf",
    "outputId": "3142ae1a-51c6-43a3-935d-a9beb48c4c65"
   },
   "outputs": [
    {
     "name": "stdout",
     "output_type": "stream",
     "text": [
      "<class 'pandas.core.frame.DataFrame'>\n",
      "Int64Index: 6497 entries, 0 to 4897\n",
      "Data columns (total 13 columns):\n",
      "fixed acidity           6497 non-null float64\n",
      "volatile acidity        6497 non-null float64\n",
      "citric acid             6497 non-null float64\n",
      "residual sugar          6497 non-null float64\n",
      "chlorides               6497 non-null float64\n",
      "free sulfur dioxide     6497 non-null float64\n",
      "total sulfur dioxide    6497 non-null float64\n",
      "density                 6497 non-null float64\n",
      "pH                      6497 non-null float64\n",
      "sulphates               6497 non-null float64\n",
      "alcohol                 6497 non-null float64\n",
      "quality                 6497 non-null int64\n",
      "type                    6497 non-null int64\n",
      "dtypes: float64(11), int64(2)\n",
      "memory usage: 710.6 KB\n",
      "None\n"
     ]
    }
   ],
   "source": [
    "# 5.4 데이터 요약 정보 확인\n",
    "print(wine.info())"
   ]
  },
  {
   "cell_type": "code",
   "execution_count": 7,
   "metadata": {
    "colab": {
     "base_uri": "https://localhost:8080/",
     "height": 359
    },
    "colab_type": "code",
    "executionInfo": {
     "elapsed": 1047,
     "status": "ok",
     "timestamp": 1575816964868,
     "user": {
      "displayName": "Hwanhee Kim",
      "photoUrl": "https://lh3.googleusercontent.com/a-/AAuE7mAJC9PPBoQ91glDwFjxm3TlW5EqGy0BIAJ52D-ekw=s64",
      "userId": "04863080312902369470"
     },
     "user_tz": -540
    },
    "id": "c96JRczWhvpD",
    "outputId": "e80150c4-c160-40aa-8481-72333d017f36"
   },
   "outputs": [
    {
     "name": "stdout",
     "output_type": "stream",
     "text": [
      "   fixed acidity  volatile acidity  citric acid  residual sugar  chlorides  \\\n",
      "0       0.297521          0.413333     0.000000        0.019939   0.111296   \n",
      "1       0.330579          0.533333     0.000000        0.030675   0.147841   \n",
      "2       0.330579          0.453333     0.024096        0.026074   0.137874   \n",
      "3       0.611570          0.133333     0.337349        0.019939   0.109635   \n",
      "4       0.297521          0.413333     0.000000        0.019939   0.111296   \n",
      "\n",
      "   free sulfur dioxide  total sulfur dioxide   density        pH  sulphates  \\\n",
      "0             0.034722              0.064516  0.206092  0.612403   0.191011   \n",
      "1             0.083333              0.140553  0.186813  0.372093   0.258427   \n",
      "2             0.048611              0.110599  0.190669  0.418605   0.241573   \n",
      "3             0.055556              0.124424  0.209948  0.341085   0.202247   \n",
      "4             0.034722              0.064516  0.206092  0.612403   0.191011   \n",
      "\n",
      "    alcohol   quality  type  \n",
      "0  0.202899  0.333333   0.0  \n",
      "1  0.260870  0.333333   0.0  \n",
      "2  0.260870  0.333333   0.0  \n",
      "3  0.260870  0.500000   0.0  \n",
      "4  0.202899  0.333333   0.0  \n",
      "       fixed acidity  volatile acidity  citric acid  residual sugar  \\\n",
      "count    6497.000000       6497.000000  6497.000000     6497.000000   \n",
      "mean        0.282257          0.173111     0.191948        0.074283   \n",
      "std         0.107143          0.109758     0.087541        0.072972   \n",
      "min         0.000000          0.000000     0.000000        0.000000   \n",
      "25%         0.214876          0.100000     0.150602        0.018405   \n",
      "50%         0.264463          0.140000     0.186747        0.036810   \n",
      "75%         0.322314          0.213333     0.234940        0.115031   \n",
      "max         1.000000          1.000000     1.000000        1.000000   \n",
      "\n",
      "         chlorides  free sulfur dioxide  total sulfur dioxide      density  \\\n",
      "count  6497.000000          6497.000000           6497.000000  6497.000000   \n",
      "mean      0.078129             0.102518              0.252868     0.146262   \n",
      "std       0.058195             0.061630              0.130235     0.057811   \n",
      "min       0.000000             0.000000              0.000000     0.000000   \n",
      "25%       0.048173             0.055556              0.163594     0.100829   \n",
      "50%       0.063123             0.097222              0.258065     0.149990   \n",
      "75%       0.093023             0.138889              0.345622     0.190476   \n",
      "max       1.000000             1.000000              1.000000     1.000000   \n",
      "\n",
      "                pH    sulphates      alcohol      quality         type  \n",
      "count  6497.000000  6497.000000  6497.000000  6497.000000  6497.000000  \n",
      "mean      0.386435     0.174870     0.361131     0.469730     0.753886  \n",
      "std       0.124641     0.083599     0.172857     0.145543     0.430779  \n",
      "min       0.000000     0.000000     0.000000     0.000000     0.000000  \n",
      "25%       0.302326     0.117978     0.217391     0.333333     1.000000  \n",
      "50%       0.379845     0.162921     0.333333     0.500000     1.000000  \n",
      "75%       0.465116     0.213483     0.478261     0.500000     1.000000  \n",
      "max       1.000000     1.000000     1.000000     1.000000     1.000000  \n"
     ]
    }
   ],
   "source": [
    "# 5.5 데이터 정규화\n",
    "wine_norm = (wine - wine.min()) / (wine.max() - wine.min())\n",
    "print(wine_norm.head())\n",
    "print(wine_norm.describe())"
   ]
  },
  {
   "cell_type": "code",
   "execution_count": 8,
   "metadata": {
    "colab": {
     "base_uri": "https://localhost:8080/",
     "height": 431
    },
    "colab_type": "code",
    "executionInfo": {
     "elapsed": 746,
     "status": "ok",
     "timestamp": 1575817148427,
     "user": {
      "displayName": "Hwanhee Kim",
      "photoUrl": "https://lh3.googleusercontent.com/a-/AAuE7mAJC9PPBoQ91glDwFjxm3TlW5EqGy0BIAJ52D-ekw=s64",
      "userId": "04863080312902369470"
     },
     "user_tz": -540
    },
    "id": "2p1n7sQ-fb5M",
    "outputId": "1be05a9b-f2e7-4815-8c4b-02f387ac2929"
   },
   "outputs": [
    {
     "name": "stdout",
     "output_type": "stream",
     "text": [
      "      fixed acidity  volatile acidity  citric acid  residual sugar  chlorides  \\\n",
      "2072       0.231405          0.100000     0.162651        0.076687   0.056478   \n",
      "794        0.520661          0.126667     0.325301        0.026074   0.093023   \n",
      "361        0.272727          0.190000     0.084337        0.009202   0.076412   \n",
      "4363       0.272727          0.153333     0.150602        0.162577   0.064784   \n",
      "1920       0.355372          0.120000     0.198795        0.161043   0.071429   \n",
      "\n",
      "      free sulfur dioxide  total sulfur dioxide   density        pH  \\\n",
      "2072             0.145833              0.364055  0.157895  0.426357   \n",
      "794              0.020833              0.046083  0.158088  0.348837   \n",
      "361              0.079861              0.179724  0.134760  0.333333   \n",
      "4363             0.107639              0.299539  0.183536  0.325581   \n",
      "1920             0.178819              0.350230  0.202236  0.240310   \n",
      "\n",
      "      sulphates   alcohol   quality  type  \n",
      "2072   0.303371  0.217391  0.333333   1.0  \n",
      "794    0.174157  0.652174  0.500000   0.0  \n",
      "361    0.117978  0.130435  0.333333   1.0  \n",
      "4363   0.101124  0.217391  0.333333   1.0  \n",
      "1920   0.151685  0.318841  0.666667   1.0  \n",
      "[[0.23140496 0.1        0.1626506  0.07668712 0.05647841 0.14583333\n",
      "  0.3640553  0.15789474 0.42635659 0.30337079 0.2173913  0.33333333\n",
      "  1.        ]\n",
      " [0.52066116 0.12666667 0.3253012  0.02607362 0.09302326 0.02083333\n",
      "  0.04608295 0.15808753 0.34883721 0.1741573  0.65217391 0.5\n",
      "  0.        ]\n",
      " [0.27272727 0.19       0.08433735 0.00920245 0.07641196 0.07986111\n",
      "  0.1797235  0.13475998 0.33333333 0.11797753 0.13043478 0.33333333\n",
      "  1.        ]\n",
      " [0.27272727 0.15333333 0.15060241 0.16257669 0.06478405 0.10763889\n",
      "  0.29953917 0.18353576 0.3255814  0.1011236  0.2173913  0.33333333\n",
      "  1.        ]\n",
      " [0.3553719  0.12       0.19879518 0.16104294 0.07142857 0.17881944\n",
      "  0.35023041 0.20223636 0.24031008 0.15168539 0.31884058 0.66666667\n",
      "  1.        ]]\n"
     ]
    }
   ],
   "source": [
    "# 5.6 데이터 섞은 후 numpy array로 변환\n",
    "import numpy as np\n",
    "wine_shuffle = wine_norm.sample(frac=1)\n",
    "print(wine_shuffle.head())\n",
    "wine_np = wine_shuffle.to_numpy()\n",
    "print(wine_np[:5])"
   ]
  },
  {
   "cell_type": "markdown",
   "metadata": {},
   "source": [
    "* 참고) tf.keras.utils.to_categorical --> one hot encoding으로 변경을 해준다!!!!!     \n",
    "아니면 아래와 같이 만들 수 있고, 아니면 scikit learn의 onehotencoding을 사용할 수 있음!!!!     \n",
    "def labelMaker(val):     \n",
    "    if val == 1:     \n",
    "        return [1, 0, 0]     \n",
    "    elif val == 2:     \n",
    "        return [0, 1, 0]     \n",
    "    else:      \n",
    "        return [0, 0, 1]"
   ]
  },
  {
   "cell_type": "markdown",
   "metadata": {},
   "source": [
    "아래 그림을 보면\n",
    "   - 최종 출력단에 있어서 해당하는 카테고리에 대한 것을 표현을 해주기 위해서는 각기 종류별로 값을 나타내야 하고, 이에 대한 효율적인 표현이 바로 one-hot-encoding이기 때문에 이렇게 활용을 하여서 변형을 하는 것임!!!!!   \n",
    "   - 그리고 \"분류\"의 문제이기 때문에 이에 대해서 최종 단에 있어서는  softmax를 활용해야 함!!!!!\n",
    "   - 분류에 대한 기준이기 때문에 기준을 categorical_crossentropy로 설정을 함.\n",
    "\n",
    "<img src=\"img/img_16.png\">"
   ]
  },
  {
   "cell_type": "code",
   "execution_count": 9,
   "metadata": {
    "colab": {
     "base_uri": "https://localhost:8080/",
     "height": 161
    },
    "colab_type": "code",
    "executionInfo": {
     "elapsed": 720,
     "status": "ok",
     "timestamp": 1575817149737,
     "user": {
      "displayName": "Hwanhee Kim",
      "photoUrl": "https://lh3.googleusercontent.com/a-/AAuE7mAJC9PPBoQ91glDwFjxm3TlW5EqGy0BIAJ52D-ekw=s64",
      "userId": "04863080312902369470"
     },
     "user_tz": -540
    },
    "id": "nVyMBeF9rhAb",
    "outputId": "d65bd15e-98fc-4a3f-de17-74497749ac94"
   },
   "outputs": [
    {
     "name": "stdout",
     "output_type": "stream",
     "text": [
      "[0.23140496 0.1        0.1626506  0.07668712 0.05647841 0.14583333\n",
      " 0.3640553  0.15789474 0.42635659 0.30337079 0.2173913  0.33333333]\n",
      "1.0\n",
      "[0.33057851 0.23333333 0.29518072 0.19018405 0.03986711 0.125\n",
      " 0.35023041 0.16175053 0.3255814  0.07303371 0.47826087 0.5       ]\n",
      "1.0\n",
      "[0. 1.]\n",
      "[0. 1.]\n"
     ]
    }
   ],
   "source": [
    "# 5.7 train 데이터와 test 데이터로 분리\n",
    "import tensorflow as tf\n",
    "train_idx = int(len(wine_np) * 0.8)\n",
    "train_X, train_Y = wine_np[:train_idx, :-1], wine_np[:train_idx, -1]\n",
    "test_X, test_Y = wine_np[train_idx:, :-1], wine_np[train_idx:, -1]\n",
    "\n",
    "\n",
    "print(train_X[0])\n",
    "print(train_Y[0])\n",
    "print(test_X[0])\n",
    "print(test_Y[0])\n",
    "\n",
    "# one - hot - encoding으로 쉽게 변경 처리를 하자!!!!!!!\n",
    "train_Y = tf.keras.utils.to_categorical(train_Y, num_classes=2)\n",
    "test_Y = tf.keras.utils.to_categorical(test_Y, num_classes=2)\n",
    "print(train_Y[0])\n",
    "print(test_Y[0])"
   ]
  },
  {
   "cell_type": "code",
   "execution_count": 10,
   "metadata": {
    "colab": {
     "base_uri": "https://localhost:8080/",
     "height": 305
    },
    "colab_type": "code",
    "executionInfo": {
     "elapsed": 1076,
     "status": "ok",
     "timestamp": 1575817251317,
     "user": {
      "displayName": "Hwanhee Kim",
      "photoUrl": "https://lh3.googleusercontent.com/a-/AAuE7mAJC9PPBoQ91glDwFjxm3TlW5EqGy0BIAJ52D-ekw=s64",
      "userId": "04863080312902369470"
     },
     "user_tz": -540
    },
    "id": "U-X6IrxDxXzd",
    "outputId": "fed03de3-5560-4358-a3aa-770e17137827"
   },
   "outputs": [
    {
     "name": "stdout",
     "output_type": "stream",
     "text": [
      "Model: \"sequential\"\n",
      "_________________________________________________________________\n",
      "Layer (type)                 Output Shape              Param #   \n",
      "=================================================================\n",
      "dense (Dense)                (None, 48)                624       \n",
      "_________________________________________________________________\n",
      "dense_1 (Dense)              (None, 24)                1176      \n",
      "_________________________________________________________________\n",
      "dense_2 (Dense)              (None, 12)                300       \n",
      "_________________________________________________________________\n",
      "dense_3 (Dense)              (None, 2)                 26        \n",
      "=================================================================\n",
      "Total params: 2,126\n",
      "Trainable params: 2,126\n",
      "Non-trainable params: 0\n",
      "_________________________________________________________________\n"
     ]
    }
   ],
   "source": [
    "# 5.8 와인 데이터셋 분류 모델 생성\n",
    "import tensorflow as tf\n",
    "model = tf.keras.Sequential([\n",
    "    tf.keras.layers.Dense(units=48, activation='relu', input_shape=(12,)),\n",
    "    tf.keras.layers.Dense(units=24, activation='relu'),\n",
    "    tf.keras.layers.Dense(units=12, activation='relu'),\n",
    "    \n",
    "    # 분류 모델이기 때문에 최종 단에 있어서는 softmax를 활용을 해야 함!!!!\n",
    "    tf.keras.layers.Dense(units=2, activation='softmax')\n",
    "])\n",
    "\n",
    "model.compile(optimizer=tf.keras.optimizers.Adam(lr=0.07), loss='categorical_crossentropy', metrics=['accuracy'])\n",
    "\n",
    "model.summary()"
   ]
  },
  {
   "cell_type": "code",
   "execution_count": 11,
   "metadata": {
    "colab": {
     "base_uri": "https://localhost:8080/",
     "height": 279
    },
    "colab_type": "code",
    "executionInfo": {
     "elapsed": 841,
     "status": "ok",
     "timestamp": 1575817253770,
     "user": {
      "displayName": "Hwanhee Kim",
      "photoUrl": "https://lh3.googleusercontent.com/a-/AAuE7mAJC9PPBoQ91glDwFjxm3TlW5EqGy0BIAJ52D-ekw=s64",
      "userId": "04863080312902369470"
     },
     "user_tz": -540
    },
    "id": "lMqy51ry5htm",
    "outputId": "e9332fb3-d14d-4998-da81-72f761fce2f4"
   },
   "outputs": [
    {
     "data": {
      "image/png": "[encoded data removed]",
      "text/plain": [
       "<Figure size 432x288 with 1 Axes>"
      ]
     },
     "metadata": {
      "needs_background": "light"
     },
     "output_type": "display_data"
    }
   ],
   "source": [
    "# 그림 5.5 출력 코드\n",
    "import matplotlib.pyplot as plt\n",
    "import math\n",
    "import numpy as np\n",
    "x = np.arange(-2, 2, 0.01)\n",
    "e_x = math.e ** x\n",
    "\n",
    "plt.axhline(0, color='gray')\n",
    "plt.axvline(0, color='gray')\n",
    "plt.plot(x, x, 'b-', label='y=x')\n",
    "plt.plot(x, e_x, 'g.', label='y=e^x')\n",
    "plt.xlabel('X')\n",
    "plt.ylabel('Y')\n",
    "plt.legend()\n",
    "plt.show()"
   ]
  },
  {
   "cell_type": "code",
   "execution_count": 12,
   "metadata": {
    "colab": {
     "base_uri": "https://localhost:8080/",
     "height": 935
    },
    "colab_type": "code",
    "executionInfo": {
     "elapsed": 9435,
     "status": "ok",
     "timestamp": 1575817265364,
     "user": {
      "displayName": "Hwanhee Kim",
      "photoUrl": "https://lh3.googleusercontent.com/a-/AAuE7mAJC9PPBoQ91glDwFjxm3TlW5EqGy0BIAJ52D-ekw=s64",
      "userId": "04863080312902369470"
     },
     "user_tz": -540
    },
    "id": "hNXtNSwUxXr4",
    "outputId": "4c1bcd7b-bb00-4303-e58a-c9bea05a8031"
   },
   "outputs": [
    {
     "name": "stdout",
     "output_type": "stream",
     "text": [
      "Train on 3897 samples, validate on 1300 samples\n",
      "Epoch 1/25\n",
      "3897/3897 [==============================] - 2s 443us/sample - loss: 0.1457 - accuracy: 0.9415 - val_loss: 0.0530 - val_accuracy: 0.9885\n",
      "Epoch 2/25\n",
      "3897/3897 [==============================] - 0s 49us/sample - loss: 0.0556 - accuracy: 0.9838 - val_loss: 0.0398 - val_accuracy: 0.9877\n",
      "Epoch 3/25\n",
      "3897/3897 [==============================] - 0s 49us/sample - loss: 0.0498 - accuracy: 0.9854 - val_loss: 0.0407 - val_accuracy: 0.9915\n",
      "Epoch 4/25\n",
      "3897/3897 [==============================] - 0s 50us/sample - loss: 0.0585 - accuracy: 0.9833 - val_loss: 0.0406 - val_accuracy: 0.9900\n",
      "Epoch 5/25\n",
      "3897/3897 [==============================] - 0s 49us/sample - loss: 0.0406 - accuracy: 0.9877 - val_loss: 0.0443 - val_accuracy: 0.9908\n",
      "Epoch 6/25\n",
      "3897/3897 [==============================] - 0s 50us/sample - loss: 0.0494 - accuracy: 0.9877 - val_loss: 0.0361 - val_accuracy: 0.9923\n",
      "Epoch 7/25\n",
      "3897/3897 [==============================] - 0s 50us/sample - loss: 0.0497 - accuracy: 0.9854 - val_loss: 0.0296 - val_accuracy: 0.9923\n",
      "Epoch 8/25\n",
      "3897/3897 [==============================] - 0s 49us/sample - loss: 0.0352 - accuracy: 0.9900 - val_loss: 0.1660 - val_accuracy: 0.9900\n",
      "Epoch 9/25\n",
      "3897/3897 [==============================] - 0s 49us/sample - loss: 0.0444 - accuracy: 0.9897 - val_loss: 0.0303 - val_accuracy: 0.9946\n",
      "Epoch 10/25\n",
      "3897/3897 [==============================] - 0s 49us/sample - loss: 0.0452 - accuracy: 0.9874 - val_loss: 0.0374 - val_accuracy: 0.9908\n",
      "Epoch 11/25\n",
      "3897/3897 [==============================] - 0s 50us/sample - loss: 0.0289 - accuracy: 0.9933 - val_loss: 0.0358 - val_accuracy: 0.9923\n",
      "Epoch 12/25\n",
      "3897/3897 [==============================] - 0s 50us/sample - loss: 0.0483 - accuracy: 0.9867 - val_loss: 0.0327 - val_accuracy: 0.9954\n",
      "Epoch 13/25\n",
      "3897/3897 [==============================] - 0s 50us/sample - loss: 0.0305 - accuracy: 0.9918 - val_loss: 0.0343 - val_accuracy: 0.9946\n",
      "Epoch 14/25\n",
      "3897/3897 [==============================] - 0s 49us/sample - loss: 0.0275 - accuracy: 0.9933 - val_loss: 0.0526 - val_accuracy: 0.9908\n",
      "Epoch 15/25\n",
      "3897/3897 [==============================] - 0s 51us/sample - loss: 0.0365 - accuracy: 0.9902 - val_loss: 0.0528 - val_accuracy: 0.9892\n",
      "Epoch 16/25\n",
      "3897/3897 [==============================] - 0s 50us/sample - loss: 0.0336 - accuracy: 0.9902 - val_loss: 0.0670 - val_accuracy: 0.9746\n",
      "Epoch 17/25\n",
      "3897/3897 [==============================] - 0s 51us/sample - loss: 0.0399 - accuracy: 0.9877 - val_loss: 0.0427 - val_accuracy: 0.9885\n",
      "Epoch 18/25\n",
      "3897/3897 [==============================] - 0s 50us/sample - loss: 0.0353 - accuracy: 0.9913 - val_loss: 0.0477 - val_accuracy: 0.9938\n",
      "Epoch 19/25\n",
      "3897/3897 [==============================] - 0s 50us/sample - loss: 0.0244 - accuracy: 0.9931 - val_loss: 0.0448 - val_accuracy: 0.9946\n",
      "Epoch 20/25\n",
      "3897/3897 [==============================] - 0s 50us/sample - loss: 0.0245 - accuracy: 0.9944 - val_loss: 0.0452 - val_accuracy: 0.9946\n",
      "Epoch 21/25\n",
      "3897/3897 [==============================] - 0s 50us/sample - loss: 0.0265 - accuracy: 0.9933 - val_loss: 0.0578 - val_accuracy: 0.9900\n",
      "Epoch 22/25\n",
      "3897/3897 [==============================] - 0s 52us/sample - loss: 0.0421 - accuracy: 0.9879 - val_loss: 0.0611 - val_accuracy: 0.9900\n",
      "Epoch 23/25\n",
      "3897/3897 [==============================] - 0s 51us/sample - loss: 0.0270 - accuracy: 0.9944 - val_loss: 0.0570 - val_accuracy: 0.9892\n",
      "Epoch 24/25\n",
      "3897/3897 [==============================] - 0s 49us/sample - loss: 0.0363 - accuracy: 0.9923 - val_loss: 0.0384 - val_accuracy: 0.9946\n",
      "Epoch 25/25\n",
      "3897/3897 [==============================] - 0s 49us/sample - loss: 0.0259 - accuracy: 0.9938 - val_loss: 0.0549 - val_accuracy: 0.9900\n"
     ]
    }
   ],
   "source": [
    "# 5.9 와인 데이터셋 분류 모델 학습\n",
    "history = model.fit(train_X, train_Y, epochs=25, batch_size=32, validation_split=0.25)"
   ]
  },
  {
   "cell_type": "code",
   "execution_count": 13,
   "metadata": {
    "colab": {
     "base_uri": "https://localhost:8080/",
     "height": 283
    },
    "colab_type": "code",
    "executionInfo": {
     "elapsed": 912,
     "status": "ok",
     "timestamp": 1575817392321,
     "user": {
      "displayName": "Hwanhee Kim",
      "photoUrl": "https://lh3.googleusercontent.com/a-/AAuE7mAJC9PPBoQ91glDwFjxm3TlW5EqGy0BIAJ52D-ekw=s64",
      "userId": "04863080312902369470"
     },
     "user_tz": -540
    },
    "id": "hsI7XviYXZ39",
    "outputId": "5176b51c-bedb-44ed-d00e-73de4fdbeb95"
   },
   "outputs": [
    {
     "data": {
      "image/png": "[encoded data removed]",
      "text/plain": [
       "<Figure size 864x288 with 2 Axes>"
      ]
     },
     "metadata": {
      "needs_background": "light"
     },
     "output_type": "display_data"
    }
   ],
   "source": [
    "# 5.10 분류 모델 학습 결과 시각화\n",
    "import matplotlib.pyplot as plt\n",
    "plt.figure(figsize=(12, 4))\n",
    "\n",
    "plt.subplot(1, 2, 1)\n",
    "plt.plot(history.history['loss'], 'b-', label='loss')\n",
    "plt.plot(history.history['val_loss'], 'r--', label='val_loss')\n",
    "plt.xlabel('Epoch')\n",
    "plt.legend()\n",
    "\n",
    "plt.subplot(1, 2, 2)\n",
    "plt.plot(history.history['accuracy'], 'g-', label='accuracy')\n",
    "plt.plot(history.history['val_accuracy'], 'k--', label='val_accuracy')\n",
    "plt.xlabel('Epoch')\n",
    "plt.ylim(0.7, 1)\n",
    "plt.legend()\n",
    "\n",
    "plt.show()"
   ]
  },
  {
   "cell_type": "code",
   "execution_count": 14,
   "metadata": {
    "colab": {
     "base_uri": "https://localhost:8080/",
     "height": 73
    },
    "colab_type": "code",
    "executionInfo": {
     "elapsed": 743,
     "status": "ok",
     "timestamp": 1575817499680,
     "user": {
      "displayName": "Hwanhee Kim",
      "photoUrl": "https://lh3.googleusercontent.com/a-/AAuE7mAJC9PPBoQ91glDwFjxm3TlW5EqGy0BIAJ52D-ekw=s64",
      "userId": "04863080312902369470"
     },
     "user_tz": -540
    },
    "id": "MyFEtZSw19Ol",
    "outputId": "3a624ca8-d9dd-4498-f7b5-2e5f0ba5b257",
    "scrolled": true
   },
   "outputs": [
    {
     "name": "stdout",
     "output_type": "stream",
     "text": [
      "\r",
      "1300/1 [========================================================================================================================================================================================================================================================================================================================================================================================================================================================================================================================================================================================================================================================================================================================================================================================================================================================================================================================================================================================================================================================================================================================================================================================================================================================================================================================================================================================================================================================================================================================================================================================================================================================================================================================================================================================================================================================================================================================================================================================================================================================================================================================================================================================================================================================================================================================================================================================================================================================================================================================================================================================================================================================================================================================================================================================================================================================================================================================================================================================================================================================================================================================================================================================================================================================================================================================================================================================================================================================================================================================================================================================================================================================================================================================================================================================================================================================================================================================================================================================================================================================================================================================================================================================================================================================================================================================================================================================================================================================================================================================================================================================================================================================================================================================================================================================================================================================================================================================================================================================================================================================================================================================================================================================================================================================================================================================================================================================================================================================================================================================================================================================================================================================================================================================================================================================================================================================================================================================================================================================================================================================================================================================================================================================================================================================================================================================================================================================================================================================================================================================================================================================================================================================================================================================================================================================================================================================================================================================================================================================================================================================================================================================================================================================================================================================================================================================================================================================================================================================================================================================================================================================================================================================================================================================================================================================================================================================================================================================================================================================================================================================================================================================================================================================================================================================================================================================================================================================================================================================================================================================================================================================================================================================================================================================================================================================================================================================================================================================================================================================================================================================================================================================================================================================================================================================================================================================================================================================================================================================================================================================================================================================================================================================================================================================================================================================================================================================================================================================================================================================================================================================================================================================================================================================================================================================================================================================================================================================================================================================================================================================================================================================================================================================================================================================================================================================================================================================================================================================================================================================================================================================================================================================================================================================================================================================================================================================================================================================================================================================================================================================================================================================================================================================================================================================================================================================================================================================================================================================================================================================================================================================================================================================================================================================================================================================================================================================================================================================================================================================================================================================================================================================================================================================================================================================================================================================================================================================================================================================================================================================================================================================================================================================================================================================================================================================================================================================================================================================================================================================================================================================================================================================================================================================================================================================================================================================================================================================================================================================================================================================================================================================================================================================================================================================================================================================================================================================================================================================================================================================================================================================================================================================================================================================================================================================================================================================================================================================================================================================================================================================================================================================================================================================================================================================================================================================================================================================================================================================================================================================================================================================================================================================================================================================================================================================================================================================================================================================================================================================================================================================================================================================================================================================================================================================================================================================================================================================================================================================================================================================================================================================================================================================================================================================================================================================================================================================================================================================================================================================================================================================================================================================================================================================================================================================================================================================================================================================================================================================================================================================================================================================================================================================================================================================================================================================================================================================================================================================================================================================================================================================================================================================================================================================================================================================================================================================================================================================================================================================================================================================================================================================================================================================================================================================================================================================================================================================================================================================================================================================================================================================================================================================================================================================================================================================================================================================================================================================================================================================================================================================================================================================================================================================================================================================================================================================================================================================================================================================================================================================================================================================================================================================================================================================================================================================================================================================================================================================================================================================================================================================================================================================================================================================================================================================================================================================================================================================================================================================================================================================================================================================================================================================================================================================================================================================================================================================================================================================================================================================================================================================================================================================================================================================================================================================================================================================================================================================================================================================================================================================================================================================================================================================================================================================================================================================================================================================================================================================================================================================================================================================================================================================================================================================================================================================================================================================================================================================================================================================================================================================================================================================================================================================================================================================================================================================================================================================================================================================================================================================================================================================================================================================================================================================================================================================================================================================================================================================================================================================================================================================================================================================================================================================================================================================================================================================================================================================================================================================================================================================================================================================================================================================================================================================================================================================================================================================================================================================================================================================================================================================================================================================================================================================================================================================================================================================================================================================================================================================================================================================================================================================================================================================================================================================================================================================================================================================================================================================================================================================================================================================================================================================================================================================================================================================================================================================================================================================================================================================================================================================================================================================================================================================================================================================================================================================================================================================================================================================================================================================================================================================================================================================================================================================================================================================================================================================================================================================================================================================================================================================================================================================================================================================================================================================================================================================================================================================================================================================================================================================================================================================================================================================================================================================================================================================================================================================================================================================================================================================================================================================================================================================================================================================================================================================================================================================================================================================================================================================================================================================================================================================================================================================================================================================================================================================================================================================================================================================================================================================================================================================================================================================================================================================================================================================================================================================================================================================================================================================================================================================================================================================================================================================================================================================================================================================================================================================================================================================================================================================================================================================================================================================================================================================================================================================================================================================================================================================================================================================================================================================================================================================================================================================================================================================================================================================================================================================================================================================================================================================================================================================================================================================================================================================================================================================================================================================================================================================================================================================================================================================================================================================================================================================================================================================================================================================================================================================================================================================================================================================================================================================================================================================================================================================================================================================================================================================================================================================================================================================================================================================================================================================================================================================================================================================================================================================================================================================================================================================================================================================================================================================================================================================================================================================================================================================================================================================================================================================================================================================================================================================================================================================================================================================================================================================================================================================================================================================================================================================================================================================================================================================================================================================================================================================================================================================================================================================================================================================================================================================================================================================================================================================================================================================================================================================================================================================================================================================================================================================================================================================================================================================================================================================================================================================================================================================================================================================================================================================================================================================================================================================================================================================================================================================================================================================================================================================================================================================================================================================================================================================================================================================================================================================================================================================================================================================================================================================================================================================================================================================================================================================================================================================================================================================================================================================================================================================================================================================================================================================================================================================================================================================================================================================================================================================================================================================================================================================================================================================================================================================================================================================================================================================================================================================================================================================================================================================================================================================================================================================================================================================================================================================================================================================================================================================================================================================================================================================================================================================================================================================================================================================================================================================================================================================================================================================================================================================================================================================================================================================================================================================================================================================================================================================================================================================================================================================================================================================================================================================================================================================================================================================================================================================================================================================================================================================================================================================================================================================================================================================================================================================================================================================================================================================================================================================================================================================================================] - 0s 27us/sample - loss: 0.0268 - accuracy: 0.9862\n"
     ]
    },
    {
     "data": {
      "text/plain": [
       "[0.049870119982112486, 0.98615384]"
      ]
     },
     "execution_count": 14,
     "metadata": {},
     "output_type": "execute_result"
    }
   ],
   "source": [
    "# 5.11 분류 모델 평가\n",
    "model.evaluate(test_X, test_Y)"
   ]
  },
  {
   "cell_type": "code",
   "execution_count": null,
   "metadata": {},
   "outputs": [],
   "source": []
  },
  {
   "cell_type": "markdown",
   "metadata": {
    "colab_type": "text",
    "id": "UgwdVhcFIB97"
   },
   "source": [
    "# 5.2 다항 분류 : category의 종류가 3개 이상인 경우.."
   ]
  },
  {
   "cell_type": "code",
   "execution_count": 17,
   "metadata": {
    "colab": {
     "base_uri": "https://localhost:8080/",
     "height": 323
    },
    "colab_type": "code",
    "executionInfo": {
     "elapsed": 1121,
     "status": "ok",
     "timestamp": 1575817624050,
     "user": {
      "displayName": "Hwanhee Kim",
      "photoUrl": "https://lh3.googleusercontent.com/a-/AAuE7mAJC9PPBoQ91glDwFjxm3TlW5EqGy0BIAJ52D-ekw=s64",
      "userId": "04863080312902369470"
     },
     "user_tz": -540
    },
    "id": "ML2KLPtsu480",
    "outputId": "18578ad7-baf4-4ee5-b850-19dee39ccb51"
   },
   "outputs": [
    {
     "name": "stdout",
     "output_type": "stream",
     "text": [
      "count    6497.000000\n",
      "mean        5.818378\n",
      "std         0.873255\n",
      "min         3.000000\n",
      "25%         5.000000\n",
      "50%         6.000000\n",
      "75%         6.000000\n",
      "max         9.000000\n",
      "Name: quality, dtype: float64\n",
      "6    2836\n",
      "5    2138\n",
      "7    1079\n",
      "4     216\n",
      "8     193\n",
      "3      30\n",
      "9       5\n",
      "Name: quality, dtype: int64\n"
     ]
    }
   ],
   "source": [
    "# 5.12 품질 데이터 확인\n",
    "print(wine['quality'].describe())\n",
    "print(wine['quality'].value_counts())"
   ]
  },
  {
   "cell_type": "code",
   "execution_count": 18,
   "metadata": {
    "colab": {
     "base_uri": "https://localhost:8080/",
     "height": 265
    },
    "colab_type": "code",
    "executionInfo": {
     "elapsed": 785,
     "status": "ok",
     "timestamp": 1575817625762,
     "user": {
      "displayName": "Hwanhee Kim",
      "photoUrl": "https://lh3.googleusercontent.com/a-/AAuE7mAJC9PPBoQ91glDwFjxm3TlW5EqGy0BIAJ52D-ekw=s64",
      "userId": "04863080312902369470"
     },
     "user_tz": -540
    },
    "id": "388geJrTID5v",
    "outputId": "ea3e4760-fffd-4503-cdb4-330d3cffd0cb"
   },
   "outputs": [
    {
     "data": {
      "image/png": "[encoded data removed]",
      "text/plain": [
       "<Figure size 432x288 with 1 Axes>"
      ]
     },
     "metadata": {
      "needs_background": "light"
     },
     "output_type": "display_data"
    }
   ],
   "source": [
    "# 5.13 품질 히스토그램 시각화\n",
    "import matplotlib.pyplot as plt\n",
    "plt.hist(wine['quality'], bins=7, rwidth=0.8)\n",
    "plt.show()"
   ]
  },
  {
   "cell_type": "code",
   "execution_count": 19,
   "metadata": {
    "colab": {
     "base_uri": "https://localhost:8080/",
     "height": 251
    },
    "colab_type": "code",
    "executionInfo": {
     "elapsed": 773,
     "status": "ok",
     "timestamp": 1575817629285,
     "user": {
      "displayName": "Hwanhee Kim",
      "photoUrl": "https://lh3.googleusercontent.com/a-/AAuE7mAJC9PPBoQ91glDwFjxm3TlW5EqGy0BIAJ52D-ekw=s64",
      "userId": "04863080312902369470"
     },
     "user_tz": -540
    },
    "id": "X3M81v8wtcvQ",
    "outputId": "00f88252-f04d-400f-ae51-54b5fb071b1a"
   },
   "outputs": [
    {
     "name": "stdout",
     "output_type": "stream",
     "text": [
      "count    6497.000000\n",
      "mean        0.829614\n",
      "std         0.731124\n",
      "min         0.000000\n",
      "25%         0.000000\n",
      "50%         1.000000\n",
      "75%         1.000000\n",
      "max         2.000000\n",
      "Name: new_quality, dtype: float64\n",
      "1.0    2836\n",
      "0.0    2384\n",
      "2.0    1277\n",
      "Name: new_quality, dtype: int64\n"
     ]
    }
   ],
   "source": [
    "# 5.14 품질을 3개의 범주(좋음, 보통, 나쁨)로 재분류\n",
    "wine.loc[wine['quality'] <= 5, 'new_quality'] = 0\n",
    "wine.loc[wine['quality'] == 6, 'new_quality'] = 1\n",
    "wine.loc[wine['quality'] >= 7, 'new_quality'] = 2\n",
    "\n",
    "print(wine['new_quality'].describe())\n",
    "print(wine['new_quality'].value_counts())"
   ]
  },
  {
   "cell_type": "code",
   "execution_count": 20,
   "metadata": {
    "colab": {},
    "colab_type": "code",
    "id": "luLAFx2rv2Sc"
   },
   "outputs": [],
   "source": [
    "# 5.15 데이터 정규화 및 train, test 데이터 분리\n",
    "del wine['quality']\n",
    "wine_norm = (wine - wine.min()) / (wine.max() - wine.min())\n",
    "wine_shuffle = wine_norm.sample(frac=1)\n",
    "wine_np = wine_shuffle.to_numpy()\n",
    "\n",
    "train_idx = int(len(wine_np) * 0.8)\n",
    "train_X, train_Y = wine_np[:train_idx, :-1], wine_np[:train_idx, -1]\n",
    "test_X, test_Y = wine_np[train_idx:, :-1], wine_np[train_idx:, -1]\n",
    "\n",
    "\n",
    "train_Y = tf.keras.utils.to_categorical(train_Y, num_classes=3)\n",
    "test_Y = tf.keras.utils.to_categorical(test_Y, num_classes=3)"
   ]
  },
  {
   "cell_type": "code",
   "execution_count": 21,
   "metadata": {
    "colab": {
     "base_uri": "https://localhost:8080/",
     "height": 935
    },
    "colab_type": "code",
    "executionInfo": {
     "elapsed": 9015,
     "status": "ok",
     "timestamp": 1575817641554,
     "user": {
      "displayName": "Hwanhee Kim",
      "photoUrl": "https://lh3.googleusercontent.com/a-/AAuE7mAJC9PPBoQ91glDwFjxm3TlW5EqGy0BIAJ52D-ekw=s64",
      "userId": "04863080312902369470"
     },
     "user_tz": -540
    },
    "id": "IwbAl3-oyZag",
    "outputId": "bd4751ee-f23a-4a47-bd7c-2a2035ebfc24"
   },
   "outputs": [
    {
     "name": "stdout",
     "output_type": "stream",
     "text": [
      "Train on 3897 samples, validate on 1300 samples\n",
      "Epoch 1/25\n",
      "3897/3897 [==============================] - 1s 263us/sample - loss: 0.4671 - accuracy: 0.7973 - val_loss: 0.4165 - val_accuracy: 0.8215\n",
      "Epoch 2/25\n",
      "3897/3897 [==============================] - 0s 83us/sample - loss: 0.4260 - accuracy: 0.7983 - val_loss: 0.3835 - val_accuracy: 0.8223\n",
      "Epoch 3/25\n",
      "3897/3897 [==============================] - 0s 78us/sample - loss: 0.4275 - accuracy: 0.8029 - val_loss: 0.3794 - val_accuracy: 0.8315\n",
      "Epoch 4/25\n",
      "3897/3897 [==============================] - 0s 88us/sample - loss: 0.4228 - accuracy: 0.8019 - val_loss: 0.3802 - val_accuracy: 0.8215\n",
      "Epoch 5/25\n",
      "3897/3897 [==============================] - 0s 84us/sample - loss: 0.4261 - accuracy: 0.7939 - val_loss: 0.4086 - val_accuracy: 0.8223\n",
      "Epoch 6/25\n",
      "3897/3897 [==============================] - 0s 88us/sample - loss: 0.4166 - accuracy: 0.8006 - val_loss: 0.3832 - val_accuracy: 0.8246\n",
      "Epoch 7/25\n",
      "3897/3897 [==============================] - 0s 86us/sample - loss: 0.4106 - accuracy: 0.8070 - val_loss: 0.4282 - val_accuracy: 0.8362\n",
      "Epoch 8/25\n",
      "3897/3897 [==============================] - 0s 83us/sample - loss: 0.4251 - accuracy: 0.7986 - val_loss: 0.3804 - val_accuracy: 0.8262\n",
      "Epoch 9/25\n",
      "3897/3897 [==============================] - 0s 80us/sample - loss: 0.4106 - accuracy: 0.7998 - val_loss: 0.3710 - val_accuracy: 0.8323\n",
      "Epoch 10/25\n",
      "3897/3897 [==============================] - 0s 83us/sample - loss: 0.4054 - accuracy: 0.8032 - val_loss: 0.3830 - val_accuracy: 0.8223\n",
      "Epoch 11/25\n",
      "3897/3897 [==============================] - 0s 123us/sample - loss: 0.4103 - accuracy: 0.8037 - val_loss: 0.3754 - val_accuracy: 0.8392\n",
      "Epoch 12/25\n",
      "3897/3897 [==============================] - 1s 135us/sample - loss: 0.4109 - accuracy: 0.8055 - val_loss: 0.3855 - val_accuracy: 0.8215\n",
      "Epoch 13/25\n",
      "3897/3897 [==============================] - 0s 94us/sample - loss: 0.4086 - accuracy: 0.8081 - val_loss: 0.3891 - val_accuracy: 0.8223\n",
      "Epoch 14/25\n",
      "3897/3897 [==============================] - 0s 86us/sample - loss: 0.4018 - accuracy: 0.8093 - val_loss: 0.3952 - val_accuracy: 0.8223\n",
      "Epoch 15/25\n",
      "3897/3897 [==============================] - 0s 79us/sample - loss: 0.4008 - accuracy: 0.8168 - val_loss: 0.3703 - val_accuracy: 0.8331\n",
      "Epoch 16/25\n",
      "3897/3897 [==============================] - 0s 82us/sample - loss: 0.4013 - accuracy: 0.8106 - val_loss: 0.3811 - val_accuracy: 0.8254\n",
      "Epoch 17/25\n",
      "3897/3897 [==============================] - 0s 78us/sample - loss: 0.4167 - accuracy: 0.8019 - val_loss: 0.3829 - val_accuracy: 0.8223\n",
      "Epoch 18/25\n",
      "3897/3897 [==============================] - 0s 86us/sample - loss: 0.4052 - accuracy: 0.8106 - val_loss: 0.3815 - val_accuracy: 0.8438\n",
      "Epoch 19/25\n",
      "3897/3897 [==============================] - 0s 95us/sample - loss: 0.4116 - accuracy: 0.8083 - val_loss: 0.3709 - val_accuracy: 0.8377\n",
      "Epoch 20/25\n",
      "3897/3897 [==============================] - 0s 78us/sample - loss: 0.3996 - accuracy: 0.8060 - val_loss: 0.3801 - val_accuracy: 0.8315\n",
      "Epoch 21/25\n",
      "3897/3897 [==============================] - 0s 79us/sample - loss: 0.4011 - accuracy: 0.8024 - val_loss: 0.3842 - val_accuracy: 0.8354\n",
      "Epoch 22/25\n",
      "3897/3897 [==============================] - 0s 76us/sample - loss: 0.4009 - accuracy: 0.8109 - val_loss: 0.3724 - val_accuracy: 0.8392\n",
      "Epoch 23/25\n",
      "3897/3897 [==============================] - 0s 83us/sample - loss: 0.3990 - accuracy: 0.8088 - val_loss: 0.3866 - val_accuracy: 0.8392\n",
      "Epoch 24/25\n",
      "3897/3897 [==============================] - 0s 104us/sample - loss: 0.3997 - accuracy: 0.8140 - val_loss: 0.3829 - val_accuracy: 0.8292\n",
      "Epoch 25/25\n",
      "3897/3897 [==============================] - 0s 94us/sample - loss: 0.3986 - accuracy: 0.8081 - val_loss: 0.3730 - val_accuracy: 0.8369\n"
     ]
    }
   ],
   "source": [
    "# 5.16 와인 데이터셋 다항 분류 모델 생성 및 학습\n",
    "model = tf.keras.Sequential([\n",
    "    tf.keras.layers.Dense(units=48, activation='relu', input_shape=(12,)),\n",
    "    tf.keras.layers.Dense(units=24, activation='relu'),\n",
    "    tf.keras.layers.Dense(units=12, activation='relu'),\n",
    "    tf.keras.layers.Dense(units=3, activation='softmax')\n",
    "])\n",
    "\n",
    "model.compile(optimizer=tf.keras.optimizers.Adam(lr=0.07), loss='categorical_crossentropy', metrics=['accuracy'])\n",
    "\n",
    "history = model.fit(train_X, train_Y, epochs=25, batch_size=32, validation_split=0.25)"
   ]
  },
  {
   "cell_type": "code",
   "execution_count": 22,
   "metadata": {
    "colab": {
     "base_uri": "https://localhost:8080/",
     "height": 283
    },
    "colab_type": "code",
    "executionInfo": {
     "elapsed": 1464,
     "status": "ok",
     "timestamp": 1575817763330,
     "user": {
      "displayName": "Hwanhee Kim",
      "photoUrl": "https://lh3.googleusercontent.com/a-/AAuE7mAJC9PPBoQ91glDwFjxm3TlW5EqGy0BIAJ52D-ekw=s64",
      "userId": "04863080312902369470"
     },
     "user_tz": -540
    },
    "id": "KxKz62bRymuu",
    "outputId": "56689585-9e02-41ed-c2d7-4ea6e2249177"
   },
   "outputs": [
    {
     "data": {
      "image/png": "[encoded data removed]",
      "text/plain": [
       "<Figure size 864x288 with 2 Axes>"
      ]
     },
     "metadata": {
      "needs_background": "light"
     },
     "output_type": "display_data"
    }
   ],
   "source": [
    "# 5.17 다항 분류 모델 학습 결과 시각화\n",
    "import matplotlib.pyplot as plt\n",
    "plt.figure(figsize=(12, 4))\n",
    "\n",
    "plt.subplot(1, 2, 1)\n",
    "plt.plot(history.history['loss'], 'b-', label='loss')\n",
    "plt.plot(history.history['val_loss'], 'r--', label='val_loss')\n",
    "plt.xlabel('Epoch')\n",
    "plt.legend()\n",
    "\n",
    "plt.subplot(1, 2, 2)\n",
    "plt.plot(history.history['accuracy'], 'g-', label='accuracy')\n",
    "plt.plot(history.history['val_accuracy'], 'k--', label='val_accuracy')\n",
    "plt.xlabel('Epoch')\n",
    "plt.ylim(0.7, 1)\n",
    "plt.legend()\n",
    "\n",
    "plt.show()"
   ]
  },
  {
   "cell_type": "code",
   "execution_count": 23,
   "metadata": {
    "colab": {
     "base_uri": "https://localhost:8080/",
     "height": 73
    },
    "colab_type": "code",
    "executionInfo": {
     "elapsed": 864,
     "status": "ok",
     "timestamp": 1575817814879,
     "user": {
      "displayName": "Hwanhee Kim",
      "photoUrl": "https://lh3.googleusercontent.com/a-/AAuE7mAJC9PPBoQ91glDwFjxm3TlW5EqGy0BIAJ52D-ekw=s64",
      "userId": "04863080312902369470"
     },
     "user_tz": -540
    },
    "id": "Z9HwDTedynEK",
    "outputId": "6e33fc2b-dc92-4b7f-82a4-dd02614c9155"
   },
   "outputs": [
    {
     "name": "stdout",
     "output_type": "stream",
     "text": [
      "1300/1300 [==============================] - 0s 74us/sample - loss: 0.3741 - accuracy: 0.8208\n"
     ]
    },
    {
     "data": {
      "text/plain": [
       "[0.37413587350111743, 0.82076925]"
      ]
     },
     "execution_count": 23,
     "metadata": {},
     "output_type": "execute_result"
    }
   ],
   "source": [
    "# 5.18 다항 분류 모델 평가\n",
    "model.evaluate(test_X, test_Y)"
   ]
  },
  {
   "cell_type": "markdown",
   "metadata": {},
   "source": [
    "---> 이러한 경우에는 좀 더 향상을 할 수 있는 방법을 고민을 해야한다. 네트워크 구조 변경, 학습률 변경 등..."
   ]
  },
  {
   "cell_type": "markdown",
   "metadata": {
    "colab_type": "text",
    "id": "Lv58_w5cIEJC"
   },
   "source": [
    "# 5.3 Fashion MNIST"
   ]
  },
  {
   "cell_type": "markdown",
   "metadata": {},
   "source": [
    "<img src=\"img/img_17.png\">"
   ]
  },
  {
   "cell_type": "markdown",
   "metadata": {},
   "source": [
    "<img src=\"img/img_18.png\">"
   ]
  },
  {
   "cell_type": "code",
   "execution_count": 15,
   "metadata": {
    "colab": {
     "base_uri": "https://localhost:8080/",
     "height": 179
    },
    "colab_type": "code",
    "executionInfo": {
     "elapsed": 1970,
     "status": "ok",
     "timestamp": 1575817878130,
     "user": {
      "displayName": "Hwanhee Kim",
      "photoUrl": "https://lh3.googleusercontent.com/a-/AAuE7mAJC9PPBoQ91glDwFjxm3TlW5EqGy0BIAJ52D-ekw=s64",
      "userId": "04863080312902369470"
     },
     "user_tz": -540
    },
    "id": "CRAtra4MIHy8",
    "outputId": "32093cee-a6f9-43da-c128-6d1cc08a71a2"
   },
   "outputs": [
    {
     "name": "stdout",
     "output_type": "stream",
     "text": [
      "Downloading data from https://storage.googleapis.com/tensorflow/tf-keras-datasets/train-labels-idx1-ubyte.gz\n",
      "32768/29515 [=================================] - 0s 2us/step\n",
      "Downloading data from https://storage.googleapis.com/tensorflow/tf-keras-datasets/train-images-idx3-ubyte.gz\n",
      "26427392/26421880 [==============================] - 3s 0us/step\n",
      "Downloading data from https://storage.googleapis.com/tensorflow/tf-keras-datasets/t10k-labels-idx1-ubyte.gz\n",
      "8192/5148 [===============================================] - 0s 0us/step\n",
      "Downloading data from https://storage.googleapis.com/tensorflow/tf-keras-datasets/t10k-images-idx3-ubyte.gz\n",
      "4423680/4422102 [==============================] - 1s 0us/step\n",
      "60000 10000\n"
     ]
    }
   ],
   "source": [
    "# 5.19 Fashion MNIST 데이터셋 불러오기\n",
    "fashion_mnist = tf.keras.datasets.fashion_mnist\n",
    "(train_X, train_Y), (test_X, test_Y) = fashion_mnist.load_data()\n",
    "\n",
    "print(len(train_X), len(test_X))"
   ]
  },
  {
   "cell_type": "code",
   "execution_count": 16,
   "metadata": {
    "colab": {
     "base_uri": "https://localhost:8080/",
     "height": 283
    },
    "colab_type": "code",
    "executionInfo": {
     "elapsed": 868,
     "status": "ok",
     "timestamp": 1575817878131,
     "user": {
      "displayName": "Hwanhee Kim",
      "photoUrl": "https://lh3.googleusercontent.com/a-/AAuE7mAJC9PPBoQ91glDwFjxm3TlW5EqGy0BIAJ52D-ekw=s64",
      "userId": "04863080312902369470"
     },
     "user_tz": -540
    },
    "id": "otHQI8i39n1w",
    "outputId": "40c27e7f-df8d-456d-8096-d6ca574f0ef3"
   },
   "outputs": [
    {
     "data": {
      "image/png": "[encoded data removed]",
      "text/plain": [
       "<Figure size 432x288 with 2 Axes>"
      ]
     },
     "metadata": {
      "needs_background": "light"
     },
     "output_type": "display_data"
    },
    {
     "name": "stdout",
     "output_type": "stream",
     "text": [
      "9\n"
     ]
    }
   ],
   "source": [
    "# 5.20 데이터 확인\n",
    "import matplotlib.pyplot as plt\n",
    "plt.imshow(train_X[0], cmap='gray')\n",
    "plt.colorbar()\n",
    "plt.show()\n",
    "\n",
    "print(train_Y[0])"
   ]
  },
  {
   "cell_type": "code",
   "execution_count": 17,
   "metadata": {
    "colab": {
     "base_uri": "https://localhost:8080/",
     "height": 1000
    },
    "colab_type": "code",
    "executionInfo": {
     "elapsed": 806,
     "status": "ok",
     "timestamp": 1575817880031,
     "user": {
      "displayName": "Hwanhee Kim",
      "photoUrl": "https://lh3.googleusercontent.com/a-/AAuE7mAJC9PPBoQ91glDwFjxm3TlW5EqGy0BIAJ52D-ekw=s64",
      "userId": "04863080312902369470"
     },
     "user_tz": -540
    },
    "id": "x_77OWMp9oLx",
    "outputId": "83d6f2b6-ad63-4ed7-ab3a-8922caf265d7"
   },
   "outputs": [
    {
     "name": "stdout",
     "output_type": "stream",
     "text": [
      "[[0.         0.         0.         0.         0.         0.\n",
      "  0.         0.         0.         0.         0.         0.\n",
      "  0.         0.         0.         0.         0.         0.\n",
      "  0.         0.         0.         0.         0.         0.\n",
      "  0.         0.         0.         0.        ]\n",
      " [0.         0.         0.         0.         0.         0.\n",
      "  0.         0.         0.         0.         0.         0.\n",
      "  0.         0.         0.         0.         0.         0.\n",
      "  0.         0.         0.         0.         0.         0.\n",
      "  0.         0.         0.         0.        ]\n",
      " [0.         0.         0.         0.         0.         0.\n",
      "  0.         0.         0.         0.         0.         0.\n",
      "  0.         0.         0.         0.         0.         0.\n",
      "  0.         0.         0.         0.         0.         0.\n",
      "  0.         0.         0.         0.        ]\n",
      " [0.         0.         0.         0.         0.         0.\n",
      "  0.         0.         0.         0.         0.         0.\n",
      "  0.00392157 0.         0.         0.05098039 0.28627451 0.\n",
      "  0.         0.00392157 0.01568627 0.         0.         0.\n",
      "  0.         0.00392157 0.00392157 0.        ]\n",
      " [0.         0.         0.         0.         0.         0.\n",
      "  0.         0.         0.         0.         0.         0.\n",
      "  0.01176471 0.         0.14117647 0.53333333 0.49803922 0.24313725\n",
      "  0.21176471 0.         0.         0.         0.00392157 0.01176471\n",
      "  0.01568627 0.         0.         0.01176471]\n",
      " [0.         0.         0.         0.         0.         0.\n",
      "  0.         0.         0.         0.         0.         0.\n",
      "  0.02352941 0.         0.4        0.8        0.69019608 0.5254902\n",
      "  0.56470588 0.48235294 0.09019608 0.         0.         0.\n",
      "  0.         0.04705882 0.03921569 0.        ]\n",
      " [0.         0.         0.         0.         0.         0.\n",
      "  0.         0.         0.         0.         0.         0.\n",
      "  0.         0.         0.60784314 0.9254902  0.81176471 0.69803922\n",
      "  0.41960784 0.61176471 0.63137255 0.42745098 0.25098039 0.09019608\n",
      "  0.30196078 0.50980392 0.28235294 0.05882353]\n",
      " [0.         0.         0.         0.         0.         0.\n",
      "  0.         0.         0.         0.         0.         0.00392157\n",
      "  0.         0.27058824 0.81176471 0.8745098  0.85490196 0.84705882\n",
      "  0.84705882 0.63921569 0.49803922 0.4745098  0.47843137 0.57254902\n",
      "  0.55294118 0.34509804 0.6745098  0.25882353]\n",
      " [0.         0.         0.         0.         0.         0.\n",
      "  0.         0.         0.         0.00392157 0.00392157 0.00392157\n",
      "  0.         0.78431373 0.90980392 0.90980392 0.91372549 0.89803922\n",
      "  0.8745098  0.8745098  0.84313725 0.83529412 0.64313725 0.49803922\n",
      "  0.48235294 0.76862745 0.89803922 0.        ]\n",
      " [0.         0.         0.         0.         0.         0.\n",
      "  0.         0.         0.         0.         0.         0.\n",
      "  0.         0.71764706 0.88235294 0.84705882 0.8745098  0.89411765\n",
      "  0.92156863 0.89019608 0.87843137 0.87058824 0.87843137 0.86666667\n",
      "  0.8745098  0.96078431 0.67843137 0.        ]\n",
      " [0.         0.         0.         0.         0.         0.\n",
      "  0.         0.         0.         0.         0.         0.\n",
      "  0.         0.75686275 0.89411765 0.85490196 0.83529412 0.77647059\n",
      "  0.70588235 0.83137255 0.82352941 0.82745098 0.83529412 0.8745098\n",
      "  0.8627451  0.95294118 0.79215686 0.        ]\n",
      " [0.         0.         0.         0.         0.         0.\n",
      "  0.         0.         0.         0.00392157 0.01176471 0.\n",
      "  0.04705882 0.85882353 0.8627451  0.83137255 0.85490196 0.75294118\n",
      "  0.6627451  0.89019608 0.81568627 0.85490196 0.87843137 0.83137255\n",
      "  0.88627451 0.77254902 0.81960784 0.20392157]\n",
      " [0.         0.         0.         0.         0.         0.\n",
      "  0.         0.         0.         0.         0.02352941 0.\n",
      "  0.38823529 0.95686275 0.87058824 0.8627451  0.85490196 0.79607843\n",
      "  0.77647059 0.86666667 0.84313725 0.83529412 0.87058824 0.8627451\n",
      "  0.96078431 0.46666667 0.65490196 0.21960784]\n",
      " [0.         0.         0.         0.         0.         0.\n",
      "  0.         0.         0.         0.01568627 0.         0.\n",
      "  0.21568627 0.9254902  0.89411765 0.90196078 0.89411765 0.94117647\n",
      "  0.90980392 0.83529412 0.85490196 0.8745098  0.91764706 0.85098039\n",
      "  0.85098039 0.81960784 0.36078431 0.        ]\n",
      " [0.         0.         0.00392157 0.01568627 0.02352941 0.02745098\n",
      "  0.00784314 0.         0.         0.         0.         0.\n",
      "  0.92941176 0.88627451 0.85098039 0.8745098  0.87058824 0.85882353\n",
      "  0.87058824 0.86666667 0.84705882 0.8745098  0.89803922 0.84313725\n",
      "  0.85490196 1.         0.30196078 0.        ]\n",
      " [0.         0.01176471 0.         0.         0.         0.\n",
      "  0.         0.         0.         0.24313725 0.56862745 0.8\n",
      "  0.89411765 0.81176471 0.83529412 0.86666667 0.85490196 0.81568627\n",
      "  0.82745098 0.85490196 0.87843137 0.8745098  0.85882353 0.84313725\n",
      "  0.87843137 0.95686275 0.62352941 0.        ]\n",
      " [0.         0.         0.         0.         0.07058824 0.17254902\n",
      "  0.32156863 0.41960784 0.74117647 0.89411765 0.8627451  0.87058824\n",
      "  0.85098039 0.88627451 0.78431373 0.80392157 0.82745098 0.90196078\n",
      "  0.87843137 0.91764706 0.69019608 0.7372549  0.98039216 0.97254902\n",
      "  0.91372549 0.93333333 0.84313725 0.        ]\n",
      " [0.         0.22352941 0.73333333 0.81568627 0.87843137 0.86666667\n",
      "  0.87843137 0.81568627 0.8        0.83921569 0.81568627 0.81960784\n",
      "  0.78431373 0.62352941 0.96078431 0.75686275 0.80784314 0.8745098\n",
      "  1.         1.         0.86666667 0.91764706 0.86666667 0.82745098\n",
      "  0.8627451  0.90980392 0.96470588 0.        ]\n",
      " [0.01176471 0.79215686 0.89411765 0.87843137 0.86666667 0.82745098\n",
      "  0.82745098 0.83921569 0.80392157 0.80392157 0.80392157 0.8627451\n",
      "  0.94117647 0.31372549 0.58823529 1.         0.89803922 0.86666667\n",
      "  0.7372549  0.60392157 0.74901961 0.82352941 0.8        0.81960784\n",
      "  0.87058824 0.89411765 0.88235294 0.        ]\n",
      " [0.38431373 0.91372549 0.77647059 0.82352941 0.87058824 0.89803922\n",
      "  0.89803922 0.91764706 0.97647059 0.8627451  0.76078431 0.84313725\n",
      "  0.85098039 0.94509804 0.25490196 0.28627451 0.41568627 0.45882353\n",
      "  0.65882353 0.85882353 0.86666667 0.84313725 0.85098039 0.8745098\n",
      "  0.8745098  0.87843137 0.89803922 0.11372549]\n",
      " [0.29411765 0.8        0.83137255 0.8        0.75686275 0.80392157\n",
      "  0.82745098 0.88235294 0.84705882 0.7254902  0.77254902 0.80784314\n",
      "  0.77647059 0.83529412 0.94117647 0.76470588 0.89019608 0.96078431\n",
      "  0.9372549  0.8745098  0.85490196 0.83137255 0.81960784 0.87058824\n",
      "  0.8627451  0.86666667 0.90196078 0.2627451 ]\n",
      " [0.18823529 0.79607843 0.71764706 0.76078431 0.83529412 0.77254902\n",
      "  0.7254902  0.74509804 0.76078431 0.75294118 0.79215686 0.83921569\n",
      "  0.85882353 0.86666667 0.8627451  0.9254902  0.88235294 0.84705882\n",
      "  0.78039216 0.80784314 0.72941176 0.70980392 0.69411765 0.6745098\n",
      "  0.70980392 0.80392157 0.80784314 0.45098039]\n",
      " [0.         0.47843137 0.85882353 0.75686275 0.70196078 0.67058824\n",
      "  0.71764706 0.76862745 0.8        0.82352941 0.83529412 0.81176471\n",
      "  0.82745098 0.82352941 0.78431373 0.76862745 0.76078431 0.74901961\n",
      "  0.76470588 0.74901961 0.77647059 0.75294118 0.69019608 0.61176471\n",
      "  0.65490196 0.69411765 0.82352941 0.36078431]\n",
      " [0.         0.         0.29019608 0.74117647 0.83137255 0.74901961\n",
      "  0.68627451 0.6745098  0.68627451 0.70980392 0.7254902  0.7372549\n",
      "  0.74117647 0.7372549  0.75686275 0.77647059 0.8        0.81960784\n",
      "  0.82352941 0.82352941 0.82745098 0.7372549  0.7372549  0.76078431\n",
      "  0.75294118 0.84705882 0.66666667 0.        ]\n",
      " [0.00784314 0.         0.         0.         0.25882353 0.78431373\n",
      "  0.87058824 0.92941176 0.9372549  0.94901961 0.96470588 0.95294118\n",
      "  0.95686275 0.86666667 0.8627451  0.75686275 0.74901961 0.70196078\n",
      "  0.71372549 0.71372549 0.70980392 0.69019608 0.65098039 0.65882353\n",
      "  0.38823529 0.22745098 0.         0.        ]\n",
      " [0.         0.         0.         0.         0.         0.\n",
      "  0.         0.15686275 0.23921569 0.17254902 0.28235294 0.16078431\n",
      "  0.1372549  0.         0.         0.         0.         0.\n",
      "  0.         0.         0.         0.         0.         0.\n",
      "  0.         0.         0.         0.        ]\n",
      " [0.         0.         0.         0.         0.         0.\n",
      "  0.         0.         0.         0.         0.         0.\n",
      "  0.         0.         0.         0.         0.         0.\n",
      "  0.         0.         0.         0.         0.         0.\n",
      "  0.         0.         0.         0.        ]\n",
      " [0.         0.         0.         0.         0.         0.\n",
      "  0.         0.         0.         0.         0.         0.\n",
      "  0.         0.         0.         0.         0.         0.\n",
      "  0.         0.         0.         0.         0.         0.\n",
      "  0.         0.         0.         0.        ]]\n"
     ]
    }
   ],
   "source": [
    "# 5.21 데이터 정규화\n",
    "train_X = train_X / 255.0\n",
    "test_X = test_X / 255.0\n",
    "\n",
    "print(train_X[0])"
   ]
  },
  {
   "cell_type": "code",
   "execution_count": 18,
   "metadata": {
    "colab": {
     "base_uri": "https://localhost:8080/",
     "height": 269
    },
    "colab_type": "code",
    "executionInfo": {
     "elapsed": 1061,
     "status": "ok",
     "timestamp": 1575817890015,
     "user": {
      "displayName": "Hwanhee Kim",
      "photoUrl": "https://lh3.googleusercontent.com/a-/AAuE7mAJC9PPBoQ91glDwFjxm3TlW5EqGy0BIAJ52D-ekw=s64",
      "userId": "04863080312902369470"
     },
     "user_tz": -540
    },
    "id": "0dwbsb8aD1Jx",
    "outputId": "f1b7ee92-2c5d-4fb4-e55a-2a1094d91eb7"
   },
   "outputs": [
    {
     "name": "stdout",
     "output_type": "stream",
     "text": [
      "Model: \"sequential_1\"\n",
      "_________________________________________________________________\n",
      "Layer (type)                 Output Shape              Param #   \n",
      "=================================================================\n",
      "flatten (Flatten)            (None, 784)               0         \n",
      "_________________________________________________________________\n",
      "dense_4 (Dense)              (None, 128)               100480    \n",
      "_________________________________________________________________\n",
      "dense_5 (Dense)              (None, 10)                1290      \n",
      "=================================================================\n",
      "Total params: 101,770\n",
      "Trainable params: 101,770\n",
      "Non-trainable params: 0\n",
      "_________________________________________________________________\n"
     ]
    }
   ],
   "source": [
    "# 5.22 Fashion MNIST 분류 모델\n",
    "model = tf.keras.Sequential([\n",
    "    tf.keras.layers.Flatten(input_shape=(28,28)),\n",
    "    tf.keras.layers.Dense(units=128, activation='relu'),\n",
    "    tf.keras.layers.Dense(units=10, activation='softmax')\n",
    "])\n",
    "\n",
    "model.compile(optimizer=tf.keras.optimizers.Adam(), \n",
    "              loss='sparse_categorical_crossentropy', \n",
    "              metrics=['accuracy'])\n",
    "\n",
    "model.summary()"
   ]
  },
  {
   "cell_type": "code",
   "execution_count": 28,
   "metadata": {
    "colab": {
     "base_uri": "https://localhost:8080/",
     "height": 935
    },
    "colab_type": "code",
    "executionInfo": {
     "elapsed": 106789,
     "status": "ok",
     "timestamp": 1575817999852,
     "user": {
      "displayName": "Hwanhee Kim",
      "photoUrl": "https://lh3.googleusercontent.com/a-/AAuE7mAJC9PPBoQ91glDwFjxm3TlW5EqGy0BIAJ52D-ekw=s64",
      "userId": "04863080312902369470"
     },
     "user_tz": -540
    },
    "id": "X6FCAvgtHJPz",
    "outputId": "92e13255-09be-4bcd-8b4d-f4620cc6497e"
   },
   "outputs": [
    {
     "name": "stdout",
     "output_type": "stream",
     "text": [
      "Train on 45000 samples, validate on 15000 samples\n",
      "Epoch 1/25\n",
      "45000/45000 [==============================] - 8s 186us/sample - loss: 0.5239 - accuracy: 0.8161 - val_loss: 0.4352 - val_accuracy: 0.8492\n",
      "Epoch 2/25\n",
      "45000/45000 [==============================] - 6s 126us/sample - loss: 0.3907 - accuracy: 0.8599 - val_loss: 0.3809 - val_accuracy: 0.8637\n",
      "Epoch 3/25\n",
      "45000/45000 [==============================] - 5s 121us/sample - loss: 0.3500 - accuracy: 0.8734 - val_loss: 0.3476 - val_accuracy: 0.8741\n",
      "Epoch 4/25\n",
      "45000/45000 [==============================] - 6s 129us/sample - loss: 0.3255 - accuracy: 0.8805 - val_loss: 0.3366 - val_accuracy: 0.8790\n",
      "Epoch 5/25\n",
      "45000/45000 [==============================] - 6s 131us/sample - loss: 0.3050 - accuracy: 0.8886 - val_loss: 0.3470 - val_accuracy: 0.8733\n",
      "Epoch 6/25\n",
      "45000/45000 [==============================] - 7s 152us/sample - loss: 0.2895 - accuracy: 0.8931 - val_loss: 0.3334 - val_accuracy: 0.8808\n",
      "Epoch 7/25\n",
      "45000/45000 [==============================] - 6s 141us/sample - loss: 0.2779 - accuracy: 0.8972 - val_loss: 0.3582 - val_accuracy: 0.8733\n",
      "Epoch 8/25\n",
      "45000/45000 [==============================] - 5s 121us/sample - loss: 0.2661 - accuracy: 0.9020 - val_loss: 0.3203 - val_accuracy: 0.8851\n",
      "Epoch 9/25\n",
      "45000/45000 [==============================] - 6s 139us/sample - loss: 0.2561 - accuracy: 0.9042 - val_loss: 0.3688 - val_accuracy: 0.8692\n",
      "Epoch 10/25\n",
      "45000/45000 [==============================] - 6s 143us/sample - loss: 0.2483 - accuracy: 0.9072 - val_loss: 0.3199 - val_accuracy: 0.8852\n",
      "Epoch 11/25\n",
      "45000/45000 [==============================] - 9s 205us/sample - loss: 0.2368 - accuracy: 0.9122 - val_loss: 0.3269 - val_accuracy: 0.8855\n",
      "Epoch 12/25\n",
      "45000/45000 [==============================] - 6s 126us/sample - loss: 0.2299 - accuracy: 0.9142 - val_loss: 0.3156 - val_accuracy: 0.8887\n",
      "Epoch 13/25\n",
      "45000/45000 [==============================] - 6s 128us/sample - loss: 0.2233 - accuracy: 0.9156 - val_loss: 0.3334 - val_accuracy: 0.8851\n",
      "Epoch 14/25\n",
      "45000/45000 [==============================] - 6s 127us/sample - loss: 0.2150 - accuracy: 0.9189 - val_loss: 0.3205 - val_accuracy: 0.8874\n",
      "Epoch 15/25\n",
      "45000/45000 [==============================] - 6s 128us/sample - loss: 0.2093 - accuracy: 0.9210 - val_loss: 0.3304 - val_accuracy: 0.8894\n",
      "Epoch 16/25\n",
      "45000/45000 [==============================] - 5s 119us/sample - loss: 0.2036 - accuracy: 0.9240 - val_loss: 0.3144 - val_accuracy: 0.8919\n",
      "Epoch 17/25\n",
      "45000/45000 [==============================] - 5s 117us/sample - loss: 0.1957 - accuracy: 0.9259 - val_loss: 0.3215 - val_accuracy: 0.8897\n",
      "Epoch 18/25\n",
      "45000/45000 [==============================] - 5s 112us/sample - loss: 0.1913 - accuracy: 0.9288 - val_loss: 0.3403 - val_accuracy: 0.8857\n",
      "Epoch 19/25\n",
      "45000/45000 [==============================] - 5s 107us/sample - loss: 0.1870 - accuracy: 0.9298 - val_loss: 0.3335 - val_accuracy: 0.8919\n",
      "Epoch 20/25\n",
      "45000/45000 [==============================] - 5s 108us/sample - loss: 0.1782 - accuracy: 0.9333 - val_loss: 0.3421 - val_accuracy: 0.8869\n",
      "Epoch 21/25\n",
      "45000/45000 [==============================] - 5s 103us/sample - loss: 0.1742 - accuracy: 0.9346 - val_loss: 0.3381 - val_accuracy: 0.8894\n",
      "Epoch 22/25\n",
      "45000/45000 [==============================] - 6s 127us/sample - loss: 0.1710 - accuracy: 0.9356 - val_loss: 0.3478 - val_accuracy: 0.8903\n",
      "Epoch 23/25\n",
      "45000/45000 [==============================] - 6s 130us/sample - loss: 0.1674 - accuracy: 0.9362 - val_loss: 0.3721 - val_accuracy: 0.8841\n",
      "Epoch 24/25\n",
      "45000/45000 [==============================] - 6s 130us/sample - loss: 0.1604 - accuracy: 0.9400 - val_loss: 0.3611 - val_accuracy: 0.8845\n",
      "Epoch 25/25\n",
      "45000/45000 [==============================] - 6s 134us/sample - loss: 0.1577 - accuracy: 0.9405 - val_loss: 0.3465 - val_accuracy: 0.8913\n"
     ]
    }
   ],
   "source": [
    "# 5.23 Fashion MNIST 분류 모델 학습\n",
    "history = model.fit(train_X, train_Y, epochs=25, validation_split=0.25)"
   ]
  },
  {
   "cell_type": "code",
   "execution_count": 29,
   "metadata": {
    "colab": {
     "base_uri": "https://localhost:8080/",
     "height": 283
    },
    "colab_type": "code",
    "executionInfo": {
     "elapsed": 88380,
     "status": "ok",
     "timestamp": 1575818000268,
     "user": {
      "displayName": "Hwanhee Kim",
      "photoUrl": "https://lh3.googleusercontent.com/a-/AAuE7mAJC9PPBoQ91glDwFjxm3TlW5EqGy0BIAJ52D-ekw=s64",
      "userId": "04863080312902369470"
     },
     "user_tz": -540
    },
    "id": "2uKxk7XSIQdq",
    "outputId": "4d82a4c3-740f-46bd-ab9a-1e9eec8d149a"
   },
   "outputs": [
    {
     "data": {
      "image/png": "[encoded data removed]",
      "text/plain": [
       "<Figure size 864x288 with 2 Axes>"
      ]
     },
     "metadata": {
      "needs_background": "light"
     },
     "output_type": "display_data"
    }
   ],
   "source": [
    "# 5.24 Fashion MNIST 분류 모델 학습 결과 시각화\n",
    "import matplotlib.pyplot as plt\n",
    "plt.figure(figsize=(12, 4))\n",
    "\n",
    "plt.subplot(1, 2, 1)\n",
    "plt.plot(history.history['loss'], 'b-', label='loss')\n",
    "plt.plot(history.history['val_loss'], 'r--', label='val_loss')\n",
    "plt.xlabel('Epoch')\n",
    "plt.legend()\n",
    "\n",
    "plt.subplot(1, 2, 2)\n",
    "plt.plot(history.history['accuracy'], 'g-', label='accuracy')\n",
    "plt.plot(history.history['val_accuracy'], 'k--', label='val_accuracy')\n",
    "plt.xlabel('Epoch')\n",
    "plt.ylim(0.7, 1)\n",
    "plt.legend()\n",
    "\n",
    "plt.show()"
   ]
  },
  {
   "cell_type": "code",
   "execution_count": 30,
   "metadata": {
    "colab": {
     "base_uri": "https://localhost:8080/",
     "height": 73
    },
    "colab_type": "code",
    "executionInfo": {
     "elapsed": 86858,
     "status": "ok",
     "timestamp": 1575818000554,
     "user": {
      "displayName": "Hwanhee Kim",
      "photoUrl": "https://lh3.googleusercontent.com/a-/AAuE7mAJC9PPBoQ91glDwFjxm3TlW5EqGy0BIAJ52D-ekw=s64",
      "userId": "04863080312902369470"
     },
     "user_tz": -540
    },
    "id": "BdfhmqdlIQz0",
    "outputId": "fe8fef42-093c-4f89-a999-ae6999c41352"
   },
   "outputs": [
    {
     "name": "stdout",
     "output_type": "stream",
     "text": [
      "10000/10000 [==============================] - 1s 62us/sample - loss: 0.3832 - accuracy: 0.8839s - loss: 0.4001 - accura\n"
     ]
    },
    {
     "data": {
      "text/plain": [
       "[0.38324184205532075, 0.8839]"
      ]
     },
     "execution_count": 30,
     "metadata": {},
     "output_type": "execute_result"
    }
   ],
   "source": [
    "# 5.25 Fashion MNIST 분류 모델 평가\n",
    "model.evaluate(test_X, test_Y)"
   ]
  },
  {
   "cell_type": "code",
   "execution_count": null,
   "metadata": {},
   "outputs": [],
   "source": []
  },
  {
   "cell_type": "code",
   "execution_count": null,
   "metadata": {},
   "outputs": [],
   "source": []
  },
  {
   "cell_type": "code",
   "execution_count": null,
   "metadata": {},
   "outputs": [],
   "source": []
  }
 ],
 "metadata": {
  "colab": {
   "collapsed_sections": [],
   "name": "Chapter5.ipynb",
   "provenance": [],
   "toc_visible": true
  },
  "kernelspec": {
   "display_name": "Python 3",
   "language": "python",
   "name": "python3"
  },
  "language_info": {
   "codemirror_mode": {
    "name": "ipython",
    "version": 3
   },
   "file_extension": ".py",
   "mimetype": "text/x-python",
   "name": "python",
   "nbconvert_exporter": "python",
   "pygments_lexer": "ipython3",
   "version": "3.7.4"
  }
 },
 "nbformat": 4,
 "nbformat_minor": 1
}
