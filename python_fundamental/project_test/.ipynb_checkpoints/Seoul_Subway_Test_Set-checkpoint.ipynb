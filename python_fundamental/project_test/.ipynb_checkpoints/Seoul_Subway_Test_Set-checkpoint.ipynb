{
 "cells": [
  {
   "cell_type": "code",
   "execution_count": 26,
   "metadata": {},
   "outputs": [],
   "source": [
    "import numpy as np\n",
    "import pandas as pd\n",
    "\n",
    "%matplotlib inline\n",
    "import matplotlib.pylab as plt\n",
    "\n",
    "import seaborn as sns\n",
    "sns.set()"
   ]
  },
  {
   "cell_type": "code",
   "execution_count": null,
   "metadata": {},
   "outputs": [],
   "source": []
  },
  {
   "cell_type": "code",
   "execution_count": 5,
   "metadata": {},
   "outputs": [],
   "source": [
    "subway = pd.read_csv('CARD_SUBWAY_MONTH_201912.csv', encoding='euc-kr')"
   ]
  },
  {
   "cell_type": "code",
   "execution_count": 6,
   "metadata": {
    "scrolled": true
   },
   "outputs": [
    {
     "data": {
      "text/html": [
       "<div>\n",
       "<style scoped>\n",
       "    .dataframe tbody tr th:only-of-type {\n",
       "        vertical-align: middle;\n",
       "    }\n",
       "\n",
       "    .dataframe tbody tr th {\n",
       "        vertical-align: top;\n",
       "    }\n",
       "\n",
       "    .dataframe thead th {\n",
       "        text-align: right;\n",
       "    }\n",
       "</style>\n",
       "<table border=\"1\" class=\"dataframe\">\n",
       "  <thead>\n",
       "    <tr style=\"text-align: right;\">\n",
       "      <th></th>\n",
       "      <th>사용일자</th>\n",
       "      <th>노선명</th>\n",
       "      <th>역ID</th>\n",
       "      <th>역명</th>\n",
       "      <th>승차총승객수</th>\n",
       "      <th>하차총승객수</th>\n",
       "      <th>등록일자</th>\n",
       "    </tr>\n",
       "  </thead>\n",
       "  <tbody>\n",
       "    <tr>\n",
       "      <td>0</td>\n",
       "      <td>20191201</td>\n",
       "      <td>1호선</td>\n",
       "      <td>152</td>\n",
       "      <td>종각</td>\n",
       "      <td>19093</td>\n",
       "      <td>17141</td>\n",
       "      <td>20191204</td>\n",
       "    </tr>\n",
       "    <tr>\n",
       "      <td>1</td>\n",
       "      <td>20191201</td>\n",
       "      <td>1호선</td>\n",
       "      <td>153</td>\n",
       "      <td>종로3가</td>\n",
       "      <td>19646</td>\n",
       "      <td>17772</td>\n",
       "      <td>20191204</td>\n",
       "    </tr>\n",
       "    <tr>\n",
       "      <td>2</td>\n",
       "      <td>20191201</td>\n",
       "      <td>1호선</td>\n",
       "      <td>154</td>\n",
       "      <td>종로5가</td>\n",
       "      <td>13716</td>\n",
       "      <td>13149</td>\n",
       "      <td>20191204</td>\n",
       "    </tr>\n",
       "    <tr>\n",
       "      <td>3</td>\n",
       "      <td>20191201</td>\n",
       "      <td>1호선</td>\n",
       "      <td>155</td>\n",
       "      <td>동대문</td>\n",
       "      <td>11040</td>\n",
       "      <td>13079</td>\n",
       "      <td>20191204</td>\n",
       "    </tr>\n",
       "    <tr>\n",
       "      <td>4</td>\n",
       "      <td>20191201</td>\n",
       "      <td>1호선</td>\n",
       "      <td>156</td>\n",
       "      <td>신설동</td>\n",
       "      <td>8498</td>\n",
       "      <td>8322</td>\n",
       "      <td>20191204</td>\n",
       "    </tr>\n",
       "  </tbody>\n",
       "</table>\n",
       "</div>"
      ],
      "text/plain": [
       "       사용일자  노선명  역ID    역명  승차총승객수  하차총승객수      등록일자\n",
       "0  20191201  1호선  152    종각   19093   17141  20191204\n",
       "1  20191201  1호선  153  종로3가   19646   17772  20191204\n",
       "2  20191201  1호선  154  종로5가   13716   13149  20191204\n",
       "3  20191201  1호선  155   동대문   11040   13079  20191204\n",
       "4  20191201  1호선  156   신설동    8498    8322  20191204"
      ]
     },
     "execution_count": 6,
     "metadata": {},
     "output_type": "execute_result"
    }
   ],
   "source": [
    "subway.head()"
   ]
  },
  {
   "cell_type": "code",
   "execution_count": 16,
   "metadata": {
    "scrolled": true
   },
   "outputs": [
    {
     "data": {
      "text/plain": [
       "장항선          186\n",
       "과천선          248\n",
       "1호선          310\n",
       "일산선          315\n",
       "경강선          341\n",
       "우이신설선        403\n",
       "수인선          403\n",
       "안산선          403\n",
       "9호선2~3단계     403\n",
       "공항철도 1호선     434\n",
       "8호선          527\n",
       "경춘선          589\n",
       "경인선          620\n",
       "중앙선          651\n",
       "9호선          775\n",
       "경의선          795\n",
       "4호선          806\n",
       "경원선          915\n",
       "3호선         1051\n",
       "분당선         1068\n",
       "6호선         1169\n",
       "경부선         1209\n",
       "2호선         1550\n",
       "5호선         1581\n",
       "7호선         1581\n",
       "Name: 노선명, dtype: int64"
      ]
     },
     "execution_count": 16,
     "metadata": {},
     "output_type": "execute_result"
    }
   ],
   "source": [
    "subway['노선명'].value_counts(ascending=True)"
   ]
  },
  {
   "cell_type": "code",
   "execution_count": 17,
   "metadata": {
    "scrolled": true
   },
   "outputs": [
    {
     "data": {
      "text/plain": [
       "사용일자      0\n",
       "노선명       0\n",
       "역ID       0\n",
       "역명        0\n",
       "승차총승객수    0\n",
       "하차총승객수    0\n",
       "등록일자      0\n",
       "dtype: int64"
      ]
     },
     "execution_count": 17,
     "metadata": {},
     "output_type": "execute_result"
    }
   ],
   "source": [
    "subway.isnull().sum()"
   ]
  },
  {
   "cell_type": "code",
   "execution_count": 21,
   "metadata": {
    "scrolled": true
   },
   "outputs": [
    {
     "data": {
      "text/html": [
       "<div>\n",
       "<style scoped>\n",
       "    .dataframe tbody tr th:only-of-type {\n",
       "        vertical-align: middle;\n",
       "    }\n",
       "\n",
       "    .dataframe tbody tr th {\n",
       "        vertical-align: top;\n",
       "    }\n",
       "\n",
       "    .dataframe thead th {\n",
       "        text-align: right;\n",
       "    }\n",
       "</style>\n",
       "<table border=\"1\" class=\"dataframe\">\n",
       "  <thead>\n",
       "    <tr style=\"text-align: right;\">\n",
       "      <th></th>\n",
       "      <th>사용일자</th>\n",
       "      <th>노선명</th>\n",
       "      <th>역ID</th>\n",
       "      <th>역명</th>\n",
       "      <th>승차총승객수</th>\n",
       "      <th>하차총승객수</th>\n",
       "      <th>등록일자</th>\n",
       "    </tr>\n",
       "  </thead>\n",
       "  <tbody>\n",
       "    <tr>\n",
       "      <td>525</td>\n",
       "      <td>20191201</td>\n",
       "      <td>9호선</td>\n",
       "      <td>4101</td>\n",
       "      <td>개화</td>\n",
       "      <td>1433</td>\n",
       "      <td>1215</td>\n",
       "      <td>20191204</td>\n",
       "    </tr>\n",
       "    <tr>\n",
       "      <td>526</td>\n",
       "      <td>20191201</td>\n",
       "      <td>9호선</td>\n",
       "      <td>4102</td>\n",
       "      <td>김포공항</td>\n",
       "      <td>8618</td>\n",
       "      <td>11679</td>\n",
       "      <td>20191204</td>\n",
       "    </tr>\n",
       "    <tr>\n",
       "      <td>527</td>\n",
       "      <td>20191201</td>\n",
       "      <td>9호선</td>\n",
       "      <td>4103</td>\n",
       "      <td>공항시장</td>\n",
       "      <td>1971</td>\n",
       "      <td>2177</td>\n",
       "      <td>20191204</td>\n",
       "    </tr>\n",
       "    <tr>\n",
       "      <td>528</td>\n",
       "      <td>20191201</td>\n",
       "      <td>9호선</td>\n",
       "      <td>4104</td>\n",
       "      <td>신방화</td>\n",
       "      <td>4110</td>\n",
       "      <td>4067</td>\n",
       "      <td>20191204</td>\n",
       "    </tr>\n",
       "    <tr>\n",
       "      <td>529</td>\n",
       "      <td>20191201</td>\n",
       "      <td>9호선</td>\n",
       "      <td>4105</td>\n",
       "      <td>마곡나루</td>\n",
       "      <td>5598</td>\n",
       "      <td>5497</td>\n",
       "      <td>20191204</td>\n",
       "    </tr>\n",
       "    <tr>\n",
       "      <td>...</td>\n",
       "      <td>...</td>\n",
       "      <td>...</td>\n",
       "      <td>...</td>\n",
       "      <td>...</td>\n",
       "      <td>...</td>\n",
       "      <td>...</td>\n",
       "      <td>...</td>\n",
       "    </tr>\n",
       "    <tr>\n",
       "      <td>18325</td>\n",
       "      <td>20191231</td>\n",
       "      <td>9호선</td>\n",
       "      <td>4121</td>\n",
       "      <td>구반포</td>\n",
       "      <td>3141</td>\n",
       "      <td>3237</td>\n",
       "      <td>20200103</td>\n",
       "    </tr>\n",
       "    <tr>\n",
       "      <td>18326</td>\n",
       "      <td>20191231</td>\n",
       "      <td>9호선</td>\n",
       "      <td>4122</td>\n",
       "      <td>신반포</td>\n",
       "      <td>3255</td>\n",
       "      <td>3107</td>\n",
       "      <td>20200103</td>\n",
       "    </tr>\n",
       "    <tr>\n",
       "      <td>18327</td>\n",
       "      <td>20191231</td>\n",
       "      <td>9호선</td>\n",
       "      <td>4123</td>\n",
       "      <td>고속터미널</td>\n",
       "      <td>15593</td>\n",
       "      <td>23750</td>\n",
       "      <td>20200103</td>\n",
       "    </tr>\n",
       "    <tr>\n",
       "      <td>18328</td>\n",
       "      <td>20191231</td>\n",
       "      <td>9호선</td>\n",
       "      <td>4124</td>\n",
       "      <td>사평</td>\n",
       "      <td>3525</td>\n",
       "      <td>3391</td>\n",
       "      <td>20200103</td>\n",
       "    </tr>\n",
       "    <tr>\n",
       "      <td>18329</td>\n",
       "      <td>20191231</td>\n",
       "      <td>9호선</td>\n",
       "      <td>4125</td>\n",
       "      <td>신논현</td>\n",
       "      <td>38032</td>\n",
       "      <td>38915</td>\n",
       "      <td>20200103</td>\n",
       "    </tr>\n",
       "  </tbody>\n",
       "</table>\n",
       "<p>1178 rows × 7 columns</p>\n",
       "</div>"
      ],
      "text/plain": [
       "           사용일자  노선명   역ID     역명  승차총승객수  하차총승객수      등록일자\n",
       "525    20191201  9호선  4101     개화    1433    1215  20191204\n",
       "526    20191201  9호선  4102   김포공항    8618   11679  20191204\n",
       "527    20191201  9호선  4103   공항시장    1971    2177  20191204\n",
       "528    20191201  9호선  4104    신방화    4110    4067  20191204\n",
       "529    20191201  9호선  4105   마곡나루    5598    5497  20191204\n",
       "...         ...  ...   ...    ...     ...     ...       ...\n",
       "18325  20191231  9호선  4121    구반포    3141    3237  20200103\n",
       "18326  20191231  9호선  4122    신반포    3255    3107  20200103\n",
       "18327  20191231  9호선  4123  고속터미널   15593   23750  20200103\n",
       "18328  20191231  9호선  4124     사평    3525    3391  20200103\n",
       "18329  20191231  9호선  4125    신논현   38032   38915  20200103\n",
       "\n",
       "[1178 rows x 7 columns]"
      ]
     },
     "execution_count": 21,
     "metadata": {},
     "output_type": "execute_result"
    }
   ],
   "source": [
    "subway[(subway['노선명']=='9호선2~3단계') | (subway['노선명']=='9호선')]"
   ]
  },
  {
   "cell_type": "code",
   "execution_count": 27,
   "metadata": {
    "scrolled": true
   },
   "outputs": [
    {
     "data": {
      "text/plain": [
       "<matplotlib.axes._subplots.AxesSubplot at 0x1ff1cb48788>"
      ]
     },
     "execution_count": 27,
     "metadata": {},
     "output_type": "execute_result"
    },
    {
     "data": {
      "image/png": "[encoded data removed]",
      "text/plain": [
       "<Figure size 432x288 with 1 Axes>"
      ]
     },
     "metadata": {},
     "output_type": "display_data"
    }
   ],
   "source": [
    "sns.barplot(x='역명', y='승차총승객수', data=subway, )"
   ]
  },
  {
   "cell_type": "code",
   "execution_count": 28,
   "metadata": {},
   "outputs": [],
   "source": [
    "subway.columns = ['date','line','sID','sname','enNum','outNum','upDate']"
   ]
  },
  {
   "cell_type": "code",
   "execution_count": null,
   "metadata": {},
   "outputs": [],
   "source": []
  }
 ],
 "metadata": {
  "kernelspec": {
   "display_name": "Python 3",
   "language": "python",
   "name": "python3"
  },
  "language_info": {
   "codemirror_mode": {
    "name": "ipython",
    "version": 3
   },
   "file_extension": ".py",
   "mimetype": "text/x-python",
   "name": "python",
   "nbconvert_exporter": "python",
   "pygments_lexer": "ipython3",
   "version": "3.7.4"
  }
 },
 "nbformat": 4,
 "nbformat_minor": 2
}
