{
 "cells": [
  {
   "cell_type": "code",
   "execution_count": 1,
   "metadata": {},
   "outputs": [
    {
     "name": "stdout",
     "output_type": "stream",
     "text": [
      "0\n",
      "2\n",
      "4\n",
      "6\n",
      "8\n"
     ]
    }
   ],
   "source": [
    "# for loop\n",
    "# range(a, b) 하면 b전까지다.\n",
    "for i in range(0, 10, 2):\n",
    "    print(i)"
   ]
  },
  {
   "cell_type": "code",
   "execution_count": 66,
   "metadata": {
    "scrolled": true
   },
   "outputs": [
    {
     "name": "stdout",
     "output_type": "stream",
     "text": [
      "['a', 'b', 'd', 'f', 'g', 'i']\n",
      "['a', 'b', 'd', 'f', 'g', 'i']\n",
      "[['a', 'b', 'd'], 'f', 'g', ['i']]\n",
      "['a', 'b', 'd', 'f', 'g', 'i', 'a', 'b', 'd', 'f', 'g', 'i']\n"
     ]
    }
   ],
   "source": [
    "a = [\"a\",\"b\",\"c\",\"d\",\"f\",\"g\",\"c\",\"i\"]\n",
    "b = []\n",
    "\n",
    "for i in range(0, len(a)):\n",
    "    if a[i] != \"c\":\n",
    "        b.append(a[i])\n",
    "    \n",
    "print(b)\n",
    "\n",
    "# for loop에서 for i in range()는 그 아래에서 어떤 조작을 하든 변하지 않는다.\n",
    "i = 0\n",
    "while(i < len(a)):\n",
    "    if a[i] == \"c\":\n",
    "        a.remove(\"c\")\n",
    "        i = i - 1\n",
    "    i = i + 1\n",
    "        \n",
    "print(a)\n",
    "\n",
    "a = [[\"a\",\"b\",\"c\",\"d\"],\"f\",\"g\",[\"c\",\"i\"]]\n",
    "b = []\n",
    "for i in range(0, len(a)):\n",
    "    if(str(type(a[i])) == \"<class 'list'>\"):\n",
    "        temp = []\n",
    "        for j in range(0, len(a[i])):\n",
    "            if a[i][j] != \"c\":\n",
    "                temp.append(a[i][j])\n",
    "        b.append(temp)\n",
    "    elif a[i] != \"c\":\n",
    "        b.append(a[i])\n",
    "\n",
    "print(b)\n",
    "        \n",
    "\n",
    "a = [[\"a\",\"b\",\"c\",\"d\"],\"f\",\"g\",[\"c\",\"i\"]]\n",
    "b = []\n",
    "for i in range(0, len(a)):\n",
    "    if len(a[i]) > 1:\n",
    "        for j in range(0, len(a[i])):\n",
    "            if a[i][j] != \"c\":\n",
    "                b.append(a[i][j])\n",
    "    \n",
    "    else:\n",
    "        if a[i] != \"c\":\n",
    "            b.append(a[i])\n",
    "        \n",
    "for i in a:\n",
    "    for j in i:\n",
    "        if j != \"c\":\n",
    "            b.append(j)\n",
    "        else:\n",
    "            pass\n",
    "        \n",
    "print(b)"
   ]
  },
  {
   "cell_type": "code",
   "execution_count": 4,
   "metadata": {},
   "outputs": [
    {
     "name": "stdout",
     "output_type": "stream",
     "text": [
      "i : 0 / j : a\n",
      "i : 1 / j : b\n",
      "i : 2 / j : c\n",
      "i : 3 / j : d\n",
      "i : 4 / j : e\n"
     ]
    }
   ],
   "source": [
    "for i, j in enumerate([\"a\",\"b\",\"c\",\"d\",\"e\"]):\n",
    "    print(\"i :\", i, end=\" / \") # index\n",
    "    print(\"j :\", j) # value"
   ]
  }
 ],
 "metadata": {
  "kernelspec": {
   "display_name": "Python 3",
   "language": "python",
   "name": "python3"
  },
  "language_info": {
   "codemirror_mode": {
    "name": "ipython",
    "version": 3
   },
   "file_extension": ".py",
   "mimetype": "text/x-python",
   "name": "python",
   "nbconvert_exporter": "python",
   "pygments_lexer": "ipython3",
   "version": "3.7.4"
  }
 },
 "nbformat": 4,
 "nbformat_minor": 2
}
