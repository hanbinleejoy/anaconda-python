{
 "cells": [
  {
   "cell_type": "code",
   "execution_count": 33,
   "metadata": {},
   "outputs": [],
   "source": [
    "import numpy as np\n",
    "import pandas as pd\n",
    "%matplotlib inline\n",
    "import matplotlib.pylab as plt"
   ]
  },
  {
   "cell_type": "code",
   "execution_count": 34,
   "metadata": {},
   "outputs": [],
   "source": [
    "from sklearn import preprocessing\n",
    "from sklearn.preprocessing import LabelEncoder\n",
    "from sklearn.preprocessing import OneHotEncoder\n",
    "from sklearn.preprocessing import StandardScaler"
   ]
  },
  {
   "cell_type": "code",
   "execution_count": 35,
   "metadata": {},
   "outputs": [],
   "source": [
    "from sklearn.model_selection import train_test_split"
   ]
  },
  {
   "cell_type": "code",
   "execution_count": 36,
   "metadata": {},
   "outputs": [],
   "source": [
    "import seaborn as sns\n",
    "sns.set()"
   ]
  },
  {
   "cell_type": "code",
   "execution_count": 37,
   "metadata": {},
   "outputs": [],
   "source": [
    "from sklearn.model_selection import GridSearchCV,RandomizedSearchCV,learning_curve, cross_val_score, KFold\n",
    "from sklearn.preprocessing import StandardScaler, RobustScaler\n",
    "from sklearn.svm import SVR\n",
    "from sklearn.ensemble import RandomForestRegressor\n",
    "from sklearn.metrics import accuracy_score, mean_squared_error\n",
    "from sklearn.ensemble import RandomForestClassifier"
   ]
  },
  {
   "cell_type": "code",
   "execution_count": 38,
   "metadata": {},
   "outputs": [],
   "source": [
    "from sklearn.cluster import KMeans"
   ]
  },
  {
   "cell_type": "code",
   "execution_count": 40,
   "metadata": {},
   "outputs": [],
   "source": [
    "train = pd.read_csv(\"../../project_data/galaxy_train.csv\", index_col=0)\n",
    "test = pd.read_csv('../../project_data/galaxy_test.csv', index_col=0)\n",
    "sample_submission = pd.read_csv('../../project_data/sample_submission.csv', index_col=0)"
   ]
  },
  {
   "cell_type": "code",
   "execution_count": 41,
   "metadata": {},
   "outputs": [],
   "source": [
    "column_number = {}\n",
    "for i, column in enumerate(sample_submission.columns):\n",
    "    column_number[column] = i\n",
    "    \n",
    "def to_number(x, dic):\n",
    "    return dic[x]\n",
    "\n",
    "train['type_num'] = train['type'].apply(lambda x: to_number(x, column_number))"
   ]
  },
  {
   "cell_type": "code",
   "execution_count": 42,
   "metadata": {
    "scrolled": false
   },
   "outputs": [
    {
     "data": {
      "text/html": [
       "<div>\n",
       "<style scoped>\n",
       "    .dataframe tbody tr th:only-of-type {\n",
       "        vertical-align: middle;\n",
       "    }\n",
       "\n",
       "    .dataframe tbody tr th {\n",
       "        vertical-align: top;\n",
       "    }\n",
       "\n",
       "    .dataframe thead th {\n",
       "        text-align: right;\n",
       "    }\n",
       "</style>\n",
       "<table border=\"1\" class=\"dataframe\">\n",
       "  <thead>\n",
       "    <tr style=\"text-align: right;\">\n",
       "      <th></th>\n",
       "      <th>type</th>\n",
       "      <th>fiberID</th>\n",
       "      <th>psfMag_u</th>\n",
       "      <th>psfMag_g</th>\n",
       "      <th>psfMag_r</th>\n",
       "      <th>psfMag_i</th>\n",
       "      <th>psfMag_z</th>\n",
       "      <th>fiberMag_u</th>\n",
       "      <th>fiberMag_g</th>\n",
       "      <th>fiberMag_r</th>\n",
       "      <th>...</th>\n",
       "      <th>petroMag_g</th>\n",
       "      <th>petroMag_r</th>\n",
       "      <th>petroMag_i</th>\n",
       "      <th>petroMag_z</th>\n",
       "      <th>modelMag_u</th>\n",
       "      <th>modelMag_g</th>\n",
       "      <th>modelMag_r</th>\n",
       "      <th>modelMag_i</th>\n",
       "      <th>modelMag_z</th>\n",
       "      <th>type_num</th>\n",
       "    </tr>\n",
       "    <tr>\n",
       "      <th>id</th>\n",
       "      <th></th>\n",
       "      <th></th>\n",
       "      <th></th>\n",
       "      <th></th>\n",
       "      <th></th>\n",
       "      <th></th>\n",
       "      <th></th>\n",
       "      <th></th>\n",
       "      <th></th>\n",
       "      <th></th>\n",
       "      <th></th>\n",
       "      <th></th>\n",
       "      <th></th>\n",
       "      <th></th>\n",
       "      <th></th>\n",
       "      <th></th>\n",
       "      <th></th>\n",
       "      <th></th>\n",
       "      <th></th>\n",
       "      <th></th>\n",
       "      <th></th>\n",
       "    </tr>\n",
       "  </thead>\n",
       "  <tbody>\n",
       "    <tr>\n",
       "      <td>0</td>\n",
       "      <td>QSO</td>\n",
       "      <td>601</td>\n",
       "      <td>23.198224</td>\n",
       "      <td>21.431953</td>\n",
       "      <td>21.314148</td>\n",
       "      <td>21.176553</td>\n",
       "      <td>21.171444</td>\n",
       "      <td>22.581309</td>\n",
       "      <td>21.644453</td>\n",
       "      <td>21.657571</td>\n",
       "      <td>...</td>\n",
       "      <td>21.431636</td>\n",
       "      <td>21.478312</td>\n",
       "      <td>21.145409</td>\n",
       "      <td>20.422446</td>\n",
       "      <td>22.749241</td>\n",
       "      <td>21.465534</td>\n",
       "      <td>21.364187</td>\n",
       "      <td>21.020605</td>\n",
       "      <td>21.147340</td>\n",
       "      <td>8</td>\n",
       "    </tr>\n",
       "    <tr>\n",
       "      <td>1</td>\n",
       "      <td>QSO</td>\n",
       "      <td>788</td>\n",
       "      <td>21.431355</td>\n",
       "      <td>20.708104</td>\n",
       "      <td>20.678850</td>\n",
       "      <td>20.703420</td>\n",
       "      <td>20.473229</td>\n",
       "      <td>21.868797</td>\n",
       "      <td>21.029773</td>\n",
       "      <td>20.967054</td>\n",
       "      <td>...</td>\n",
       "      <td>20.778968</td>\n",
       "      <td>20.889705</td>\n",
       "      <td>20.639812</td>\n",
       "      <td>20.646660</td>\n",
       "      <td>21.492955</td>\n",
       "      <td>20.758527</td>\n",
       "      <td>20.753925</td>\n",
       "      <td>20.693389</td>\n",
       "      <td>20.512314</td>\n",
       "      <td>8</td>\n",
       "    </tr>\n",
       "    <tr>\n",
       "      <td>2</td>\n",
       "      <td>QSO</td>\n",
       "      <td>427</td>\n",
       "      <td>17.851451</td>\n",
       "      <td>16.727898</td>\n",
       "      <td>16.679677</td>\n",
       "      <td>16.694640</td>\n",
       "      <td>16.641788</td>\n",
       "      <td>18.171890</td>\n",
       "      <td>17.033098</td>\n",
       "      <td>16.999682</td>\n",
       "      <td>...</td>\n",
       "      <td>16.738784</td>\n",
       "      <td>16.688874</td>\n",
       "      <td>16.744210</td>\n",
       "      <td>16.808006</td>\n",
       "      <td>17.818063</td>\n",
       "      <td>16.697434</td>\n",
       "      <td>16.641249</td>\n",
       "      <td>16.660177</td>\n",
       "      <td>16.688928</td>\n",
       "      <td>8</td>\n",
       "    </tr>\n",
       "    <tr>\n",
       "      <td>3</td>\n",
       "      <td>QSO</td>\n",
       "      <td>864</td>\n",
       "      <td>20.789900</td>\n",
       "      <td>20.040371</td>\n",
       "      <td>19.926909</td>\n",
       "      <td>19.843840</td>\n",
       "      <td>19.463270</td>\n",
       "      <td>21.039030</td>\n",
       "      <td>20.317165</td>\n",
       "      <td>20.217898</td>\n",
       "      <td>...</td>\n",
       "      <td>19.993727</td>\n",
       "      <td>19.985531</td>\n",
       "      <td>19.750917</td>\n",
       "      <td>19.455117</td>\n",
       "      <td>20.770711</td>\n",
       "      <td>20.001699</td>\n",
       "      <td>19.889798</td>\n",
       "      <td>19.758113</td>\n",
       "      <td>19.552855</td>\n",
       "      <td>8</td>\n",
       "    </tr>\n",
       "    <tr>\n",
       "      <td>4</td>\n",
       "      <td>STAR_RED_DWARF</td>\n",
       "      <td>612</td>\n",
       "      <td>26.454969</td>\n",
       "      <td>23.058767</td>\n",
       "      <td>21.471406</td>\n",
       "      <td>19.504961</td>\n",
       "      <td>18.389096</td>\n",
       "      <td>25.700632</td>\n",
       "      <td>23.629122</td>\n",
       "      <td>21.742750</td>\n",
       "      <td>...</td>\n",
       "      <td>22.426929</td>\n",
       "      <td>21.673551</td>\n",
       "      <td>19.610012</td>\n",
       "      <td>18.376141</td>\n",
       "      <td>24.877052</td>\n",
       "      <td>23.147993</td>\n",
       "      <td>21.475342</td>\n",
       "      <td>19.487330</td>\n",
       "      <td>18.375655</td>\n",
       "      <td>10</td>\n",
       "    </tr>\n",
       "  </tbody>\n",
       "</table>\n",
       "<p>5 rows × 23 columns</p>\n",
       "</div>"
      ],
      "text/plain": [
       "              type  fiberID   psfMag_u   psfMag_g   psfMag_r   psfMag_i  \\\n",
       "id                                                                        \n",
       "0              QSO      601  23.198224  21.431953  21.314148  21.176553   \n",
       "1              QSO      788  21.431355  20.708104  20.678850  20.703420   \n",
       "2              QSO      427  17.851451  16.727898  16.679677  16.694640   \n",
       "3              QSO      864  20.789900  20.040371  19.926909  19.843840   \n",
       "4   STAR_RED_DWARF      612  26.454969  23.058767  21.471406  19.504961   \n",
       "\n",
       "     psfMag_z  fiberMag_u  fiberMag_g  fiberMag_r  ...  petroMag_g  \\\n",
       "id                                                 ...               \n",
       "0   21.171444   22.581309   21.644453   21.657571  ...   21.431636   \n",
       "1   20.473229   21.868797   21.029773   20.967054  ...   20.778968   \n",
       "2   16.641788   18.171890   17.033098   16.999682  ...   16.738784   \n",
       "3   19.463270   21.039030   20.317165   20.217898  ...   19.993727   \n",
       "4   18.389096   25.700632   23.629122   21.742750  ...   22.426929   \n",
       "\n",
       "    petroMag_r  petroMag_i  petroMag_z  modelMag_u  modelMag_g  modelMag_r  \\\n",
       "id                                                                           \n",
       "0    21.478312   21.145409   20.422446   22.749241   21.465534   21.364187   \n",
       "1    20.889705   20.639812   20.646660   21.492955   20.758527   20.753925   \n",
       "2    16.688874   16.744210   16.808006   17.818063   16.697434   16.641249   \n",
       "3    19.985531   19.750917   19.455117   20.770711   20.001699   19.889798   \n",
       "4    21.673551   19.610012   18.376141   24.877052   23.147993   21.475342   \n",
       "\n",
       "    modelMag_i  modelMag_z  type_num  \n",
       "id                                    \n",
       "0    21.020605   21.147340         8  \n",
       "1    20.693389   20.512314         8  \n",
       "2    16.660177   16.688928         8  \n",
       "3    19.758113   19.552855         8  \n",
       "4    19.487330   18.375655        10  \n",
       "\n",
       "[5 rows x 23 columns]"
      ]
     },
     "execution_count": 42,
     "metadata": {},
     "output_type": "execute_result"
    }
   ],
   "source": [
    "train.head()"
   ]
  },
  {
   "cell_type": "code",
   "execution_count": 21,
   "metadata": {},
   "outputs": [],
   "source": [
    "y_galaxy_train = train[\"type_num\"]\n",
    "X_galaxy_train = train.iloc[:,2:-1]"
   ]
  },
  {
   "cell_type": "code",
   "execution_count": 26,
   "metadata": {},
   "outputs": [
    {
     "data": {
      "text/plain": [
       "QSO                    49680\n",
       "GALAXY                 37347\n",
       "SERENDIPITY_BLUE       21760\n",
       "SPECTROPHOTO_STD       14630\n",
       "REDDEN_STD             14618\n",
       "STAR_RED_DWARF         13750\n",
       "STAR_BHB               13500\n",
       "SERENDIPITY_FIRST       7132\n",
       "ROSAT_D                 6580\n",
       "STAR_CATY_VAR           6506\n",
       "SERENDIPITY_DISTANT     4654\n",
       "STAR_CARBON             3257\n",
       "SERENDIPITY_RED         2562\n",
       "STAR_WHITE_DWARF        2160\n",
       "STAR_SUB_DWARF          1154\n",
       "STAR_BROWN_DWARF         500\n",
       "SKY                      127\n",
       "SERENDIPITY_MANUAL        61\n",
       "STAR_PN                   13\n",
       "Name: type, dtype: int64"
      ]
     },
     "execution_count": 26,
     "metadata": {},
     "output_type": "execute_result"
    }
   ],
   "source": [
    "train['type'].value_counts()"
   ]
  },
  {
   "cell_type": "code",
   "execution_count": 27,
   "metadata": {},
   "outputs": [],
   "source": [
    "y_galaxy_train = temp_train[\"type_num\"]\n",
    "X_galaxy_train = temp_train.iloc[:,2:-1]"
   ]
  },
  {
   "cell_type": "code",
   "execution_count": 28,
   "metadata": {},
   "outputs": [],
   "source": [
    "X_train, X_test, y_train, y_test = train_test_split(X_galaxy_train, \n",
    "                                                    y_galaxy_train, \n",
    "                                                    stratify = y_galaxy_train,\n",
    "                                                    test_size=0.2, \n",
    "                                                    random_state=1234)"
   ]
  },
  {
   "cell_type": "code",
   "execution_count": 29,
   "metadata": {},
   "outputs": [],
   "source": [
    "kfold = KFold(n_splits=5, random_state= 0, shuffle = True)"
   ]
  },
  {
   "cell_type": "code",
   "execution_count": 31,
   "metadata": {},
   "outputs": [],
   "source": [
    "rf_clf = RandomForestClassifier(n_jobs=-1, random_state=1234)"
   ]
  },
  {
   "cell_type": "code",
   "execution_count": 47,
   "metadata": {},
   "outputs": [],
   "source": [
    "tuned_parameters = {\n",
    "    'n_estimators': [300],\n",
    "    'max_features' : [5],\n",
    "    'criterion' : ['entropy'],\n",
    "    'bootstrap' : [True]\n",
    "}"
   ]
  },
  {
   "cell_type": "code",
   "execution_count": 48,
   "metadata": {},
   "outputs": [],
   "source": [
    "n_iter_search = 10\n",
    "RF_rgs = RandomizedSearchCV(rf_clf, \n",
    "                             tuned_parameters, \n",
    "                             cv=kfold,\n",
    "                             n_jobs=-1,\n",
    "                             random_state=1234,\n",
    "                             scoring='accuracy')"
   ]
  },
  {
   "cell_type": "code",
   "execution_count": 49,
   "metadata": {},
   "outputs": [
    {
     "name": "stderr",
     "output_type": "stream",
     "text": [
      "C:\\Users\\1-17\\Anaconda3\\lib\\site-packages\\sklearn\\model_selection\\_search.py:266: UserWarning: The total space of parameters 1 is smaller than n_iter=10. Running 1 iterations. For exhaustive searches, use GridSearchCV.\n",
      "  % (grid_size, self.n_iter, grid_size), UserWarning)\n"
     ]
    }
   ],
   "source": [
    "RF_rgc = RF_rgs.fit(X_train, y_train)"
   ]
  },
  {
   "cell_type": "code",
   "execution_count": 50,
   "metadata": {},
   "outputs": [
    {
     "data": {
      "text/plain": [
       "RandomForestClassifier(bootstrap=True, class_weight=None, criterion='entropy',\n",
       "                       max_depth=None, max_features=5, max_leaf_nodes=None,\n",
       "                       min_impurity_decrease=0.0, min_impurity_split=None,\n",
       "                       min_samples_leaf=1, min_samples_split=2,\n",
       "                       min_weight_fraction_leaf=0.0, n_estimators=300,\n",
       "                       n_jobs=-1, oob_score=False, random_state=1234, verbose=0,\n",
       "                       warm_start=False)"
      ]
     },
     "execution_count": 50,
     "metadata": {},
     "output_type": "execute_result"
    }
   ],
   "source": [
    "RF_rgc.best_estimator_"
   ]
  },
  {
   "cell_type": "code",
   "execution_count": 51,
   "metadata": {
    "scrolled": true
   },
   "outputs": [
    {
     "data": {
      "text/plain": [
       "0.9372622918797182"
      ]
     },
     "execution_count": 51,
     "metadata": {},
     "output_type": "execute_result"
    }
   ],
   "source": [
    "RF_rgc.best_score_"
   ]
  },
  {
   "cell_type": "code",
   "execution_count": 52,
   "metadata": {},
   "outputs": [],
   "source": [
    "n_iter_search = 10\n",
    "RF_rgs = GridSearchCV(rf_clf, \n",
    "                             tuned_parameters, \n",
    "                             cv=kfold,\n",
    "                             n_jobs=-1,\n",
    "                             scoring='accuracy')"
   ]
  },
  {
   "cell_type": "code",
   "execution_count": 53,
   "metadata": {},
   "outputs": [],
   "source": [
    "RF_rgc = RF_rgs.fit(X_train, y_train)"
   ]
  },
  {
   "cell_type": "code",
   "execution_count": 54,
   "metadata": {},
   "outputs": [
    {
     "data": {
      "text/plain": [
       "0.9372622918797182"
      ]
     },
     "execution_count": 54,
     "metadata": {},
     "output_type": "execute_result"
    }
   ],
   "source": [
    "RF_rgc.best_score_"
   ]
  },
  {
   "cell_type": "code",
   "execution_count": null,
   "metadata": {},
   "outputs": [],
   "source": []
  },
  {
   "cell_type": "code",
   "execution_count": null,
   "metadata": {},
   "outputs": [],
   "source": []
  },
  {
   "cell_type": "code",
   "execution_count": null,
   "metadata": {},
   "outputs": [],
   "source": []
  },
  {
   "cell_type": "code",
   "execution_count": null,
   "metadata": {},
   "outputs": [],
   "source": []
  },
  {
   "cell_type": "code",
   "execution_count": null,
   "metadata": {},
   "outputs": [],
   "source": [
    "submission = pd.DataFrame(data=y_pred, columns=sample_submission.columns, index=sample_submission.index)\n",
    "submission.to_csv('submission.csv', index=True)"
   ]
  }
 ],
 "metadata": {
  "kernelspec": {
   "display_name": "Python 3",
   "language": "python",
   "name": "python3"
  },
  "language_info": {
   "codemirror_mode": {
    "name": "ipython",
    "version": 3
   },
   "file_extension": ".py",
   "mimetype": "text/x-python",
   "name": "python",
   "nbconvert_exporter": "python",
   "pygments_lexer": "ipython3",
   "version": "3.7.4"
  }
 },
 "nbformat": 4,
 "nbformat_minor": 2
}
