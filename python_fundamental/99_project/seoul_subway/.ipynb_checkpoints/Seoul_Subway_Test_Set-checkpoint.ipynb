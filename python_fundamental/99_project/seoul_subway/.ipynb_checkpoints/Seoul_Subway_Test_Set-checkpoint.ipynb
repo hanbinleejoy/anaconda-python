{
 "cells": [
  {
   "cell_type": "markdown",
   "metadata": {},
   "source": [
    "# 너와 나의 연결다리"
   ]
  },
  {
   "cell_type": "markdown",
   "metadata": {},
   "source": [
    "## 합정역 ~ 강변역 퇴근시간 승하차 인원 수 예측하기"
   ]
  },
  {
   "cell_type": "markdown",
   "metadata": {},
   "source": [
    "### 고려사항\n",
    "- 날씨 (강우량에 따라, 고온, 추위, 적설량)\n",
    "- 이벤트 (지하철 파업, 신년행사/광화문, 여러 빅이벤트)\n",
    "- 기본적인 직장 분포도\n",
    "- 지하철역 주변 버스 정류장 상관도\n",
    "- 날짜, 계절, 분기별 승하차 분포도 (공휴일, 연휴), 특히 불금(신촌, 홍대입구행 인원 급증 하는 듯) / 느낌은 월 ~ 수 강변행 인원수가 많아지는 것 같고, 목은 전체적으로 퇴근시간 지하철 승차자 수가 적어지는 것 같고, 금요일에는 확실히 홍대입구 행 인원수가 급증\n",
    "\n",
    "- 이화여대 석사 학위 논문에는 13, 14년 2개년 데이터를 활용하였다.\n",
    "- 17,18년 일별 승하차 인원수는 구할 수 있으나 19년 데이터는 아직 업데이트 안됨. 그래서 17, 18년으로 이용하되 19년 월별 데이터는 존재하므로 상관도에 있어서 문제가 없다는 점만 확인 후 19년은 스킵해야 할 듯\n",
    "- 환승역 같은 경우 하나의 호선만 있는 것이 아니라 하나의 역에 여러 호선이 존재한다. ex) 시청역 - 1, 2호선 이렇게 같이 존재\n"
   ]
  },
  {
   "cell_type": "code",
   "execution_count": 5,
   "metadata": {},
   "outputs": [],
   "source": [
    "import numpy as np\n",
    "import pandas as pd\n",
    "\n",
    "%matplotlib inline\n",
    "import matplotlib.pylab as plt\n",
    "\n",
    "import seaborn as sns\n",
    "sns.set()"
   ]
  },
  {
   "cell_type": "code",
   "execution_count": 6,
   "metadata": {},
   "outputs": [],
   "source": [
    "subway_2018 = pd.read_excel('../project_data/subway/seoul_2018_data.xlsx', encoding='euc-kr')"
   ]
  },
  {
   "cell_type": "code",
   "execution_count": 7,
   "metadata": {},
   "outputs": [],
   "source": [
    "subway_2017 = pd.read_excel('../project_data/subway/seoul_2017_data.xlsx', encoding='euc-kr')"
   ]
  },
  {
   "cell_type": "code",
   "execution_count": 9,
   "metadata": {},
   "outputs": [],
   "source": [
    "subway_month = pd.read_csv('../project_data/subway/seoul_subway_month_data.csv', encoding='euc-kr')"
   ]
  },
  {
   "cell_type": "markdown",
   "metadata": {},
   "source": [
    "## 2018년"
   ]
  },
  {
   "cell_type": "code",
   "execution_count": 10,
   "metadata": {},
   "outputs": [],
   "source": [
    "subway_2018 = subway_2018.rename(columns=subway_2018.iloc[0])\n",
    "subway_2018 = subway_2018.drop(0)"
   ]
  },
  {
   "cell_type": "code",
   "execution_count": 11,
   "metadata": {
    "scrolled": true
   },
   "outputs": [
    {
     "data": {
      "text/html": [
       "<div>\n",
       "<style scoped>\n",
       "    .dataframe tbody tr th:only-of-type {\n",
       "        vertical-align: middle;\n",
       "    }\n",
       "\n",
       "    .dataframe tbody tr th {\n",
       "        vertical-align: top;\n",
       "    }\n",
       "\n",
       "    .dataframe thead th {\n",
       "        text-align: right;\n",
       "    }\n",
       "</style>\n",
       "<table border=\"1\" class=\"dataframe\">\n",
       "  <thead>\n",
       "    <tr style=\"text-align: right;\">\n",
       "      <th></th>\n",
       "      <th>날짜</th>\n",
       "      <th>호선</th>\n",
       "      <th>역번호</th>\n",
       "      <th>역명</th>\n",
       "      <th>구분</th>\n",
       "      <th>05 ~ 06</th>\n",
       "      <th>06 ~ 07</th>\n",
       "      <th>07 ~ 08</th>\n",
       "      <th>08 ~ 09</th>\n",
       "      <th>09 ~ 10</th>\n",
       "      <th>...</th>\n",
       "      <th>16 ~ 17</th>\n",
       "      <th>17 ~ 18</th>\n",
       "      <th>18 ~ 19</th>\n",
       "      <th>19 ~ 20</th>\n",
       "      <th>20 ~ 21</th>\n",
       "      <th>21 ~ 22</th>\n",
       "      <th>22 ~ 23</th>\n",
       "      <th>23 ~ 24</th>\n",
       "      <th>00 ~ 01</th>\n",
       "      <th>합 계</th>\n",
       "    </tr>\n",
       "  </thead>\n",
       "  <tbody>\n",
       "    <tr>\n",
       "      <td>1</td>\n",
       "      <td>2018-01-01 00:00:00</td>\n",
       "      <td>1호선</td>\n",
       "      <td>150</td>\n",
       "      <td>서울역</td>\n",
       "      <td>승차</td>\n",
       "      <td>373</td>\n",
       "      <td>318</td>\n",
       "      <td>365</td>\n",
       "      <td>785</td>\n",
       "      <td>1047</td>\n",
       "      <td>...</td>\n",
       "      <td>3476</td>\n",
       "      <td>3891</td>\n",
       "      <td>3227</td>\n",
       "      <td>2945</td>\n",
       "      <td>2382</td>\n",
       "      <td>3070</td>\n",
       "      <td>1750</td>\n",
       "      <td>781</td>\n",
       "      <td>96</td>\n",
       "      <td>40393</td>\n",
       "    </tr>\n",
       "    <tr>\n",
       "      <td>2</td>\n",
       "      <td>2018-01-01 00:00:00</td>\n",
       "      <td>1호선</td>\n",
       "      <td>150</td>\n",
       "      <td>서울역</td>\n",
       "      <td>하차</td>\n",
       "      <td>205</td>\n",
       "      <td>1040</td>\n",
       "      <td>872</td>\n",
       "      <td>984</td>\n",
       "      <td>1650</td>\n",
       "      <td>...</td>\n",
       "      <td>2885</td>\n",
       "      <td>2845</td>\n",
       "      <td>2337</td>\n",
       "      <td>2131</td>\n",
       "      <td>1669</td>\n",
       "      <td>1404</td>\n",
       "      <td>868</td>\n",
       "      <td>477</td>\n",
       "      <td>147</td>\n",
       "      <td>34730</td>\n",
       "    </tr>\n",
       "    <tr>\n",
       "      <td>3</td>\n",
       "      <td>2018-01-01 00:00:00</td>\n",
       "      <td>1호선</td>\n",
       "      <td>151</td>\n",
       "      <td>시청</td>\n",
       "      <td>승차</td>\n",
       "      <td>87</td>\n",
       "      <td>105</td>\n",
       "      <td>124</td>\n",
       "      <td>197</td>\n",
       "      <td>291</td>\n",
       "      <td>...</td>\n",
       "      <td>1027</td>\n",
       "      <td>1102</td>\n",
       "      <td>1278</td>\n",
       "      <td>1163</td>\n",
       "      <td>1032</td>\n",
       "      <td>975</td>\n",
       "      <td>553</td>\n",
       "      <td>214</td>\n",
       "      <td>9</td>\n",
       "      <td>12298</td>\n",
       "    </tr>\n",
       "    <tr>\n",
       "      <td>4</td>\n",
       "      <td>2018-01-01 00:00:00</td>\n",
       "      <td>1호선</td>\n",
       "      <td>151</td>\n",
       "      <td>시청</td>\n",
       "      <td>하차</td>\n",
       "      <td>47</td>\n",
       "      <td>294</td>\n",
       "      <td>497</td>\n",
       "      <td>1017</td>\n",
       "      <td>673</td>\n",
       "      <td>...</td>\n",
       "      <td>781</td>\n",
       "      <td>702</td>\n",
       "      <td>552</td>\n",
       "      <td>388</td>\n",
       "      <td>308</td>\n",
       "      <td>236</td>\n",
       "      <td>160</td>\n",
       "      <td>100</td>\n",
       "      <td>39</td>\n",
       "      <td>10945</td>\n",
       "    </tr>\n",
       "    <tr>\n",
       "      <td>5</td>\n",
       "      <td>2018-01-01 00:00:00</td>\n",
       "      <td>1호선</td>\n",
       "      <td>152</td>\n",
       "      <td>종각</td>\n",
       "      <td>승차</td>\n",
       "      <td>604</td>\n",
       "      <td>399</td>\n",
       "      <td>191</td>\n",
       "      <td>250</td>\n",
       "      <td>370</td>\n",
       "      <td>...</td>\n",
       "      <td>2127</td>\n",
       "      <td>2172</td>\n",
       "      <td>2171</td>\n",
       "      <td>1873</td>\n",
       "      <td>1935</td>\n",
       "      <td>2084</td>\n",
       "      <td>1458</td>\n",
       "      <td>580</td>\n",
       "      <td>28</td>\n",
       "      <td>22621</td>\n",
       "    </tr>\n",
       "  </tbody>\n",
       "</table>\n",
       "<p>5 rows × 26 columns</p>\n",
       "</div>"
      ],
      "text/plain": [
       "                    날짜   호선  역번호   역명  구분 05 ~ 06 06 ~ 07 07 ~ 08 08 ~ 09  \\\n",
       "1  2018-01-01 00:00:00  1호선  150  서울역  승차     373     318     365     785   \n",
       "2  2018-01-01 00:00:00  1호선  150  서울역  하차     205    1040     872     984   \n",
       "3  2018-01-01 00:00:00  1호선  151   시청  승차      87     105     124     197   \n",
       "4  2018-01-01 00:00:00  1호선  151   시청  하차      47     294     497    1017   \n",
       "5  2018-01-01 00:00:00  1호선  152   종각  승차     604     399     191     250   \n",
       "\n",
       "  09 ~ 10  ... 16 ~ 17 17 ~ 18 18 ~ 19 19 ~ 20 20 ~ 21 21 ~ 22 22 ~ 23  \\\n",
       "1    1047  ...    3476    3891    3227    2945    2382    3070    1750   \n",
       "2    1650  ...    2885    2845    2337    2131    1669    1404     868   \n",
       "3     291  ...    1027    1102    1278    1163    1032     975     553   \n",
       "4     673  ...     781     702     552     388     308     236     160   \n",
       "5     370  ...    2127    2172    2171    1873    1935    2084    1458   \n",
       "\n",
       "  23 ~ 24 00 ~ 01    합 계  \n",
       "1     781      96  40393  \n",
       "2     477     147  34730  \n",
       "3     214       9  12298  \n",
       "4     100      39  10945  \n",
       "5     580      28  22621  \n",
       "\n",
       "[5 rows x 26 columns]"
      ]
     },
     "execution_count": 11,
     "metadata": {},
     "output_type": "execute_result"
    }
   ],
   "source": [
    "subway_2018.head()"
   ]
  },
  {
   "cell_type": "code",
   "execution_count": 12,
   "metadata": {},
   "outputs": [],
   "source": [
    "subway_2018['날짜'] = subway_2018['날짜'].apply(lambda x: str(x).split()[0])"
   ]
  },
  {
   "cell_type": "markdown",
   "metadata": {},
   "source": [
    "----------"
   ]
  },
  {
   "cell_type": "code",
   "execution_count": 14,
   "metadata": {},
   "outputs": [],
   "source": [
    "target_station = ['합정', '홍대입구','신촌','이대','아현','충정로','시청','을지로입구','을지로3가','을지로4가','동대문역사문화공원','신당','상왕십리','왕십리','한양대','뚝섬','성수','건대입구','구의','강변']"
   ]
  },
  {
   "cell_type": "code",
   "execution_count": 15,
   "metadata": {},
   "outputs": [],
   "source": [
    "target_df_included = subway_2018[[x in target_station for x in subway_2018['역명']]]"
   ]
  },
  {
   "cell_type": "code",
   "execution_count": 16,
   "metadata": {
    "scrolled": false
   },
   "outputs": [],
   "source": [
    "target_df_included = target_df_included[target_df_included['호선'] == '2호선']"
   ]
  },
  {
   "cell_type": "code",
   "execution_count": 65,
   "metadata": {
    "scrolled": true
   },
   "outputs": [
    {
     "data": {
      "text/html": [
       "<div>\n",
       "<style scoped>\n",
       "    .dataframe tbody tr th:only-of-type {\n",
       "        vertical-align: middle;\n",
       "    }\n",
       "\n",
       "    .dataframe tbody tr th {\n",
       "        vertical-align: top;\n",
       "    }\n",
       "\n",
       "    .dataframe thead th {\n",
       "        text-align: right;\n",
       "    }\n",
       "</style>\n",
       "<table border=\"1\" class=\"dataframe\">\n",
       "  <thead>\n",
       "    <tr style=\"text-align: right;\">\n",
       "      <th></th>\n",
       "      <th>날짜</th>\n",
       "      <th>호선</th>\n",
       "      <th>역번호</th>\n",
       "      <th>역명</th>\n",
       "      <th>구분</th>\n",
       "      <th>05 ~ 06</th>\n",
       "      <th>06 ~ 07</th>\n",
       "      <th>07 ~ 08</th>\n",
       "      <th>08 ~ 09</th>\n",
       "      <th>09 ~ 10</th>\n",
       "      <th>...</th>\n",
       "      <th>16 ~ 17</th>\n",
       "      <th>17 ~ 18</th>\n",
       "      <th>18 ~ 19</th>\n",
       "      <th>19 ~ 20</th>\n",
       "      <th>20 ~ 21</th>\n",
       "      <th>21 ~ 22</th>\n",
       "      <th>22 ~ 23</th>\n",
       "      <th>23 ~ 24</th>\n",
       "      <th>00 ~ 01</th>\n",
       "      <th>합 계</th>\n",
       "    </tr>\n",
       "  </thead>\n",
       "  <tbody>\n",
       "    <tr>\n",
       "      <td>21</td>\n",
       "      <td>2018-01-01</td>\n",
       "      <td>2호선</td>\n",
       "      <td>201</td>\n",
       "      <td>시청</td>\n",
       "      <td>승차</td>\n",
       "      <td>37</td>\n",
       "      <td>57</td>\n",
       "      <td>77</td>\n",
       "      <td>106</td>\n",
       "      <td>179</td>\n",
       "      <td>...</td>\n",
       "      <td>698</td>\n",
       "      <td>798</td>\n",
       "      <td>765</td>\n",
       "      <td>630</td>\n",
       "      <td>633</td>\n",
       "      <td>617</td>\n",
       "      <td>392</td>\n",
       "      <td>176</td>\n",
       "      <td>2</td>\n",
       "      <td>8115</td>\n",
       "    </tr>\n",
       "    <tr>\n",
       "      <td>22</td>\n",
       "      <td>2018-01-01</td>\n",
       "      <td>2호선</td>\n",
       "      <td>201</td>\n",
       "      <td>시청</td>\n",
       "      <td>하차</td>\n",
       "      <td>35</td>\n",
       "      <td>160</td>\n",
       "      <td>253</td>\n",
       "      <td>418</td>\n",
       "      <td>326</td>\n",
       "      <td>...</td>\n",
       "      <td>446</td>\n",
       "      <td>390</td>\n",
       "      <td>367</td>\n",
       "      <td>263</td>\n",
       "      <td>215</td>\n",
       "      <td>175</td>\n",
       "      <td>160</td>\n",
       "      <td>126</td>\n",
       "      <td>17</td>\n",
       "      <td>5897</td>\n",
       "    </tr>\n",
       "    <tr>\n",
       "      <td>23</td>\n",
       "      <td>2018-01-01</td>\n",
       "      <td>2호선</td>\n",
       "      <td>202</td>\n",
       "      <td>을지로입구</td>\n",
       "      <td>승차</td>\n",
       "      <td>128</td>\n",
       "      <td>116</td>\n",
       "      <td>127</td>\n",
       "      <td>205</td>\n",
       "      <td>373</td>\n",
       "      <td>...</td>\n",
       "      <td>1798</td>\n",
       "      <td>2139</td>\n",
       "      <td>2478</td>\n",
       "      <td>2001</td>\n",
       "      <td>1862</td>\n",
       "      <td>2196</td>\n",
       "      <td>1804</td>\n",
       "      <td>863</td>\n",
       "      <td>13</td>\n",
       "      <td>22944</td>\n",
       "    </tr>\n",
       "    <tr>\n",
       "      <td>24</td>\n",
       "      <td>2018-01-01</td>\n",
       "      <td>2호선</td>\n",
       "      <td>202</td>\n",
       "      <td>을지로입구</td>\n",
       "      <td>하차</td>\n",
       "      <td>109</td>\n",
       "      <td>431</td>\n",
       "      <td>647</td>\n",
       "      <td>1246</td>\n",
       "      <td>1139</td>\n",
       "      <td>...</td>\n",
       "      <td>1759</td>\n",
       "      <td>1548</td>\n",
       "      <td>1464</td>\n",
       "      <td>988</td>\n",
       "      <td>757</td>\n",
       "      <td>499</td>\n",
       "      <td>419</td>\n",
       "      <td>223</td>\n",
       "      <td>297</td>\n",
       "      <td>21587</td>\n",
       "    </tr>\n",
       "    <tr>\n",
       "      <td>25</td>\n",
       "      <td>2018-01-01</td>\n",
       "      <td>2호선</td>\n",
       "      <td>203</td>\n",
       "      <td>을지로3가</td>\n",
       "      <td>승차</td>\n",
       "      <td>42</td>\n",
       "      <td>79</td>\n",
       "      <td>98</td>\n",
       "      <td>124</td>\n",
       "      <td>215</td>\n",
       "      <td>...</td>\n",
       "      <td>545</td>\n",
       "      <td>619</td>\n",
       "      <td>539</td>\n",
       "      <td>427</td>\n",
       "      <td>367</td>\n",
       "      <td>342</td>\n",
       "      <td>237</td>\n",
       "      <td>98</td>\n",
       "      <td>0</td>\n",
       "      <td>7111</td>\n",
       "    </tr>\n",
       "  </tbody>\n",
       "</table>\n",
       "<p>5 rows × 26 columns</p>\n",
       "</div>"
      ],
      "text/plain": [
       "            날짜   호선  역번호     역명  구분 05 ~ 06 06 ~ 07 07 ~ 08 08 ~ 09 09 ~ 10  \\\n",
       "21  2018-01-01  2호선  201     시청  승차      37      57      77     106     179   \n",
       "22  2018-01-01  2호선  201     시청  하차      35     160     253     418     326   \n",
       "23  2018-01-01  2호선  202  을지로입구  승차     128     116     127     205     373   \n",
       "24  2018-01-01  2호선  202  을지로입구  하차     109     431     647    1246    1139   \n",
       "25  2018-01-01  2호선  203  을지로3가  승차      42      79      98     124     215   \n",
       "\n",
       "    ... 16 ~ 17 17 ~ 18 18 ~ 19 19 ~ 20 20 ~ 21 21 ~ 22 22 ~ 23 23 ~ 24  \\\n",
       "21  ...     698     798     765     630     633     617     392     176   \n",
       "22  ...     446     390     367     263     215     175     160     126   \n",
       "23  ...    1798    2139    2478    2001    1862    2196    1804     863   \n",
       "24  ...    1759    1548    1464     988     757     499     419     223   \n",
       "25  ...     545     619     539     427     367     342     237      98   \n",
       "\n",
       "   00 ~ 01    합 계  \n",
       "21       2   8115  \n",
       "22      17   5897  \n",
       "23      13  22944  \n",
       "24     297  21587  \n",
       "25       0   7111  \n",
       "\n",
       "[5 rows x 26 columns]"
      ]
     },
     "execution_count": 65,
     "metadata": {},
     "output_type": "execute_result"
    }
   ],
   "source": [
    "target_df_included.head()"
   ]
  },
  {
   "cell_type": "code",
   "execution_count": 48,
   "metadata": {},
   "outputs": [],
   "source": [
    "columns = target_df_included.columns[5:-1]\n",
    "target_mean_in = target_df_included[target_df_included['구분'] == '승차'][columns].mean()\n",
    "target_mean_out = target_df_included[target_df_included['구분'] == '하차'][columns].mean()"
   ]
  },
  {
   "cell_type": "code",
   "execution_count": 64,
   "metadata": {},
   "outputs": [
    {
     "data": {
      "text/plain": [
       "Text(0.5, 1.0, '2018 Target Station Out')"
      ]
     },
     "execution_count": 64,
     "metadata": {},
     "output_type": "execute_result"
    },
    {
     "data": {
      "image/png": "[encoded data removed]",
      "text/plain": [
       "<Figure size 1440x720 with 2 Axes>"
      ]
     },
     "metadata": {},
     "output_type": "display_data"
    }
   ],
   "source": [
    "fig, axes = plt.subplots(nrows=2, ncols=1,figsize=(20,10))\n",
    "\n",
    "axes[0].bar(target_mean_in.index, target_mean_in.values)\n",
    "axes[0].set_title(\"2018 Target Station In\")\n",
    "axes[1].bar(target_mean_out.index, target_mean_out.values)\n",
    "axes[1].set_title(\"2018 Target Station Out\")"
   ]
  },
  {
   "cell_type": "markdown",
   "metadata": {},
   "source": [
    "- 퇴근시간에(18 ~ 19) 승차자 수가 가장 많고 / 출근시간에(08 ~ 09) 하차자 수가 가장 많다."
   ]
  },
  {
   "cell_type": "markdown",
   "metadata": {},
   "source": [
    "## 2017년"
   ]
  },
  {
   "cell_type": "code",
   "execution_count": null,
   "metadata": {},
   "outputs": [],
   "source": [
    "subway_2017 = subway_2017.rename(columns=subway_2017.iloc[0])\n",
    "subway_2017 = subway_2017.drop(0)\n",
    "\n",
    "subway_2017['날짜'] = subway_2017['날짜'].apply(lambda x: str(x).split()[0])\n",
    "target_df_included = subway_2017[[x in target_station for x in subway_2017['역명']]]\n",
    "target_df_included = target_df_included[target_df_included['호선'] == '2호선']\n",
    "columns = target_df_included.columns[6:-1]\n",
    "target_mean_in = target_df_included[target_df_included['구분'] == '승차'][columns].mean()\n",
    "target_mean_out = target_df_included[target_df_included['구분'] == '하차'][columns].mean()\n",
    "\n",
    "fig, axes = plt.subplots(nrows=2, ncols=1,figsize=(20,10))\n",
    "\n",
    "axes[0].bar(target_mean_in.index, target_mean_in.values)\n",
    "axes[0].set_title(\"2018 Target Station In\")\n",
    "axes[1].bar(target_mean_out.index, target_mean_out.values)\n",
    "axes[1].set_title(\"2018 Target Station Out\")"
   ]
  },
  {
   "cell_type": "code",
   "execution_count": null,
   "metadata": {},
   "outputs": [],
   "source": []
  },
  {
   "cell_type": "code",
   "execution_count": 18,
   "metadata": {
    "scrolled": true
   },
   "outputs": [],
   "source": [
    "graph_target = target_df_included[target_df_included['구분'] == '승차'][['역명','07 ~ 08','08 ~ 09','09 ~ 10']].groupby('역명').sum()"
   ]
  },
  {
   "cell_type": "code",
   "execution_count": 19,
   "metadata": {
    "scrolled": true
   },
   "outputs": [],
   "source": [
    "graph = pd.DataFrame(graph_target.sum(axis = 1))"
   ]
  },
  {
   "cell_type": "code",
   "execution_count": 20,
   "metadata": {
    "scrolled": true
   },
   "outputs": [],
   "source": [
    "graph = graph.rename(columns={0 : 'sum'})"
   ]
  },
  {
   "cell_type": "code",
   "execution_count": 21,
   "metadata": {
    "scrolled": true
   },
   "outputs": [],
   "source": [
    "graph = graph.reset_index()"
   ]
  },
  {
   "cell_type": "code",
   "execution_count": 22,
   "metadata": {},
   "outputs": [],
   "source": [
    "column_number = {}\n",
    "for i, column in enumerate(target_station):\n",
    "    column_number[column] = i\n",
    "    \n",
    "def to_number(x, dic):\n",
    "    return dic[x]\n",
    "\n",
    "graph['역명'] = graph['역명'].apply(lambda x: to_number(x, column_number))"
   ]
  },
  {
   "cell_type": "code",
   "execution_count": 23,
   "metadata": {},
   "outputs": [
    {
     "data": {
      "text/html": [
       "<div>\n",
       "<style scoped>\n",
       "    .dataframe tbody tr th:only-of-type {\n",
       "        vertical-align: middle;\n",
       "    }\n",
       "\n",
       "    .dataframe tbody tr th {\n",
       "        vertical-align: top;\n",
       "    }\n",
       "\n",
       "    .dataframe thead th {\n",
       "        text-align: right;\n",
       "    }\n",
       "</style>\n",
       "<table border=\"1\" class=\"dataframe\">\n",
       "  <thead>\n",
       "    <tr style=\"text-align: right;\">\n",
       "      <th></th>\n",
       "      <th>역명</th>\n",
       "      <th>sum</th>\n",
       "    </tr>\n",
       "  </thead>\n",
       "  <tbody>\n",
       "    <tr>\n",
       "      <td>0</td>\n",
       "      <td>17</td>\n",
       "      <td>2977798</td>\n",
       "    </tr>\n",
       "    <tr>\n",
       "      <td>1</td>\n",
       "      <td>10</td>\n",
       "      <td>528915</td>\n",
       "    </tr>\n",
       "    <tr>\n",
       "      <td>2</td>\n",
       "      <td>15</td>\n",
       "      <td>997572</td>\n",
       "    </tr>\n",
       "    <tr>\n",
       "      <td>3</td>\n",
       "      <td>12</td>\n",
       "      <td>1664930</td>\n",
       "    </tr>\n",
       "    <tr>\n",
       "      <td>4</td>\n",
       "      <td>16</td>\n",
       "      <td>1099779</td>\n",
       "    </tr>\n",
       "    <tr>\n",
       "      <td>5</td>\n",
       "      <td>6</td>\n",
       "      <td>333783</td>\n",
       "    </tr>\n",
       "    <tr>\n",
       "      <td>6</td>\n",
       "      <td>11</td>\n",
       "      <td>1246114</td>\n",
       "    </tr>\n",
       "    <tr>\n",
       "      <td>7</td>\n",
       "      <td>2</td>\n",
       "      <td>1748637</td>\n",
       "    </tr>\n",
       "    <tr>\n",
       "      <td>8</td>\n",
       "      <td>4</td>\n",
       "      <td>1095589</td>\n",
       "    </tr>\n",
       "    <tr>\n",
       "      <td>9</td>\n",
       "      <td>8</td>\n",
       "      <td>390456</td>\n",
       "    </tr>\n",
       "    <tr>\n",
       "      <td>10</td>\n",
       "      <td>9</td>\n",
       "      <td>242692</td>\n",
       "    </tr>\n",
       "    <tr>\n",
       "      <td>11</td>\n",
       "      <td>7</td>\n",
       "      <td>584272</td>\n",
       "    </tr>\n",
       "    <tr>\n",
       "      <td>12</td>\n",
       "      <td>3</td>\n",
       "      <td>790614</td>\n",
       "    </tr>\n",
       "    <tr>\n",
       "      <td>13</td>\n",
       "      <td>14</td>\n",
       "      <td>288008</td>\n",
       "    </tr>\n",
       "    <tr>\n",
       "      <td>14</td>\n",
       "      <td>0</td>\n",
       "      <td>1820842</td>\n",
       "    </tr>\n",
       "    <tr>\n",
       "      <td>15</td>\n",
       "      <td>1</td>\n",
       "      <td>2929357</td>\n",
       "    </tr>\n",
       "  </tbody>\n",
       "</table>\n",
       "</div>"
      ],
      "text/plain": [
       "    역명      sum\n",
       "0   17  2977798\n",
       "1   10   528915\n",
       "2   15   997572\n",
       "3   12  1664930\n",
       "4   16  1099779\n",
       "5    6   333783\n",
       "6   11  1246114\n",
       "7    2  1748637\n",
       "8    4  1095589\n",
       "9    8   390456\n",
       "10   9   242692\n",
       "11   7   584272\n",
       "12   3   790614\n",
       "13  14   288008\n",
       "14   0  1820842\n",
       "15   1  2929357"
      ]
     },
     "execution_count": 23,
     "metadata": {},
     "output_type": "execute_result"
    }
   ],
   "source": [
    "graph"
   ]
  },
  {
   "cell_type": "code",
   "execution_count": 24,
   "metadata": {
    "scrolled": true
   },
   "outputs": [
    {
     "data": {
      "text/plain": [
       "<BarContainer object of 16 artists>"
      ]
     },
     "execution_count": 24,
     "metadata": {},
     "output_type": "execute_result"
    },
    {
     "data": {
      "image/png": "[encoded data removed]",
      "text/plain": [
       "<Figure size 432x288 with 1 Axes>"
      ]
     },
     "metadata": {},
     "output_type": "display_data"
    }
   ],
   "source": [
    "plt.bar(graph['역명'], graph['sum'])"
   ]
  },
  {
   "cell_type": "code",
   "execution_count": null,
   "metadata": {},
   "outputs": [],
   "source": []
  },
  {
   "cell_type": "markdown",
   "metadata": {},
   "source": [
    "- target(y) : 18 ~ 20 퇴근시간의 target_station list의 승하차 예측\n",
    "- X : 출근 시간 및"
   ]
  },
  {
   "cell_type": "code",
   "execution_count": null,
   "metadata": {},
   "outputs": [],
   "source": []
  },
  {
   "cell_type": "code",
   "execution_count": null,
   "metadata": {},
   "outputs": [],
   "source": []
  },
  {
   "cell_type": "code",
   "execution_count": null,
   "metadata": {},
   "outputs": [],
   "source": []
  }
 ],
 "metadata": {
  "kernelspec": {
   "display_name": "Python 3",
   "language": "python",
   "name": "python3"
  },
  "language_info": {
   "codemirror_mode": {
    "name": "ipython",
    "version": 3
   },
   "file_extension": ".py",
   "mimetype": "text/x-python",
   "name": "python",
   "nbconvert_exporter": "python",
   "pygments_lexer": "ipython3",
   "version": "3.7.4"
  }
 },
 "nbformat": 4,
 "nbformat_minor": 2
}
