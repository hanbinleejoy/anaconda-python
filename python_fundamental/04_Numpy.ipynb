{
 "cells": [
  {
   "cell_type": "code",
   "execution_count": 23,
   "metadata": {},
   "outputs": [],
   "source": [
    "# Numpy import\n",
    "import numpy as np"
   ]
  },
  {
   "cell_type": "code",
   "execution_count": 3,
   "metadata": {},
   "outputs": [
    {
     "name": "stdout",
     "output_type": "stream",
     "text": [
      "[16, 17, 18, 19, 20]\n"
     ]
    }
   ],
   "source": [
    "a = [1,2,3,4,5]\n",
    "for i in range(len(a)):\n",
    "    a[i] += 15\n",
    "    \n",
    "print(a)"
   ]
  },
  {
   "cell_type": "markdown",
   "metadata": {},
   "source": [
    "numpy array를 따로 지정"
   ]
  },
  {
   "cell_type": "code",
   "execution_count": 4,
   "metadata": {},
   "outputs": [
    {
     "name": "stdout",
     "output_type": "stream",
     "text": [
      "[16 17 18 19 20]\n"
     ]
    }
   ],
   "source": [
    "a = np.array(a)\n",
    "print(a)"
   ]
  },
  {
   "cell_type": "code",
   "execution_count": 5,
   "metadata": {},
   "outputs": [
    {
     "data": {
      "text/plain": [
       "array([16, 17, 18, 19, 20])"
      ]
     },
     "execution_count": 5,
     "metadata": {},
     "output_type": "execute_result"
    }
   ],
   "source": [
    "a"
   ]
  },
  {
   "cell_type": "markdown",
   "metadata": {},
   "source": [
    "참고) 위의 경우와 유사한 예제: 대상이 2개"
   ]
  },
  {
   "cell_type": "code",
   "execution_count": 8,
   "metadata": {},
   "outputs": [
    {
     "name": "stdout",
     "output_type": "stream",
     "text": [
      "[12 14 16 18 20 22 24 26 28 30]\n"
     ]
    }
   ],
   "source": [
    "a = [1,2,3,4,5,6,7,8,9,10]\n",
    "b = [11,12,13,14,15,16,17,18,19,20]\n",
    "\n",
    "a = np.array(a)\n",
    "b = np.array(b)\n",
    "print(a+b)"
   ]
  },
  {
   "cell_type": "markdown",
   "metadata": {},
   "source": [
    "이런식으로도 쓰인다"
   ]
  },
  {
   "cell_type": "code",
   "execution_count": 13,
   "metadata": {},
   "outputs": [
    {
     "data": {
      "text/plain": [
       "array([ 1,  2,  3,  4,  5,  6,  7,  8,  9, 10])"
      ]
     },
     "execution_count": 13,
     "metadata": {},
     "output_type": "execute_result"
    }
   ],
   "source": [
    "#arr_a = numpy.array([1,2,3,4,5,6,7,8,9,10]) package 이름 따로 지정안했을 시\n",
    "arr_a = np.array([1,2,3,4,5,6,7,8,9,10])\n",
    "arr_a"
   ]
  },
  {
   "cell_type": "markdown",
   "metadata": {},
   "source": [
    "기본 정보 확인 : 차원(ndim), 모습(shape), 타입(ntype)"
   ]
  },
  {
   "cell_type": "markdown",
   "metadata": {},
   "source": [
    "어레이 원소에도 다른 형식도 가능"
   ]
  },
  {
   "cell_type": "code",
   "execution_count": 16,
   "metadata": {},
   "outputs": [
    {
     "name": "stdout",
     "output_type": "stream",
     "text": [
      "[list([1, 2, 3, 4]) 2 3 list([7, 8, 9, 10, 11, [2, 3, 4, 5]])]\n",
      "object\n"
     ]
    }
   ],
   "source": [
    "data = [[1,2,3,4],2,3,[7,8,9,10,11,[2,3,4,5]]]\n",
    "arr_data = np.array(data)\n",
    "print(arr_data)\n",
    "print(arr_data.dtype) # object"
   ]
  },
  {
   "cell_type": "code",
   "execution_count": 20,
   "metadata": {},
   "outputs": [
    {
     "name": "stdout",
     "output_type": "stream",
     "text": [
      "[[1 2 3 4]\n",
      " [1 3 5 7]]\n",
      "int32\n",
      "(2, 4)\n",
      "2\n"
     ]
    }
   ],
   "source": [
    "data1 = [[1,2,3,4],[1,3,5,7]]\n",
    "arr_data1 = np.array(data1)\n",
    "print(arr_data1)\n",
    "print(arr_data1.dtype) # int 32\n",
    "# 리스트 안에 같은 형식의 데이터(여기선 list를 넣음)를 넣으면 int로 인식\n",
    "print(arr_data1.shape)\n",
    "print(arr_data1.ndim)\n",
    "# 2차원 array로 인식 / 2행 4열 array"
   ]
  },
  {
   "cell_type": "markdown",
   "metadata": {},
   "source": [
    "형식을 미리 지정할 수도 있다. (여기선 int -> string으로 바뀜)"
   ]
  },
  {
   "cell_type": "code",
   "execution_count": 27,
   "metadata": {},
   "outputs": [
    {
     "data": {
      "text/plain": [
       "array([b'1', b'2', b'3'], dtype='|S1')"
      ]
     },
     "execution_count": 27,
     "metadata": {},
     "output_type": "execute_result"
    }
   ],
   "source": [
    "arr2 = np.array([1,2,3],dtype=np.string_)\n",
    "arr2"
   ]
  },
  {
   "cell_type": "markdown",
   "metadata": {},
   "source": [
    "for loop을 통해서 두개의 배열을 더할 때의 시간비용"
   ]
  },
  {
   "cell_type": "code",
   "execution_count": 32,
   "metadata": {},
   "outputs": [
    {
     "name": "stdout",
     "output_type": "stream",
     "text": [
      "python list Load Time : 0.0\n",
      "python list for loop: 4.376448392868042\n",
      "Total: 4.377448558807373\n"
     ]
    }
   ],
   "source": [
    "import time\n",
    "size_vector = 10000000\n",
    "\n",
    "def pythonlist(size_vector):\n",
    "    t1 = time.time()\n",
    "    x = range(size_vector)\n",
    "    y = range(size_vector)\n",
    "    t2 = time.time()\n",
    "    print(\"python list Load Time : \" + str(t2-t1))\n",
    "    z = []\n",
    "    \n",
    "    t3 = time.time()\n",
    "    for i in range(len(x)):\n",
    "        z.append(x[i] + y[i])\n",
    "    t4 = time.time()\n",
    "    print(\"python list for loop: \" + str(t4-t3))\n",
    "    print(\"Total: \"+str(t4-t1))\n",
    "\n",
    "pythonlist(size_vector)"
   ]
  },
  {
   "cell_type": "markdown",
   "metadata": {},
   "source": [
    "numpy array를 이용해 연산을 할시 걸리는 시간비용(훨씬 단축됨)"
   ]
  },
  {
   "cell_type": "code",
   "execution_count": 33,
   "metadata": {},
   "outputs": [
    {
     "name": "stdout",
     "output_type": "stream",
     "text": [
      "numpy array1 Load Time : 0.03500199317932129\n",
      "numpy array1 for loop : 0.021001338958740234\n",
      "numpy array1 Total : 0.05600333213806152\n",
      "numpy array2 Load Time : 0.031001806259155273\n",
      "numpy array2 for loop : 4.217241525650024\n",
      "numpy array2 Total : 4.24824333190918\n"
     ]
    }
   ],
   "source": [
    "\n",
    "def numpyarray1(size_vector):\n",
    "    t1 = time.time()\n",
    "    x = np.arange(size_vector)\n",
    "    y = np.arange(size_vector)\n",
    "    t2 = time.time()\n",
    "    print(\"numpy array1 Load Time : \" + str(t2-t1))\n",
    "    \n",
    "    # numpy array를 이용해서 연산을 하면 for loop 돌리는 것보다 훨씬 빠르다.\n",
    "    t3 = time.time()\n",
    "    z = x + y\n",
    "    t4 = time.time()\n",
    "    print(\"numpy array1 for loop : \" + str(t4-t3))\n",
    "    \n",
    "    print(\"numpy array1 Total : \" + str(t4-t1))\n",
    "\n",
    "numpyarray1(size_vector)\n",
    "\n",
    "def numpyarray2(size_vector):\n",
    "    t1 = time.time()\n",
    "    x = np.arange(size_vector)\n",
    "    y = np.arange(size_vector)\n",
    "    t2 = time.time()\n",
    "    print(\"numpy array2 Load Time : \" + str(t2-t1))\n",
    "    \n",
    "    # numpy array를 이용해서 연산을 하면 for loop 돌리는 것보다 훨씬 빠르다.\n",
    "    t3 = time.time()\n",
    "    z = np.ndarray(size_vector)\n",
    "    for i in range(len(x)):\n",
    "        z[i] = x[i] + y[i]\n",
    "    t4 = time.time()\n",
    "    print(\"numpy array2 for loop : \" + str(t4-t3))\n",
    "   \n",
    "    print(\"numpy array2 Total : \" + str(t4-t1))\n",
    "    \n",
    "numpyarray2(size_vector)"
   ]
  },
  {
   "cell_type": "code",
   "execution_count": null,
   "metadata": {},
   "outputs": [],
   "source": []
  },
  {
   "cell_type": "code",
   "execution_count": null,
   "metadata": {},
   "outputs": [],
   "source": []
  },
  {
   "cell_type": "code",
   "execution_count": null,
   "metadata": {},
   "outputs": [],
   "source": []
  }
 ],
 "metadata": {
  "kernelspec": {
   "display_name": "Python 3",
   "language": "python",
   "name": "python3"
  },
  "language_info": {
   "codemirror_mode": {
    "name": "ipython",
    "version": 3
   },
   "file_extension": ".py",
   "mimetype": "text/x-python",
   "name": "python",
   "nbconvert_exporter": "python",
   "pygments_lexer": "ipython3",
   "version": "3.7.4"
  }
 },
 "nbformat": 4,
 "nbformat_minor": 2
}
