{
 "cells": [
  {
   "cell_type": "code",
   "execution_count": 1,
   "metadata": {},
   "outputs": [],
   "source": [
    "# Numpy import\n",
    "import numpy as np"
   ]
  },
  {
   "cell_type": "code",
   "execution_count": 3,
   "metadata": {},
   "outputs": [
    {
     "name": "stdout",
     "output_type": "stream",
     "text": [
      "[16, 17, 18, 19, 20]\n"
     ]
    }
   ],
   "source": [
    "a = [1,2,3,4,5]\n",
    "for i in range(len(a)):\n",
    "    a[i] += 15\n",
    "    \n",
    "print(a)"
   ]
  },
  {
   "cell_type": "markdown",
   "metadata": {},
   "source": [
    "### numpy array를 따로 지정"
   ]
  },
  {
   "cell_type": "code",
   "execution_count": 4,
   "metadata": {},
   "outputs": [
    {
     "name": "stdout",
     "output_type": "stream",
     "text": [
      "[16 17 18 19 20]\n"
     ]
    }
   ],
   "source": [
    "a = np.array(a)\n",
    "print(a)"
   ]
  },
  {
   "cell_type": "code",
   "execution_count": 5,
   "metadata": {},
   "outputs": [
    {
     "data": {
      "text/plain": [
       "array([16, 17, 18, 19, 20])"
      ]
     },
     "execution_count": 5,
     "metadata": {},
     "output_type": "execute_result"
    }
   ],
   "source": [
    "a"
   ]
  },
  {
   "cell_type": "markdown",
   "metadata": {},
   "source": [
    "#### 참고) 위의 경우와 유사한 예제: 대상이 2개"
   ]
  },
  {
   "cell_type": "code",
   "execution_count": 8,
   "metadata": {},
   "outputs": [
    {
     "name": "stdout",
     "output_type": "stream",
     "text": [
      "[12 14 16 18 20 22 24 26 28 30]\n"
     ]
    }
   ],
   "source": [
    "a = [1,2,3,4,5,6,7,8,9,10]\n",
    "b = [11,12,13,14,15,16,17,18,19,20]\n",
    "\n",
    "a = np.array(a)\n",
    "b = np.array(b)\n",
    "print(a+b)"
   ]
  },
  {
   "cell_type": "markdown",
   "metadata": {},
   "source": [
    "#### 이런식으로도 쓰인다"
   ]
  },
  {
   "cell_type": "code",
   "execution_count": 13,
   "metadata": {},
   "outputs": [
    {
     "data": {
      "text/plain": [
       "array([ 1,  2,  3,  4,  5,  6,  7,  8,  9, 10])"
      ]
     },
     "execution_count": 13,
     "metadata": {},
     "output_type": "execute_result"
    }
   ],
   "source": [
    "#arr_a = numpy.array([1,2,3,4,5,6,7,8,9,10]) package 이름 따로 지정안했을 시\n",
    "arr_a = np.array([1,2,3,4,5,6,7,8,9,10])\n",
    "arr_a"
   ]
  },
  {
   "cell_type": "markdown",
   "metadata": {},
   "source": [
    "#### 기본 정보 확인 : 차원(ndim), 모습(shape), 타입(ntype)"
   ]
  },
  {
   "cell_type": "markdown",
   "metadata": {},
   "source": [
    "#### 어레이 원소에도 다른 형식도 가능"
   ]
  },
  {
   "cell_type": "code",
   "execution_count": 16,
   "metadata": {},
   "outputs": [
    {
     "name": "stdout",
     "output_type": "stream",
     "text": [
      "[list([1, 2, 3, 4]) 2 3 list([7, 8, 9, 10, 11, [2, 3, 4, 5]])]\n",
      "object\n"
     ]
    }
   ],
   "source": [
    "data = [[1,2,3,4],2,3,[7,8,9,10,11,[2,3,4,5]]]\n",
    "arr_data = np.array(data)\n",
    "print(arr_data)\n",
    "print(arr_data.dtype) # object"
   ]
  },
  {
   "cell_type": "code",
   "execution_count": 20,
   "metadata": {},
   "outputs": [
    {
     "name": "stdout",
     "output_type": "stream",
     "text": [
      "[[1 2 3 4]\n",
      " [1 3 5 7]]\n",
      "int32\n",
      "(2, 4)\n",
      "2\n"
     ]
    }
   ],
   "source": [
    "data1 = [[1,2,3,4],[1,3,5,7]]\n",
    "arr_data1 = np.array(data1)\n",
    "print(arr_data1)\n",
    "print(arr_data1.dtype) # int 32\n",
    "# 리스트 안에 같은 형식의 데이터(여기선 list를 넣음)를 넣으면 int로 인식\n",
    "print(arr_data1.shape)\n",
    "print(arr_data1.ndim)\n",
    "# 2차원 array로 인식 / 2행 4열 array"
   ]
  },
  {
   "cell_type": "markdown",
   "metadata": {},
   "source": [
    "#### 형식을 미리 지정할 수도 있다. (여기선 int -> string으로 바뀜)"
   ]
  },
  {
   "cell_type": "code",
   "execution_count": 27,
   "metadata": {},
   "outputs": [
    {
     "data": {
      "text/plain": [
       "array([b'1', b'2', b'3'], dtype='|S1')"
      ]
     },
     "execution_count": 27,
     "metadata": {},
     "output_type": "execute_result"
    }
   ],
   "source": [
    "arr2 = np.array([1,2,3],dtype=np.string_)\n",
    "arr2"
   ]
  },
  {
   "cell_type": "markdown",
   "metadata": {},
   "source": [
    "#### for loop을 통해서 두개의 배열을 더할 때의 시간비용"
   ]
  },
  {
   "cell_type": "code",
   "execution_count": 32,
   "metadata": {},
   "outputs": [
    {
     "name": "stdout",
     "output_type": "stream",
     "text": [
      "python list Load Time : 0.0\n",
      "python list for loop: 4.376448392868042\n",
      "Total: 4.377448558807373\n"
     ]
    }
   ],
   "source": [
    "import time\n",
    "size_vector = 10000000\n",
    "\n",
    "def pythonlist(size_vector):\n",
    "    t1 = time.time()\n",
    "    x = range(size_vector)\n",
    "    y = range(size_vector)\n",
    "    t2 = time.time()\n",
    "    print(\"python list Load Time : \" + str(t2-t1))\n",
    "    z = []\n",
    "    \n",
    "    t3 = time.time()\n",
    "    for i in range(len(x)):\n",
    "        z.append(x[i] + y[i])\n",
    "    t4 = time.time()\n",
    "    print(\"python list for loop: \" + str(t4-t3))\n",
    "    print(\"Total: \"+str(t4-t1))\n",
    "\n",
    "pythonlist(size_vector)"
   ]
  },
  {
   "cell_type": "markdown",
   "metadata": {},
   "source": [
    "### numpy array를 이용해 연산을 할시 걸리는 시간비용(훨씬 단축됨)"
   ]
  },
  {
   "cell_type": "code",
   "execution_count": 33,
   "metadata": {},
   "outputs": [
    {
     "name": "stdout",
     "output_type": "stream",
     "text": [
      "numpy array1 Load Time : 0.03500199317932129\n",
      "numpy array1 for loop : 0.021001338958740234\n",
      "numpy array1 Total : 0.05600333213806152\n",
      "numpy array2 Load Time : 0.031001806259155273\n",
      "numpy array2 for loop : 4.217241525650024\n",
      "numpy array2 Total : 4.24824333190918\n"
     ]
    }
   ],
   "source": [
    "\n",
    "def numpyarray1(size_vector):\n",
    "    t1 = time.time()\n",
    "    x = np.arange(size_vector)\n",
    "    y = np.arange(size_vector)\n",
    "    t2 = time.time()\n",
    "    print(\"numpy array1 Load Time : \" + str(t2-t1))\n",
    "    \n",
    "    # numpy array를 이용해서 연산을 하면 for loop 돌리는 것보다 훨씬 빠르다.\n",
    "    t3 = time.time()\n",
    "    z = x + y\n",
    "    t4 = time.time()\n",
    "    print(\"numpy array1 for loop : \" + str(t4-t3))\n",
    "    \n",
    "    print(\"numpy array1 Total : \" + str(t4-t1))\n",
    "\n",
    "numpyarray1(size_vector)\n",
    "\n",
    "def numpyarray2(size_vector):\n",
    "    t1 = time.time()\n",
    "    x = np.arange(size_vector)\n",
    "    y = np.arange(size_vector)\n",
    "    t2 = time.time()\n",
    "    print(\"numpy array2 Load Time : \" + str(t2-t1))\n",
    "    \n",
    "    # numpy array를 이용해서 연산을 하면 for loop 돌리는 것보다 훨씬 빠르다.\n",
    "    t3 = time.time()\n",
    "    z = np.ndarray(size_vector)\n",
    "    for i in range(len(x)):\n",
    "        z[i] = x[i] + y[i]\n",
    "    t4 = time.time()\n",
    "    print(\"numpy array2 for loop : \" + str(t4-t3))\n",
    "   \n",
    "    print(\"numpy array2 Total : \" + str(t4-t1))\n",
    "    \n",
    "numpyarray2(size_vector)"
   ]
  },
  {
   "cell_type": "markdown",
   "metadata": {},
   "source": [
    "### +는 __add__ 함수를, +=는 __iadd__함수를 사용한다.(완전히 다른 연산자) \n",
    "\"a += b\" 는 앞에 a타입을 유지한다."
   ]
  },
  {
   "cell_type": "code",
   "execution_count": 7,
   "metadata": {},
   "outputs": [
    {
     "name": "stdout",
     "output_type": "stream",
     "text": [
      "Number : 100000\n",
      "List0-Try :  24.80441427230835\n",
      "List1-Try :  0.05500340461730957\n",
      "List2-Try :  0.052002906799316406\n",
      "List3-Try :  0.04800271987915039\n",
      "Array-Try :  0.0\n"
     ]
    }
   ],
   "source": [
    "import time\n",
    "\n",
    "# list1 함수와 엄청난 시간차이가 존재\n",
    "# 앞으로 += 처럼 사용해야겠다.\n",
    "# + 와 +=는 아예 다르다. \n",
    "# +는 square리스트를 한번더 호출해서 더해주기 때문에 시간이 상당히 많이 소요된다.\n",
    "def square_list0(N):\n",
    "    squares = []\n",
    "    for n in range(N):\n",
    "        squares = squares + [n**2]\n",
    "    return squares\n",
    "\n",
    "def square_list1(N):\n",
    "    squares = []\n",
    "    for n in range(N):\n",
    "        # 일반적으로 생성해서 더하는 방법\n",
    "        squares += [n**2]\n",
    "    return squares\n",
    "\n",
    "def square_list2(N):\n",
    "    squares = []\n",
    "    for n in range(N):\n",
    "        # append라고 이미 정의된 메소드 이용하는 방법\n",
    "        squares.append(n**2)\n",
    "    return squares\n",
    "\n",
    "def square_list3(N):\n",
    "    #동일한 방법이나 벡터연산으로 처리\n",
    "    return [n**2 for n in range(N)]\n",
    "\n",
    "# 시간이 확 줄어든다.\n",
    "def square_array(N):\n",
    "    # Vectorize the entire operation\n",
    "    from numpy import arange\n",
    "    return arange(N)**2\n",
    "\n",
    "n = 100000\n",
    "print(\"Number :\", n)\n",
    "t1 = time.time()\n",
    "square_list0(n)\n",
    "t2 = time.time()\n",
    "print(\"List0-Try : \", t2-t1)\n",
    "\n",
    "t1 = time.time()\n",
    "square_list1(n)\n",
    "t2 = time.time()\n",
    "print(\"List1-Try : \", t2-t1)\n",
    "\n",
    "t1 = time.time()\n",
    "square_list2(n)\n",
    "t2 = time.time()\n",
    "print(\"List2-Try : \", t2-t1)\n",
    "\n",
    "t1 = time.time()\n",
    "square_list3(n)\n",
    "t2 = time.time()\n",
    "print(\"List3-Try : \", t2-t1)\n",
    "\n",
    "t1 = time.time()\n",
    "square_array(n)\n",
    "t2 = time.time()\n",
    "print(\"Array-Try : \", t2-t1)"
   ]
  },
  {
   "cell_type": "markdown",
   "metadata": {},
   "source": [
    "### 기본적인 색인: 파이썬의 리스트와 동일"
   ]
  },
  {
   "cell_type": "code",
   "execution_count": 10,
   "metadata": {},
   "outputs": [
    {
     "name": "stdout",
     "output_type": "stream",
     "text": [
      "[1, 2, 3, 4, 5, 6]\n",
      "[1 2 3 4 5 6]\n"
     ]
    }
   ],
   "source": [
    "# 색인\n",
    "list1 = [1,2,3,4,5,6]\n",
    "arr1 = np.array(list1)\n",
    "print(list1)\n",
    "print(arr1)"
   ]
  },
  {
   "cell_type": "code",
   "execution_count": 11,
   "metadata": {},
   "outputs": [
    {
     "name": "stdout",
     "output_type": "stream",
     "text": [
      "1\n",
      "1\n",
      "\n",
      "[2, 3]\n",
      "[2 3]\n",
      "\n",
      "[4, 5, 6]\n",
      "[4 5 6]\n",
      "\n",
      "[1, 2, 3, 4, 5, 6]\n",
      "[1 2 3 4 5 6]\n"
     ]
    }
   ],
   "source": [
    "# 정수 인덱스로 리스트와 1차원 numpy 배열 접근 -> 참고) 원본은 변경되지 않음!!\n",
    "print(list1[0])\n",
    "print(arr1[0])\n",
    "print()\n",
    "print(list1[1:3])\n",
    "print(arr1[1:3])\n",
    "print()\n",
    "print(list1[3:])\n",
    "print(arr1[3:])\n",
    "print()\n",
    "print(list1[:])\n",
    "print(arr1[:])"
   ]
  },
  {
   "cell_type": "markdown",
   "metadata": {},
   "source": [
    "### 2차원 배열 연습문제"
   ]
  },
  {
   "cell_type": "code",
   "execution_count": 14,
   "metadata": {},
   "outputs": [
    {
     "data": {
      "text/plain": [
       "array([0, 1, 2, 3, 4, 5])"
      ]
     },
     "execution_count": 14,
     "metadata": {},
     "output_type": "execute_result"
    }
   ],
   "source": [
    "# row 만들기\n",
    "np.arange(0,6,1)"
   ]
  },
  {
   "cell_type": "code",
   "execution_count": 13,
   "metadata": {},
   "outputs": [
    {
     "data": {
      "text/plain": [
       "array([ 0, 10, 20, 30, 40, 50])"
      ]
     },
     "execution_count": 13,
     "metadata": {},
     "output_type": "execute_result"
    }
   ],
   "source": [
    "# column 기준 만들기\n",
    "np.arange(0, 51, 10)"
   ]
  },
  {
   "cell_type": "code",
   "execution_count": 15,
   "metadata": {},
   "outputs": [
    {
     "data": {
      "text/plain": [
       "array([[ 0],\n",
       "       [10],\n",
       "       [20],\n",
       "       [30],\n",
       "       [40],\n",
       "       [50]])"
      ]
     },
     "execution_count": 15,
     "metadata": {},
     "output_type": "execute_result"
    }
   ],
   "source": [
    "# np.newaxis : 행과 열을 바꿔주는 것\n",
    "np.arange(0, 51,10)[:,np.newaxis]"
   ]
  },
  {
   "cell_type": "code",
   "execution_count": 16,
   "metadata": {},
   "outputs": [
    {
     "data": {
      "text/plain": [
       "array([[ 1,  2,  3],\n",
       "       [11, 12, 13],\n",
       "       [21, 22, 23],\n",
       "       [31, 32, 33],\n",
       "       [41, 42, 43],\n",
       "       [51, 52, 53]])"
      ]
     },
     "execution_count": 16,
     "metadata": {},
     "output_type": "execute_result"
    }
   ],
   "source": [
    "# 뒤에 행에 해당하는 리스트를 더해주면 알아서 칼럼기준으로 더해진다.\n",
    "np.arange(0, 51,10)[:,np.newaxis] + [1,2,3]"
   ]
  },
  {
   "cell_type": "code",
   "execution_count": 18,
   "metadata": {},
   "outputs": [],
   "source": [
    "a = np.arange(0, 51,10)[:,np.newaxis] + np.arange(0, 6, 1)"
   ]
  },
  {
   "cell_type": "code",
   "execution_count": 19,
   "metadata": {},
   "outputs": [
    {
     "data": {
      "text/plain": [
       "array([[ 0,  1,  2,  3,  4,  5],\n",
       "       [10, 11, 12, 13, 14, 15],\n",
       "       [20, 21, 22, 23, 24, 25],\n",
       "       [30, 31, 32, 33, 34, 35],\n",
       "       [40, 41, 42, 43, 44, 45],\n",
       "       [50, 51, 52, 53, 54, 55]])"
      ]
     },
     "execution_count": 19,
     "metadata": {},
     "output_type": "execute_result"
    }
   ],
   "source": [
    "a"
   ]
  },
  {
   "cell_type": "code",
   "execution_count": 24,
   "metadata": {},
   "outputs": [
    {
     "data": {
      "text/plain": [
       "array([[ 0,  1,  2,  3,  4,  5],\n",
       "       [10, 11, 12, 13, 14, 15],\n",
       "       [20, 21, 22, 23, 24, 25],\n",
       "       [30, 31, 32, 33, 34, 35],\n",
       "       [40, 41, 42, 43, 44, 45],\n",
       "       [50, 51, 52, 53, 54, 55]])"
      ]
     },
     "execution_count": 24,
     "metadata": {},
     "output_type": "execute_result"
    }
   ],
   "source": [
    "a[:] # a[:][:]와 같다."
   ]
  },
  {
   "cell_type": "code",
   "execution_count": 27,
   "metadata": {},
   "outputs": [
    {
     "name": "stdout",
     "output_type": "stream",
     "text": [
      "[0 1 2 3 4 5]\n",
      "1\n"
     ]
    }
   ],
   "source": [
    "print(a[0])\n",
    "print(a[0][1])"
   ]
  },
  {
   "cell_type": "code",
   "execution_count": 38,
   "metadata": {
    "scrolled": true
   },
   "outputs": [
    {
     "name": "stdout",
     "output_type": "stream",
     "text": [
      "[ 2 12 22 32 42 52]\n",
      "[3 4]\n",
      "[[20 22 24]\n",
      " [40 42 44]]\n",
      "[[44 45]\n",
      " [54 55]]\n"
     ]
    }
   ],
   "source": [
    "print(a[:,2])\n",
    "print(a[0,3:5])\n",
    "print(a[2::2,::2])\n",
    "print(a[4:,4:])"
   ]
  },
  {
   "cell_type": "markdown",
   "metadata": {},
   "source": [
    "### Boolean indexing 기본적인 기능\n",
    "조건검색할 때 이용(True면 해당 위치의 값을 반환)"
   ]
  },
  {
   "cell_type": "code",
   "execution_count": 42,
   "metadata": {},
   "outputs": [
    {
     "name": "stdout",
     "output_type": "stream",
     "text": [
      "[0 1 2 3 4 5 6 7 8 9]\n",
      "[ True  True  True  True  True False False False False False]\n",
      "[0 1 2 3 4]\n"
     ]
    }
   ],
   "source": [
    "# Boolean indexing\n",
    "arr1 = np.arange(10)\n",
    "print(arr1)\n",
    "print(arr1<5)\n",
    "print(arr1[arr1<5]) # True에 해당하는 위치의 값들만 반환"
   ]
  },
  {
   "cell_type": "code",
   "execution_count": 61,
   "metadata": {},
   "outputs": [
    {
     "name": "stdout",
     "output_type": "stream",
     "text": [
      "['Bob' 'Joe' 'Will' 'Bob' 'Will' 'Joe' 'Joe']\n",
      "[[38 78 32 45]\n",
      " [33 72 70 74]\n",
      " [88 85 93 85]\n",
      " [45 73 45 54]\n",
      " [85 46 45 97]\n",
      " [68 78 99 40]\n",
      " [58 43 97 62]]\n"
     ]
    }
   ],
   "source": [
    "names = np.array([\"Bob\",\"Joe\",\"Will\",\"Bob\",\"Will\",\"Joe\",\"Joe\"])\n",
    "# 참고 np.random.randint(low, high=None, size=None, dtype=T)\n",
    "data = np.random.randint(low=30, high=100, size=(7,4)) # end point included\n",
    "print(names)\n",
    "print(data)"
   ]
  },
  {
   "cell_type": "code",
   "execution_count": 62,
   "metadata": {},
   "outputs": [
    {
     "name": "stdout",
     "output_type": "stream",
     "text": [
      "[ True False False  True False False False]\n",
      "['Bob' 'Bob']\n",
      "2\n"
     ]
    }
   ],
   "source": [
    "# 이름이 Bob인 사람들만 찾기\n",
    "print(names == \"Bob\")\n",
    "print(names[names==\"Bob\"])\n",
    "print(len(names[names==\"Bob\"]))"
   ]
  },
  {
   "cell_type": "code",
   "execution_count": 63,
   "metadata": {},
   "outputs": [
    {
     "name": "stdout",
     "output_type": "stream",
     "text": [
      "[[38 78 32 45]\n",
      " [45 73 45 54]]\n",
      "[[38 32]\n",
      " [45 45]]\n"
     ]
    }
   ],
   "source": [
    "# 순서에 따라 indexing하는 것이기에 data와 names 배열을 연결 안해도 search가능\n",
    "print(data[names==\"Bob\"])\n",
    "print(data[names==\"Bob\",0::2])"
   ]
  },
  {
   "cell_type": "code",
   "execution_count": 64,
   "metadata": {},
   "outputs": [
    {
     "data": {
      "text/plain": [
       "array([38, 78, 32, 45])"
      ]
     },
     "execution_count": 64,
     "metadata": {},
     "output_type": "execute_result"
    }
   ],
   "source": [
    "# Bob이 두명인데 처음 나온 Bob의 성적만 보고 싶을 때\n",
    "data[names==\"Bob\"][0]\n",
    "# Bob 두명에 대해 두개의 배열을 하나의 배열에 넣은 것이기에 2차원 배열\n",
    "# 거기에 [0] 하면 첫번째 줄의 데이터들을 불러옴"
   ]
  },
  {
   "cell_type": "code",
   "execution_count": 65,
   "metadata": {},
   "outputs": [
    {
     "data": {
      "text/plain": [
       "array([[38, 78, 32, 45],\n",
       "       [88, 85, 93, 85],\n",
       "       [45, 73, 45, 54],\n",
       "       [85, 46, 45, 97]])"
      ]
     },
     "execution_count": 65,
     "metadata": {},
     "output_type": "execute_result"
    }
   ],
   "source": [
    "data[(names==\"Bob\")|(names==\"Will\")] # ( ) or ( ) 이렇게 사용가능"
   ]
  },
  {
   "cell_type": "code",
   "execution_count": 66,
   "metadata": {
    "scrolled": true
   },
   "outputs": [
    {
     "name": "stdout",
     "output_type": "stream",
     "text": [
      "[[0 1 0 0]\n",
      " [0 1 0 1]\n",
      " [1 1 1 1]\n",
      " [0 1 0 0]\n",
      " [1 0 0 1]\n",
      " [0 1 1 0]\n",
      " [0 0 1 0]]\n"
     ]
    }
   ],
   "source": [
    "data[data<= 70] = 0\n",
    "data[data > 70] = 1\n",
    "print(data)"
   ]
  },
  {
   "cell_type": "markdown",
   "metadata": {},
   "source": [
    "#### numpy.where(조건): 조건에 해당하는 index 위치를 행과 열 array 두개로 반환해준다.\n",
    "반환값은 tuple / 위 array는 row에 대한 정보, 아래 array는 column에 대한 정보를 의미"
   ]
  },
  {
   "cell_type": "code",
   "execution_count": 72,
   "metadata": {},
   "outputs": [
    {
     "data": {
      "text/plain": [
       "(array([0, 1, 1, 2, 2, 2, 2, 3, 4, 4, 5, 5, 6], dtype=int64),\n",
       " array([1, 1, 3, 0, 1, 2, 3, 1, 0, 3, 1, 2, 2], dtype=int64))"
      ]
     },
     "execution_count": 72,
     "metadata": {},
     "output_type": "execute_result"
    }
   ],
   "source": [
    "# 참고) 원하는 값을 찾을 때는 np.where을 사용\n",
    "# 1로 패스한 사람들의 데이터만 찾ㄹ음 -> 결과가 어떠한 것을 의미하는지 잘 확인할 것!\n",
    "np.where(data>0) # tuple 형식으로 return\n",
    "# array 두개가 나오는데 위 array가 행의 index, 아래 array가 열의 index를 의미한다."
   ]
  },
  {
   "cell_type": "markdown",
   "metadata": {},
   "source": [
    "#### unique(): array안에 중복된 값을 unique한 하나로 축약"
   ]
  },
  {
   "cell_type": "code",
   "execution_count": 70,
   "metadata": {},
   "outputs": [
    {
     "name": "stdout",
     "output_type": "stream",
     "text": [
      "[0 1 2 3 4 5 6]\n",
      "['Bob' 'Joe' 'Will' 'Bob' 'Will' 'Joe' 'Joe']\n"
     ]
    }
   ],
   "source": [
    "# 중복이 되어있기에 unique하게 하나씩만 가져온다.\n",
    "# 어떤 사람이 패스했는지 나타내는 지표(정확히는 패스한 과목이 최소 1개 이상인 사람들)\n",
    "print(np.unique(np.where(data>0)[0]))\n",
    "print(names[np.unique(np.where(data>0)[0])]) # 실제 이름을 가져오고자 할 때"
   ]
  },
  {
   "cell_type": "markdown",
   "metadata": {},
   "source": [
    "#### 모양변경: shape을 바꾸기 -> reshape"
   ]
  },
  {
   "cell_type": "code",
   "execution_count": 6,
   "metadata": {},
   "outputs": [
    {
     "data": {
      "text/plain": [
       "array([[ 0,  1,  2,  3],\n",
       "       [ 4,  5,  6,  7],\n",
       "       [ 8,  9, 10, 11],\n",
       "       [12, 13, 14, 15],\n",
       "       [16, 17, 18, 19],\n",
       "       [20, 21, 22, 23],\n",
       "       [24, 25, 26, 27],\n",
       "       [28, 29, 30, 31]])"
      ]
     },
     "execution_count": 6,
     "metadata": {},
     "output_type": "execute_result"
    }
   ],
   "source": [
    "# Numpy Transform\n",
    "arr = np.arange(32).reshape((8,4)) # 8행 4열\n",
    "arr \n",
    "# 32개를 변형할 정확한 모양 크기를 넣어야 한다."
   ]
  },
  {
   "cell_type": "code",
   "execution_count": 9,
   "metadata": {},
   "outputs": [
    {
     "ename": "ValueError",
     "evalue": "cannot reshape array of size 32 into shape (3,9)",
     "output_type": "error",
     "traceback": [
      "\u001b[1;31m---------------------------------------------------------------------------\u001b[0m",
      "\u001b[1;31mValueError\u001b[0m                                Traceback (most recent call last)",
      "\u001b[1;32m<ipython-input-9-4699fb01c306>\u001b[0m in \u001b[0;36m<module>\u001b[1;34m\u001b[0m\n\u001b[0;32m      1\u001b[0m \u001b[1;31m# 크기가 안맞을 때 에러 발생\u001b[0m\u001b[1;33m\u001b[0m\u001b[1;33m\u001b[0m\u001b[1;33m\u001b[0m\u001b[0m\n\u001b[1;32m----> 2\u001b[1;33m \u001b[0marr\u001b[0m \u001b[1;33m=\u001b[0m \u001b[0marr\u001b[0m\u001b[1;33m.\u001b[0m\u001b[0mreshape\u001b[0m\u001b[1;33m(\u001b[0m\u001b[1;33m(\u001b[0m\u001b[1;36m3\u001b[0m\u001b[1;33m,\u001b[0m\u001b[1;36m9\u001b[0m\u001b[1;33m)\u001b[0m\u001b[1;33m)\u001b[0m\u001b[1;33m\u001b[0m\u001b[1;33m\u001b[0m\u001b[0m\n\u001b[0m",
      "\u001b[1;31mValueError\u001b[0m: cannot reshape array of size 32 into shape (3,9)"
     ]
    }
   ],
   "source": [
    "# 크기가 안맞을 때 에러 발생\n",
    "arr = arr.reshape((3,9))"
   ]
  },
  {
   "cell_type": "code",
   "execution_count": 10,
   "metadata": {},
   "outputs": [
    {
     "name": "stdout",
     "output_type": "stream",
     "text": [
      "[[ 0  1  2  3  4  5  6  7]\n",
      " [ 8  9 10 11 12 13 14 15]\n",
      " [16 17 18 19 20 21 22 23]\n",
      " [24 25 26 27 28 29 30 31]]\n",
      "\n",
      "[[ 0  8 16 24]\n",
      " [ 1  9 17 25]\n",
      " [ 2 10 18 26]\n",
      " [ 3 11 19 27]\n",
      " [ 4 12 20 28]\n",
      " [ 5 13 21 29]\n",
      " [ 6 14 22 30]\n",
      " [ 7 15 23 31]]\n"
     ]
    }
   ],
   "source": [
    "# T: Transpose (가로, 세로 축을 뒤바꿔줌)\n",
    "arr = arr.reshape((4,8))\n",
    "print(arr)\n",
    "print()\n",
    "print(arr.T)"
   ]
  },
  {
   "cell_type": "markdown",
   "metadata": {},
   "source": [
    "### 기본적인 수학 함수"
   ]
  },
  {
   "cell_type": "code",
   "execution_count": 11,
   "metadata": {},
   "outputs": [
    {
     "name": "stdout",
     "output_type": "stream",
     "text": [
      "[0 1 2 3 4 5 6 7 8 9]\n",
      "[0.         1.         1.41421356 1.73205081 2.         2.23606798\n",
      " 2.44948974 2.64575131 2.82842712 3.        ]\n"
     ]
    }
   ],
   "source": [
    "# ufunc / math\n",
    "arr1 = np.arange(10)\n",
    "print(arr1)\n",
    "print(np.sqrt(arr1))\n"
   ]
  },
  {
   "cell_type": "code",
   "execution_count": null,
   "metadata": {},
   "outputs": [],
   "source": []
  },
  {
   "cell_type": "code",
   "execution_count": null,
   "metadata": {},
   "outputs": [],
   "source": []
  }
 ],
 "metadata": {
  "kernelspec": {
   "display_name": "Python 3",
   "language": "python",
   "name": "python3"
  },
  "language_info": {
   "codemirror_mode": {
    "name": "ipython",
    "version": 3
   },
   "file_extension": ".py",
   "mimetype": "text/x-python",
   "name": "python",
   "nbconvert_exporter": "python",
   "pygments_lexer": "ipython3",
   "version": "3.7.4"
  }
 },
 "nbformat": 4,
 "nbformat_minor": 2
}
