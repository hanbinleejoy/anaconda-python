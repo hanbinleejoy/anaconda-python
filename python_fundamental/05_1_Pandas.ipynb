{
 "cells": [
  {
   "cell_type": "markdown",
   "metadata": {},
   "source": [
    "# Pandas"
   ]
  },
  {
   "cell_type": "markdown",
   "metadata": {},
   "source": [
    "### Pandas는 시계열 데이터(금융데이터)에 특화된 패키지, Numpy 패키지로만 처리하기에 부족하여 개발"
   ]
  },
  {
   "cell_type": "code",
   "execution_count": 1,
   "metadata": {},
   "outputs": [],
   "source": [
    "# 사용준비 Case1\n",
    "from pandas import Series, DataFrame\n",
    "import pandas as pd\n",
    "import numpy as np"
   ]
  },
  {
   "cell_type": "code",
   "execution_count": 3,
   "metadata": {},
   "outputs": [],
   "source": [
    "# Case2\n",
    "import pandas as pd\n",
    "import numpy as np"
   ]
  },
  {
   "cell_type": "code",
   "execution_count": 6,
   "metadata": {},
   "outputs": [
    {
     "name": "stdout",
     "output_type": "stream",
     "text": [
      "[10000, 10300, 9900, 10500, 110000]\n",
      "0     10000\n",
      "1     10300\n",
      "2      9900\n",
      "3     10500\n",
      "4    110000\n",
      "dtype: int64\n"
     ]
    }
   ],
   "source": [
    "stock_price_list = [10000, 10300, 9900, 10500, 110000]\n",
    "stock_price_Series = pd.Series([10000, 10300, 9900, 10500, 110000])\n",
    "print(stock_price_list)\n",
    "print(stock_price_Series) # index를 부여함"
   ]
  },
  {
   "cell_type": "markdown",
   "metadata": {},
   "source": [
    "### 개별 원소에 접근해보기!!\n",
    "- 리스트에서 개별 원소에 접근하는 방식: index 사용. 여러개는 slicing 사용\n",
    "- 개별 원소에 리스트에서 접근 & Series 에서 접근해보기 "
   ]
  },
  {
   "cell_type": "code",
   "execution_count": 7,
   "metadata": {},
   "outputs": [
    {
     "data": {
      "text/plain": [
       "10000"
      ]
     },
     "execution_count": 7,
     "metadata": {},
     "output_type": "execute_result"
    }
   ],
   "source": [
    "# 리스트로 첫번째 원소 값 접근\n",
    "stock_price_list[0]"
   ]
  },
  {
   "cell_type": "code",
   "execution_count": 8,
   "metadata": {},
   "outputs": [
    {
     "data": {
      "text/plain": [
       "10000"
      ]
     },
     "execution_count": 8,
     "metadata": {},
     "output_type": "execute_result"
    }
   ],
   "source": [
    "# 시리즈로 첫번째 원소 값 접근\n",
    "stock_price_Series[0]"
   ]
  },
  {
   "cell_type": "markdown",
   "metadata": {},
   "source": [
    "### index 만들기\n",
    "임의의 index를 부여할 수 있다."
   ]
  },
  {
   "cell_type": "code",
   "execution_count": 10,
   "metadata": {},
   "outputs": [
    {
     "data": {
      "text/plain": [
       "2016-03-01     10000\n",
       "2016-06-01     10300\n",
       "2016-09-01      9900\n",
       "2016-12-01     10500\n",
       "2017-03-01    110000\n",
       "dtype: int64"
      ]
     },
     "execution_count": 10,
     "metadata": {},
     "output_type": "execute_result"
    }
   ],
   "source": [
    "stock_price_Series_withIndex = pd.Series([10000, 10300, 9900, 10500, 110000],\n",
    "                                        index = [\"2016-03-01\",\"2016-06-01\",\"2016-09-01\",\"2016-12-01\",\"2017-03-01\"])\n",
    "stock_price_Series_withIndex"
   ]
  },
  {
   "cell_type": "code",
   "execution_count": 12,
   "metadata": {},
   "outputs": [
    {
     "name": "stdout",
     "output_type": "stream",
     "text": [
      "10300\n",
      "10300\n"
     ]
    }
   ],
   "source": [
    "# 이렇게 되면 index 접근 방식이 두 개가 발생\n",
    "print(stock_price_Series_withIndex[1])\n",
    "print(stock_price_Series_withIndex[\"2016-06-01\"])"
   ]
  },
  {
   "cell_type": "code",
   "execution_count": 16,
   "metadata": {},
   "outputs": [
    {
     "name": "stdout",
     "output_type": "stream",
     "text": [
      "Index(['2016-03-01', '2016-06-01', '2016-09-01', '2016-12-01', '2017-03-01'], dtype='object')\n"
     ]
    },
    {
     "data": {
      "text/plain": [
       "array([ 10000,  10300,   9900,  10500, 110000], dtype=int64)"
      ]
     },
     "execution_count": 16,
     "metadata": {},
     "output_type": "execute_result"
    }
   ],
   "source": [
    "print(stock_price_Series_withIndex.index)\n",
    "stock_price_Series_withIndex.values # array"
   ]
  },
  {
   "cell_type": "code",
   "execution_count": 20,
   "metadata": {},
   "outputs": [
    {
     "name": "stdout",
     "output_type": "stream",
     "text": [
      "Index : 2016-03-01\n",
      "Value : 10000\n",
      "Index : 2016-06-01\n",
      "Value : 10300\n",
      "Index : 2016-09-01\n",
      "Value : 9900\n",
      "Index : 2016-12-01\n",
      "Value : 10500\n",
      "Index : 2017-03-01\n",
      "Value : 110000\n",
      "0 10000\n",
      "1 10300\n",
      "2 9900\n",
      "3 10500\n",
      "4 110000\n"
     ]
    }
   ],
   "source": [
    "for idx in stock_price_Series_withIndex.index:\n",
    "    print(\"Index :\", i)\n",
    "    print(\"Value :\", stock_price_Series_withIndex[i])\n",
    "\n",
    "# enumerate를 이용하면 정수 index만 반환\n",
    "for idx, value in enumerate(stock_price_Series_withIndex):\n",
    "    print(idx, value)"
   ]
  },
  {
   "cell_type": "markdown",
   "metadata": {},
   "source": [
    "### 원하는 것들만 가져올 수 있나?"
   ]
  },
  {
   "cell_type": "code",
   "execution_count": 25,
   "metadata": {},
   "outputs": [
    {
     "name": "stdout",
     "output_type": "stream",
     "text": [
      "2016-03-01    10000\n",
      "2016-12-01    10500\n",
      "dtype: int64\n",
      "2016-03-01    10000\n",
      "2016-06-01    10300\n",
      "2016-09-01     9900\n",
      "dtype: int64\n"
     ]
    }
   ],
   "source": [
    "# 정수 인덱스에 내가 원하는 특정한 것을 가져올 수 없을까 -> 여러개는 list를 활용\n",
    "print(stock_price_Series_withIndex[[0,3]])\n",
    "print(stock_price_Series_withIndex[0:3])"
   ]
  },
  {
   "cell_type": "code",
   "execution_count": 26,
   "metadata": {},
   "outputs": [
    {
     "data": {
      "text/plain": [
       "[10000, 10300, 9900]"
      ]
     },
     "execution_count": 26,
     "metadata": {},
     "output_type": "execute_result"
    }
   ],
   "source": [
    "# list의 slicing\n",
    "stock_price_list[0:3]"
   ]
  },
  {
   "cell_type": "markdown",
   "metadata": {},
   "source": [
    "#### list는 pandas나 array와 다르게 [[0,3]] 이런식으로 원하는 여러개의 값들을 불러올 수 없다.\n",
    "#### 그러면 다른 Solution이 있을까?"
   ]
  },
  {
   "cell_type": "code",
   "execution_count": 28,
   "metadata": {},
   "outputs": [
    {
     "data": {
      "text/plain": [
       "array([10000, 10500])"
      ]
     },
     "execution_count": 28,
     "metadata": {},
     "output_type": "execute_result"
    }
   ],
   "source": [
    "# stock_price_list[[0,3]] -> 에러, 리스트는 원하는 개별 원소들을 따로따로 불러올 수는 없나?\n",
    "# list에서는 [[0,3]] 이런식으로 접근 불가능하나, numpy를 이용해 array로 만든후에 가능\n",
    "stock_price_list_array = np.array(stock_price_list)\n",
    "stock_price_list_array[[0,3]] "
   ]
  },
  {
   "cell_type": "code",
   "execution_count": 29,
   "metadata": {},
   "outputs": [
    {
     "data": {
      "text/plain": [
       "[10000, 10500]"
      ]
     },
     "execution_count": 29,
     "metadata": {},
     "output_type": "execute_result"
    }
   ],
   "source": [
    "search_index = [0,3]\n",
    "[stock_price_list[i] for i in search_index]"
   ]
  },
  {
   "cell_type": "markdown",
   "metadata": {},
   "source": [
    "### 간단히 표현"
   ]
  },
  {
   "cell_type": "code",
   "execution_count": 30,
   "metadata": {},
   "outputs": [
    {
     "data": {
      "text/plain": [
       "2016-03-01     20000\n",
       "2016-06-01     20600\n",
       "2016-09-01     19800\n",
       "2016-12-01     21000\n",
       "2017-03-01    220000\n",
       "dtype: int64"
      ]
     },
     "execution_count": 30,
     "metadata": {},
     "output_type": "execute_result"
    }
   ],
   "source": [
    "# 모든 원소에 일괄 적용\n",
    "# Series : 다양한 기능 - value 관련\n",
    "stock_price_Series_withIndex*2"
   ]
  },
  {
   "cell_type": "markdown",
   "metadata": {},
   "source": [
    "### 정식으로 numpy 활용해서 표현"
   ]
  },
  {
   "cell_type": "code",
   "execution_count": 31,
   "metadata": {},
   "outputs": [
    {
     "data": {
      "text/plain": [
       "2016-03-01     10100\n",
       "2016-06-01     10400\n",
       "2016-09-01     10000\n",
       "2016-12-01     10600\n",
       "2017-03-01    110100\n",
       "dtype: int64"
      ]
     },
     "execution_count": 31,
     "metadata": {},
     "output_type": "execute_result"
    }
   ],
   "source": [
    "# 이런식으로는 잘 사용하지는 않는다.\n",
    "np.add(stock_price_Series_withIndex, 100)"
   ]
  },
  {
   "cell_type": "markdown",
   "metadata": {},
   "source": [
    "### Boolean indexing을 활용한 조건검색"
   ]
  },
  {
   "cell_type": "code",
   "execution_count": 33,
   "metadata": {},
   "outputs": [
    {
     "data": {
      "text/plain": [
       "2017-03-01    110000\n",
       "dtype: int64"
      ]
     },
     "execution_count": 33,
     "metadata": {},
     "output_type": "execute_result"
    }
   ],
   "source": [
    "stock_price_Series_withIndex[stock_price_Series_withIndex > 10500]"
   ]
  },
  {
   "cell_type": "code",
   "execution_count": 37,
   "metadata": {
    "scrolled": true
   },
   "outputs": [
    {
     "name": "stdout",
     "output_type": "stream",
     "text": [
      "2016-03-01     10000\n",
      "2016-06-01     10300\n",
      "2016-09-01      9900\n",
      "2016-12-01     10500\n",
      "2017-03-01    110000\n",
      "dtype: int64\n",
      "-------------------------\n",
      "True\n",
      "False\n"
     ]
    }
   ],
   "source": [
    "# Series : 다양한기능 - index 관련\n",
    "print(stock_price_Series_withIndex)\n",
    "print(\"-------------------------\")\n",
    "# 찾으려는 index가 있는지 없는지 알아내기 위해서\n",
    "print(\"2016-03-01\" in stock_price_Series_withIndex)\n",
    "# in 이라는 것에 비교 대상이 index가 아니라 value인 경우에는? No, 오로지 index만을 대상으로 한다.\n",
    "print(10000 in stock_price_Series_withIndex)"
   ]
  },
  {
   "cell_type": "markdown",
   "metadata": {},
   "source": [
    "#### pandas에서 python의 dictionary구조와 유사하게 사용가능"
   ]
  },
  {
   "cell_type": "code",
   "execution_count": 40,
   "metadata": {},
   "outputs": [
    {
     "data": {
      "text/plain": [
       "APPL      1000\n",
       "MS        2000\n",
       "AMAZON    3000\n",
       "dtype: int64"
      ]
     },
     "execution_count": 40,
     "metadata": {},
     "output_type": "execute_result"
    }
   ],
   "source": [
    "# Series - index\n",
    "sdata = {\"APPL\": 1000, \"MS\":2000, \"AMAZON\":3000}\n",
    "obj3 = pd.Series(sdata)\n",
    "obj3"
   ]
  },
  {
   "cell_type": "code",
   "execution_count": 42,
   "metadata": {},
   "outputs": [
    {
     "data": {
      "text/plain": [
       "GOOGLE       NaN\n",
       "APPL      1000.0\n",
       "AMAZON    3000.0\n",
       "dtype: float64"
      ]
     },
     "execution_count": 42,
     "metadata": {},
     "output_type": "execute_result"
    }
   ],
   "source": [
    "states = [\"GOOGLE\",\"APPL\",\"AMAZON\"]\n",
    "obj4 = pd.Series(sdata, states)\n",
    "obj4 \n",
    "# sdata의 모든 값들이 흡수되는 것이 아니라\n",
    "# states의 index를 기준으로 sdata에 index에 따른 해당 데이터가 존재할 때만 흡수"
   ]
  },
  {
   "cell_type": "code",
   "execution_count": 45,
   "metadata": {},
   "outputs": [
    {
     "name": "stdout",
     "output_type": "stream",
     "text": [
      "APPL      1000\n",
      "MS        2000\n",
      "AMAZON    3000\n",
      "dtype: int64\n",
      "GOOGLE       NaN\n",
      "APPL      1000.0\n",
      "AMAZON    3000.0\n",
      "dtype: float64\n",
      "-----------------\n",
      "AMAZON    6000.0\n",
      "APPL      2000.0\n",
      "GOOGLE       NaN\n",
      "MS           NaN\n",
      "dtype: float64\n",
      "AMAZON    0.0\n",
      "APPL      0.0\n",
      "GOOGLE    NaN\n",
      "MS        NaN\n",
      "dtype: float64\n"
     ]
    }
   ],
   "source": [
    "# index가 겹치는 것이 있고 아닌 것도 있다.\n",
    "print(obj3)\n",
    "print(obj4)\n",
    "print(\"-----------------\")\n",
    "# 이렇게 하면 일단 겹치든 아니든 싹다 긁어온다.\n",
    "print(obj3 + obj4)\n",
    "print(obj3 - obj4)"
   ]
  },
  {
   "cell_type": "code",
   "execution_count": 47,
   "metadata": {},
   "outputs": [
    {
     "data": {
      "text/plain": [
       "array([1, None, 3, 4], dtype=object)"
      ]
     },
     "execution_count": 47,
     "metadata": {},
     "output_type": "execute_result"
    }
   ],
   "source": [
    "# Series - NaN 관련\n",
    "vals1 = np.array([1,None, 3, 4])\n",
    "vals1"
   ]
  },
  {
   "cell_type": "code",
   "execution_count": 50,
   "metadata": {},
   "outputs": [
    {
     "name": "stdout",
     "output_type": "stream",
     "text": [
      "[False  True False False]\n",
      "[ True False  True  True]\n"
     ]
    }
   ],
   "source": [
    "print(pd.isnull(vals1))\n",
    "print(pd.notnull(vals1))"
   ]
  },
  {
   "cell_type": "code",
   "execution_count": 52,
   "metadata": {},
   "outputs": [
    {
     "name": "stdout",
     "output_type": "stream",
     "text": [
      "GOOGLE       NaN\n",
      "APPL      1000.0\n",
      "AMAZON    3000.0\n",
      "dtype: float64\n",
      "-----------------\n",
      "GOOGLE     True\n",
      "APPL      False\n",
      "AMAZON    False\n",
      "dtype: bool\n"
     ]
    }
   ],
   "source": [
    "print(obj4)\n",
    "print(\"-----------------\")\n",
    "print(pd.isnull(obj4)) # value에 대해서 NaN을 조회"
   ]
  },
  {
   "cell_type": "markdown",
   "metadata": {},
   "source": [
    "### 참고) index에 이름부여 "
   ]
  },
  {
   "cell_type": "code",
   "execution_count": 58,
   "metadata": {},
   "outputs": [
    {
     "name": "stdout",
     "output_type": "stream",
     "text": [
      "Index(['2016-03-01', '2016-06-01', '2016-09-01', '2016-12-01', '2017-03-01'], dtype='object', name='Stock Price Date')\n",
      "\n",
      "Stock Price Date\n",
      "2016-03-01     10000\n",
      "2016-06-01     10300\n",
      "2016-09-01      9900\n",
      "2016-12-01     10500\n",
      "2017-03-01    110000\n",
      "dtype: int64\n"
     ]
    }
   ],
   "source": [
    "# Pandas : Series - 기타 - index 이름 부여\n",
    "stock_price_Series_withIndex.index.name = \"Stock Price Date\"\n",
    "print(stock_price_Series_withIndex.index)\n",
    "# 전체 확인\n",
    "print()\n",
    "print(stock_price_Series_withIndex)"
   ]
  },
  {
   "cell_type": "markdown",
   "metadata": {},
   "source": [
    "### 크기, 모양, 차원 등 확인"
   ]
  },
  {
   "cell_type": "code",
   "execution_count": 59,
   "metadata": {},
   "outputs": [
    {
     "name": "stdout",
     "output_type": "stream",
     "text": [
      "(5,)\n",
      "5\n",
      "1\n"
     ]
    }
   ],
   "source": [
    "# Series 관련 기타 - 크기\n",
    "print(stock_price_Series_withIndex.shape)b\n",
    "print(stock_price_Series_withIndex.size)\n",
    "print(stock_price_Series_withIndex.ndim)"
   ]
  },
  {
   "cell_type": "markdown",
   "metadata": {},
   "source": [
    "- index를 가지고 value 찾기 : at / iat\n",
    "- index를 가지고 search : loc / iloc"
   ]
  },
  {
   "cell_type": "code",
   "execution_count": 60,
   "metadata": {},
   "outputs": [
    {
     "name": "stdout",
     "output_type": "stream",
     "text": [
      "10000\n",
      "10000\n"
     ]
    }
   ],
   "source": [
    "### at, iat\n",
    "print(stock_price_Series_withIndex.at[\"2016-03-01\"])\n",
    "print(stock_price_Series_withIndex[0])"
   ]
  },
  {
   "cell_type": "code",
   "execution_count": 71,
   "metadata": {},
   "outputs": [
    {
     "name": "stdout",
     "output_type": "stream",
     "text": [
      "Stock Price Date\n",
      "2016-03-01    10000\n",
      "2016-06-01    10300\n",
      "2016-09-01     9900\n",
      "dtype: int64\n",
      "\n",
      "Stock Price Date\n",
      "2016-03-01    10000\n",
      "2016-06-01    10300\n",
      "dtype: int64\n"
     ]
    }
   ],
   "source": [
    "# loc (index가지고 전체행 찾기)\n",
    "# 범위 지정\n",
    "print(stock_price_Series_withIndex.loc[\"2016-03-01\":\"2016-11\"])\n",
    "print()\n",
    "# 특정한 것만 고르기\n",
    "print(stock_price_Series_withIndex.loc[[\"2016-03-01\", \"2016-06-01\"]])"
   ]
  },
  {
   "cell_type": "code",
   "execution_count": 75,
   "metadata": {},
   "outputs": [
    {
     "name": "stdout",
     "output_type": "stream",
     "text": [
      "Stock Price Date\n",
      "2016-03-01    10000\n",
      "2016-06-01    10300\n",
      "2016-09-01     9900\n",
      "dtype: int64\n",
      "Stock Price Date\n",
      "2016-03-01    10000\n",
      "2016-12-01    10500\n",
      "dtype: int64\n"
     ]
    }
   ],
   "source": [
    "# iloc\n",
    "# index를 number로 부여해서 찾고자 할때는 iloc (loc하면 error 발생)\n",
    "print(stock_price_Series_withIndex.iloc[0:3])\n",
    "print(stock_price_Series_withIndex.iloc[[0,3]])"
   ]
  },
  {
   "cell_type": "code",
   "execution_count": 78,
   "metadata": {},
   "outputs": [
    {
     "name": "stdout",
     "output_type": "stream",
     "text": [
      "2016-03-01     10000\n",
      "2016-06-01     10300\n",
      "2016-09-01      9900\n",
      "2016-12-01     10500\n",
      "2017-03-01    110000\n",
      "2016-04-01     12345\n",
      "dtype: int64\n",
      "\n",
      "Stock Price Date\n",
      "2016-03-01     10000\n",
      "2016-06-01     10300\n",
      "2016-09-01      9900\n",
      "2016-12-01     10500\n",
      "2017-03-01    110000\n",
      "dtype: int64\n"
     ]
    }
   ],
   "source": [
    "# append\n",
    "add_data = pd.Series([12345], index = [\"2016-04-01\"])\n",
    "print(stock_price_Series_withIndex.append(add_data)) # 임시적으로 적용되는 것(변수에 할당해야함)\n",
    "print()\n",
    "print(stock_price_Series_withIndex)"
   ]
  },
  {
   "cell_type": "code",
   "execution_count": 80,
   "metadata": {},
   "outputs": [
    {
     "name": "stdout",
     "output_type": "stream",
     "text": [
      "2016-03-01     10000\n",
      "2016-06-01     10300\n",
      "2016-09-01      9900\n",
      "2016-12-01     10500\n",
      "2017-03-01    110000\n",
      "2017-03-01     12345\n",
      "dtype: int64\n"
     ]
    }
   ],
   "source": [
    "# 기존의 index명과 같은 이름으로 해서 append해도 붙여진다.\n",
    "add_data = pd.Series([12345], index = [\"2017-03-01\"]) # 기존의 동일한 이름의 index를 더 붙이겠다.\n",
    "print(stock_price_Series_withIndex.append(add_data)) # 임시적으로 적용되는 것(변수에 할당해야함)"
   ]
  },
  {
   "cell_type": "code",
   "execution_count": 82,
   "metadata": {},
   "outputs": [
    {
     "ename": "ValueError",
     "evalue": "Indexes have overlapping values: Index(['2017-03-01'], dtype='object')",
     "output_type": "error",
     "traceback": [
      "\u001b[1;31m---------------------------------------------------------------------------\u001b[0m",
      "\u001b[1;31mValueError\u001b[0m                                Traceback (most recent call last)",
      "\u001b[1;32m<ipython-input-82-dbea8592c02b>\u001b[0m in \u001b[0;36m<module>\u001b[1;34m\u001b[0m\n\u001b[0;32m      2\u001b[0m \u001b[0madd_data\u001b[0m \u001b[1;33m=\u001b[0m \u001b[0mpd\u001b[0m\u001b[1;33m.\u001b[0m\u001b[0mSeries\u001b[0m\u001b[1;33m(\u001b[0m\u001b[1;33m[\u001b[0m\u001b[1;36m12345\u001b[0m\u001b[1;33m]\u001b[0m\u001b[1;33m,\u001b[0m \u001b[0mindex\u001b[0m \u001b[1;33m=\u001b[0m \u001b[1;33m[\u001b[0m\u001b[1;34m\"2017-03-01\"\u001b[0m\u001b[1;33m]\u001b[0m\u001b[1;33m)\u001b[0m \u001b[1;31m# 기존의 동일한 이름의 index를 더 붙이겠다.\u001b[0m\u001b[1;33m\u001b[0m\u001b[1;33m\u001b[0m\u001b[0m\n\u001b[0;32m      3\u001b[0m \u001b[1;31m# 중복 허용 X\u001b[0m\u001b[1;33m\u001b[0m\u001b[1;33m\u001b[0m\u001b[1;33m\u001b[0m\u001b[0m\n\u001b[1;32m----> 4\u001b[1;33m \u001b[0mprint\u001b[0m\u001b[1;33m(\u001b[0m\u001b[0mstock_price_Series_withIndex\u001b[0m\u001b[1;33m.\u001b[0m\u001b[0mappend\u001b[0m\u001b[1;33m(\u001b[0m\u001b[0madd_data\u001b[0m\u001b[1;33m,\u001b[0m \u001b[0mverify_integrity\u001b[0m\u001b[1;33m=\u001b[0m\u001b[1;32mTrue\u001b[0m\u001b[1;33m)\u001b[0m\u001b[1;33m)\u001b[0m \u001b[1;31m# error 발생한다.\u001b[0m\u001b[1;33m\u001b[0m\u001b[1;33m\u001b[0m\u001b[0m\n\u001b[0m",
      "\u001b[1;32m~\\Anaconda3\\lib\\site-packages\\pandas\\core\\series.py\u001b[0m in \u001b[0;36mappend\u001b[1;34m(self, to_append, ignore_index, verify_integrity)\u001b[0m\n\u001b[0;32m   2777\u001b[0m             \u001b[0mto_concat\u001b[0m \u001b[1;33m=\u001b[0m \u001b[1;33m[\u001b[0m\u001b[0mself\u001b[0m\u001b[1;33m,\u001b[0m \u001b[0mto_append\u001b[0m\u001b[1;33m]\u001b[0m\u001b[1;33m\u001b[0m\u001b[1;33m\u001b[0m\u001b[0m\n\u001b[0;32m   2778\u001b[0m         return concat(\n\u001b[1;32m-> 2779\u001b[1;33m             \u001b[0mto_concat\u001b[0m\u001b[1;33m,\u001b[0m \u001b[0mignore_index\u001b[0m\u001b[1;33m=\u001b[0m\u001b[0mignore_index\u001b[0m\u001b[1;33m,\u001b[0m \u001b[0mverify_integrity\u001b[0m\u001b[1;33m=\u001b[0m\u001b[0mverify_integrity\u001b[0m\u001b[1;33m\u001b[0m\u001b[1;33m\u001b[0m\u001b[0m\n\u001b[0m\u001b[0;32m   2780\u001b[0m         )\n\u001b[0;32m   2781\u001b[0m \u001b[1;33m\u001b[0m\u001b[0m\n",
      "\u001b[1;32m~\\Anaconda3\\lib\\site-packages\\pandas\\core\\reshape\\concat.py\u001b[0m in \u001b[0;36mconcat\u001b[1;34m(objs, axis, join, join_axes, ignore_index, keys, levels, names, verify_integrity, sort, copy)\u001b[0m\n\u001b[0;32m    253\u001b[0m         \u001b[0mverify_integrity\u001b[0m\u001b[1;33m=\u001b[0m\u001b[0mverify_integrity\u001b[0m\u001b[1;33m,\u001b[0m\u001b[1;33m\u001b[0m\u001b[1;33m\u001b[0m\u001b[0m\n\u001b[0;32m    254\u001b[0m         \u001b[0mcopy\u001b[0m\u001b[1;33m=\u001b[0m\u001b[0mcopy\u001b[0m\u001b[1;33m,\u001b[0m\u001b[1;33m\u001b[0m\u001b[1;33m\u001b[0m\u001b[0m\n\u001b[1;32m--> 255\u001b[1;33m         \u001b[0msort\u001b[0m\u001b[1;33m=\u001b[0m\u001b[0msort\u001b[0m\u001b[1;33m,\u001b[0m\u001b[1;33m\u001b[0m\u001b[1;33m\u001b[0m\u001b[0m\n\u001b[0m\u001b[0;32m    256\u001b[0m     )\n\u001b[0;32m    257\u001b[0m \u001b[1;33m\u001b[0m\u001b[0m\n",
      "\u001b[1;32m~\\Anaconda3\\lib\\site-packages\\pandas\\core\\reshape\\concat.py\u001b[0m in \u001b[0;36m__init__\u001b[1;34m(self, objs, axis, join, join_axes, keys, levels, names, ignore_index, verify_integrity, copy, sort)\u001b[0m\n\u001b[0;32m    426\u001b[0m         \u001b[0mself\u001b[0m\u001b[1;33m.\u001b[0m\u001b[0mcopy\u001b[0m \u001b[1;33m=\u001b[0m \u001b[0mcopy\u001b[0m\u001b[1;33m\u001b[0m\u001b[1;33m\u001b[0m\u001b[0m\n\u001b[0;32m    427\u001b[0m \u001b[1;33m\u001b[0m\u001b[0m\n\u001b[1;32m--> 428\u001b[1;33m         \u001b[0mself\u001b[0m\u001b[1;33m.\u001b[0m\u001b[0mnew_axes\u001b[0m \u001b[1;33m=\u001b[0m \u001b[0mself\u001b[0m\u001b[1;33m.\u001b[0m\u001b[0m_get_new_axes\u001b[0m\u001b[1;33m(\u001b[0m\u001b[1;33m)\u001b[0m\u001b[1;33m\u001b[0m\u001b[1;33m\u001b[0m\u001b[0m\n\u001b[0m\u001b[0;32m    429\u001b[0m \u001b[1;33m\u001b[0m\u001b[0m\n\u001b[0;32m    430\u001b[0m     \u001b[1;32mdef\u001b[0m \u001b[0mget_result\u001b[0m\u001b[1;33m(\u001b[0m\u001b[0mself\u001b[0m\u001b[1;33m)\u001b[0m\u001b[1;33m:\u001b[0m\u001b[1;33m\u001b[0m\u001b[1;33m\u001b[0m\u001b[0m\n",
      "\u001b[1;32m~\\Anaconda3\\lib\\site-packages\\pandas\\core\\reshape\\concat.py\u001b[0m in \u001b[0;36m_get_new_axes\u001b[1;34m(self)\u001b[0m\n\u001b[0;32m    520\u001b[0m                 \u001b[0mnew_axes\u001b[0m\u001b[1;33m[\u001b[0m\u001b[0mi\u001b[0m\u001b[1;33m]\u001b[0m \u001b[1;33m=\u001b[0m \u001b[0max\u001b[0m\u001b[1;33m\u001b[0m\u001b[1;33m\u001b[0m\u001b[0m\n\u001b[0;32m    521\u001b[0m \u001b[1;33m\u001b[0m\u001b[0m\n\u001b[1;32m--> 522\u001b[1;33m         \u001b[0mnew_axes\u001b[0m\u001b[1;33m[\u001b[0m\u001b[0mself\u001b[0m\u001b[1;33m.\u001b[0m\u001b[0maxis\u001b[0m\u001b[1;33m]\u001b[0m \u001b[1;33m=\u001b[0m \u001b[0mself\u001b[0m\u001b[1;33m.\u001b[0m\u001b[0m_get_concat_axis\u001b[0m\u001b[1;33m(\u001b[0m\u001b[1;33m)\u001b[0m\u001b[1;33m\u001b[0m\u001b[1;33m\u001b[0m\u001b[0m\n\u001b[0m\u001b[0;32m    523\u001b[0m         \u001b[1;32mreturn\u001b[0m \u001b[0mnew_axes\u001b[0m\u001b[1;33m\u001b[0m\u001b[1;33m\u001b[0m\u001b[0m\n\u001b[0;32m    524\u001b[0m \u001b[1;33m\u001b[0m\u001b[0m\n",
      "\u001b[1;32m~\\Anaconda3\\lib\\site-packages\\pandas\\core\\reshape\\concat.py\u001b[0m in \u001b[0;36m_get_concat_axis\u001b[1;34m(self)\u001b[0m\n\u001b[0;32m    579\u001b[0m             )\n\u001b[0;32m    580\u001b[0m \u001b[1;33m\u001b[0m\u001b[0m\n\u001b[1;32m--> 581\u001b[1;33m         \u001b[0mself\u001b[0m\u001b[1;33m.\u001b[0m\u001b[0m_maybe_check_integrity\u001b[0m\u001b[1;33m(\u001b[0m\u001b[0mconcat_axis\u001b[0m\u001b[1;33m)\u001b[0m\u001b[1;33m\u001b[0m\u001b[1;33m\u001b[0m\u001b[0m\n\u001b[0m\u001b[0;32m    582\u001b[0m \u001b[1;33m\u001b[0m\u001b[0m\n\u001b[0;32m    583\u001b[0m         \u001b[1;32mreturn\u001b[0m \u001b[0mconcat_axis\u001b[0m\u001b[1;33m\u001b[0m\u001b[1;33m\u001b[0m\u001b[0m\n",
      "\u001b[1;32m~\\Anaconda3\\lib\\site-packages\\pandas\\core\\reshape\\concat.py\u001b[0m in \u001b[0;36m_maybe_check_integrity\u001b[1;34m(self, concat_index)\u001b[0m\n\u001b[0;32m    589\u001b[0m                 raise ValueError(\n\u001b[0;32m    590\u001b[0m                     \u001b[1;34m\"Indexes have overlapping values: \"\u001b[0m\u001b[1;33m\u001b[0m\u001b[1;33m\u001b[0m\u001b[0m\n\u001b[1;32m--> 591\u001b[1;33m                     \u001b[1;34m\"{overlap!s}\"\u001b[0m\u001b[1;33m.\u001b[0m\u001b[0mformat\u001b[0m\u001b[1;33m(\u001b[0m\u001b[0moverlap\u001b[0m\u001b[1;33m=\u001b[0m\u001b[0moverlap\u001b[0m\u001b[1;33m)\u001b[0m\u001b[1;33m\u001b[0m\u001b[1;33m\u001b[0m\u001b[0m\n\u001b[0m\u001b[0;32m    592\u001b[0m                 )\n\u001b[0;32m    593\u001b[0m \u001b[1;33m\u001b[0m\u001b[0m\n",
      "\u001b[1;31mValueError\u001b[0m: Indexes have overlapping values: Index(['2017-03-01'], dtype='object')"
     ]
    }
   ],
   "source": [
    "# append할 때 index 중복을 허용하지 않게 할 때\n",
    "add_data = pd.Series([12345], index = [\"2017-03-01\"]) # 기존의 동일한 이름의 index를 더 붙이겠다.\n",
    "# 중복 허용 X\n",
    "print(stock_price_Series_withIndex.append(add_data, verify_integrity=True)) # error 발생한다."
   ]
  }
 ],
 "metadata": {
  "kernelspec": {
   "display_name": "Python 3",
   "language": "python",
   "name": "python3"
  },
  "language_info": {
   "codemirror_mode": {
    "name": "ipython",
    "version": 3
   },
   "file_extension": ".py",
   "mimetype": "text/x-python",
   "name": "python",
   "nbconvert_exporter": "python",
   "pygments_lexer": "ipython3",
   "version": "3.7.4"
  }
 },
 "nbformat": 4,
 "nbformat_minor": 2
}
