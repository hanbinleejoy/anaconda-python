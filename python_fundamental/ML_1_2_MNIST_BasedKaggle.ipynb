{
 "cells": [
  {
   "cell_type": "code",
   "execution_count": 3,
   "metadata": {},
   "outputs": [],
   "source": [
    "# 계속 바뀔 수가 있다.\n",
    "import numpy as np\n",
    "import pandas as pd\n",
    "from sklearn.datasets import fetch_mldata\n",
    "\n",
    "from sklearn.model_selection import train_test_split\n",
    "%matplotlib inline\n",
    "import matplotlib.pylab as plt\n",
    "import time"
   ]
  },
  {
   "cell_type": "code",
   "execution_count": null,
   "metadata": {},
   "outputs": [],
   "source": [
    "mnist = fetch_mldata(\"MNIST original\")\n",
    "mnist"
   ]
  },
  {
   "cell_type": "code",
   "execution_count": 6,
   "metadata": {},
   "outputs": [
    {
     "name": "stdout",
     "output_type": "stream",
     "text": [
      "Process Time : 20.403395414352417\n",
      "[[1 0 0 ... 0 0 0]\n",
      " [0 0 0 ... 0 0 0]\n",
      " [1 0 0 ... 0 0 0]\n",
      " ...\n",
      " [7 0 0 ... 0 0 0]\n",
      " [6 0 0 ... 0 0 0]\n",
      " [9 0 0 ... 0 0 0]]\n"
     ]
    }
   ],
   "source": [
    "t1 = time.time()\n",
    "mnist_train_data_path = \"data/01_MNIST_Kaggle_data/train.csv\"\n",
    "train = np.genfromtxt(mnist_train_data_path, delimiter=\",\",skip_header=1).astype(np.dtype(\"uint8\"))\n",
    "t2 = time.time()\n",
    "\n",
    "print(\"Process Time : \" + str(t2-t1))\n",
    "print(train)"
   ]
  },
  {
   "cell_type": "code",
   "execution_count": 7,
   "metadata": {},
   "outputs": [
    {
     "name": "stdout",
     "output_type": "stream",
     "text": [
      "Process Time : 13.811115503311157\n",
      "[[0 0 0 ... 0 0 0]\n",
      " [0 0 0 ... 0 0 0]\n",
      " [0 0 0 ... 0 0 0]\n",
      " ...\n",
      " [0 0 0 ... 0 0 0]\n",
      " [0 0 0 ... 0 0 0]\n",
      " [0 0 0 ... 0 0 0]]\n"
     ]
    }
   ],
   "source": [
    "t1 =time.time()\n",
    "mnist_test_data_path = \"data/01_MNIST_Kaggle_data/test.csv\"\n",
    "\n",
    "test = np.genfromtxt(mnist_test_data_path, delimiter=\",\",skip_header=1).astype(np.dtype(\"uint8\"))\n",
    "t2 = time.time()\n",
    "\n",
    "print(\"Process Time : \" + str(t2-t1))\n",
    "print(test)"
   ]
  },
  {
   "cell_type": "code",
   "execution_count": 8,
   "metadata": {},
   "outputs": [
    {
     "name": "stdout",
     "output_type": "stream",
     "text": [
      "42000\n",
      "28000\n"
     ]
    }
   ],
   "source": [
    "print(len(train))\n",
    "print(len(test))"
   ]
  },
  {
   "cell_type": "code",
   "execution_count": 9,
   "metadata": {},
   "outputs": [],
   "source": [
    "train_data=train[:,1:]\n",
    "train_labels = train[:,0]"
   ]
  },
  {
   "cell_type": "markdown",
   "metadata": {},
   "source": [
    "- 받은 데이터가 실제 데이터가 의미하는 숫자(0~9) + 실제 데이터로 구성되어 있음\n",
    "- 즉 1개의 데이터 값이\n",
    "- 이를 통해서 라벨 + 데이터로 구분"
   ]
  },
  {
   "cell_type": "markdown",
   "metadata": {},
   "source": [
    "train.csv: 785개 칼럼\n",
    "test.csv : 784개 칼럼 (정답 뺐기 때문)"
   ]
  },
  {
   "cell_type": "code",
   "execution_count": 10,
   "metadata": {
    "scrolled": true
   },
   "outputs": [
    {
     "name": "stdout",
     "output_type": "stream",
     "text": [
      "[[0 0 0 ... 0 0 0]\n",
      " [0 0 0 ... 0 0 0]\n",
      " [0 0 0 ... 0 0 0]\n",
      " ...\n",
      " [0 0 0 ... 0 0 0]\n",
      " [0 0 0 ... 0 0 0]\n",
      " [0 0 0 ... 0 0 0]]\n",
      "[1 0 1 ... 7 6 9]\n"
     ]
    }
   ],
   "source": [
    "print(train_data)\n",
    "print(train_labels)"
   ]
  },
  {
   "cell_type": "code",
   "execution_count": 11,
   "metadata": {
    "scrolled": true
   },
   "outputs": [
    {
     "name": "stdout",
     "output_type": "stream",
     "text": [
      "[0 1 2 3 4 5 6 7 8 9]\n"
     ]
    }
   ],
   "source": [
    "print(np.unique(train_labels))"
   ]
  },
  {
   "cell_type": "code",
   "execution_count": 14,
   "metadata": {},
   "outputs": [
    {
     "name": "stdout",
     "output_type": "stream",
     "text": [
      "[[   0 4132]\n",
      " [   1 4684]\n",
      " [   2 4177]\n",
      " [   3 4351]\n",
      " [   4 4072]\n",
      " [   5 3795]\n",
      " [   6 4137]\n",
      " [   7 4401]\n",
      " [   8 4063]\n",
      " [   9 4188]]\n"
     ]
    }
   ],
   "source": [
    "# Method _ 01) numpy의 unique이용해서 처리\n",
    "unique, counts = np.unique(train_labels, return_counts=True)\n",
    "print(np.asarray((unique, counts)).T)"
   ]
  },
  {
   "cell_type": "code",
   "execution_count": 15,
   "metadata": {},
   "outputs": [],
   "source": [
    "import seaborn as sns"
   ]
  },
  {
   "cell_type": "code",
   "execution_count": 16,
   "metadata": {},
   "outputs": [
    {
     "name": "stdout",
     "output_type": "stream",
     "text": [
      "(784,)\n",
      "28.0\n"
     ]
    }
   ],
   "source": [
    "print(train_data[0].shape)\n",
    "print(np.sqrt(train_data[0].shape[0]))"
   ]
  },
  {
   "cell_type": "code",
   "execution_count": 18,
   "metadata": {},
   "outputs": [
    {
     "data": {
      "text/plain": [
       "Text(0.5, 1, 'MNIST Digit Image _ Train Data Number1000')"
      ]
     },
     "execution_count": 18,
     "metadata": {},
     "output_type": "execute_result"
    },
    {
     "data": {
      "image/png": "[encoded data removed]",
      "text/plain": [
       "<Figure size 432x288 with 2 Axes>"
      ]
     },
     "metadata": {
      "needs_background": "light"
     },
     "output_type": "display_data"
    }
   ],
   "source": [
    "idx = 1000\n",
    "image_data = train_data[idx]\n",
    "\n",
    "# 1차원이기 때문에 실제값을 계산하기 위해서는 1차원의 길이값 획득  & 이를 제곱근으로 변환\n",
    "tot_size = image_data.shape[0]\n",
    "one_size = int(np.sqrt(tot_size))\n",
    "\n",
    "# 그림으로 표현\n",
    "# 28 x 28 로 변환하는 작업\n",
    "sns.heatmap(np.reshape(image_data, (one_size, one_size)), linewidth=0.1, xticklabels=False, yticklabels=False)\n",
    "plt.title(str(\"MNIST Digit Image _ Train Data Number\") + str(idx))"
   ]
  },
  {
   "cell_type": "code",
   "execution_count": 19,
   "metadata": {},
   "outputs": [],
   "source": [
    "from sklearn.neighbors import KNeighborsClassifier\n",
    "# 평가하기 위해\n",
    "from sklearn.metrics import accuracy_score\n",
    "# bias는 낮아지지만 variance는 높아지는 과적합 오류를 줄이기 위해\n",
    "from sklearn.model_selection import cross_val_score"
   ]
  },
  {
   "cell_type": "markdown",
   "metadata": {},
   "source": [
    "#### 대충 툭 던져봐서 어느정도 걸리는지 알아봐야한다."
   ]
  },
  {
   "cell_type": "code",
   "execution_count": 55,
   "metadata": {
    "scrolled": false
   },
   "outputs": [
    {
     "name": "stdout",
     "output_type": "stream",
     "text": [
      "Process Time : 236.588481426239\n"
     ]
    }
   ],
   "source": [
    "t1 = time.time()\n",
    "# instantiate learning model ( k = 3)\n",
    "# n_jobs = -1 하지 않으면, 시간이 많이 걸리게 된다. 실제에서 사용할 때에는 시간도 상당히 오래 걸린다.\n",
    "knn = KNeighborsClassifier(n_neighbors=3, weights='distance', n_jobs=-1)\n",
    "# 여기까지는 KNN을 사용하기 위한 세팅만 한 것\n",
    "# 여기서 최적의 parameter를 찾는 것 (train data와 train 정답지가 필요)\n",
    "\n",
    "# fitting the model (모델 학습시키기)\n",
    "knn.fit(train_data, train_labels)\n",
    "\n",
    "# predict the response (문제 푼 답, 예측치)\n",
    "pred = knn.predict(test)\n",
    "\n",
    "# 캐글에서는 나온 예측치를 올리면 채점을 해줌\n",
    "t2 = time.time()\n",
    "\n",
    "print(\"Process Time : \" + str(t2-t1))"
   ]
  },
  {
   "cell_type": "code",
   "execution_count": 57,
   "metadata": {},
   "outputs": [],
   "source": [
    "# 출력용 만들기\n",
    "img_id=[]\n",
    "# summit 관련해서는 id가 1부터 시작되어야 하니, index matching 부분\n",
    "for i in range(1, len(test)+1):\n",
    "    img_id.append(i)\n",
    "    \n",
    "predMNIST = pd.DataFrame({\"imageId\":img_id, \"Label\":pred})\n",
    "\n",
    "out_path = \"data/01_MNIST_Kaggle_data/submission.csv\"\n",
    "predMNIST.to_csv(out_path, index=False)"
   ]
  },
  {
   "cell_type": "markdown",
   "metadata": {},
   "source": [
    "## summit 하기\n",
    "https://www.kaggle.com/c/digit-recognizer/leaderboard"
   ]
  },
  {
   "cell_type": "markdown",
   "metadata": {},
   "source": [
    "## PCA로 시도\n",
    "(주성분 분석)"
   ]
  },
  {
   "cell_type": "code",
   "execution_count": 58,
   "metadata": {},
   "outputs": [],
   "source": [
    "from sklearn.preprocessing import MinMaxScaler\n",
    "from sklearn.decomposition import PCA"
   ]
  },
  {
   "cell_type": "code",
   "execution_count": 59,
   "metadata": {},
   "outputs": [],
   "source": [
    "num_comp = 0.8\n",
    "pca = PCA(n_components=num_comp)"
   ]
  },
  {
   "cell_type": "code",
   "execution_count": 60,
   "metadata": {},
   "outputs": [
    {
     "data": {
      "text/plain": [
       "PCA(copy=True, iterated_power='auto', n_components=0.8, random_state=None,\n",
       "    svd_solver='auto', tol=0.0, whiten=False)"
      ]
     },
     "execution_count": 60,
     "metadata": {},
     "output_type": "execute_result"
    }
   ],
   "source": [
    "pca.fit(train_data)"
   ]
  },
  {
   "cell_type": "code",
   "execution_count": 61,
   "metadata": {},
   "outputs": [
    {
     "data": {
      "text/plain": [
       "0.800314973684246"
      ]
     },
     "execution_count": 61,
     "metadata": {},
     "output_type": "execute_result"
    }
   ],
   "source": [
    "np.sum(pca.explained_variance_ratio_)"
   ]
  },
  {
   "cell_type": "code",
   "execution_count": 62,
   "metadata": {
    "scrolled": true
   },
   "outputs": [
    {
     "data": {
      "image/png": "[encoded data removed]",
      "text/plain": [
       "<Figure size 432x288 with 1 Axes>"
      ]
     },
     "metadata": {
      "needs_background": "light"
     },
     "output_type": "display_data"
    }
   ],
   "source": [
    "# plot the explained variance\n",
    "plt.plot(pca.explained_variance_)\n",
    "plt.title(\"Variance Explained by Extracted Componenent\")\n",
    "plt.show()"
   ]
  },
  {
   "cell_type": "code",
   "execution_count": 70,
   "metadata": {},
   "outputs": [
    {
     "name": "stdout",
     "output_type": "stream",
     "text": [
      "(42000, 43)\n"
     ]
    }
   ],
   "source": [
    "train_ext = pca.fit_transform(train_data)\n",
    "print(train_ext.shape)"
   ]
  },
  {
   "cell_type": "code",
   "execution_count": 71,
   "metadata": {},
   "outputs": [
    {
     "name": "stdout",
     "output_type": "stream",
     "text": [
      "(28000, 43)\n"
     ]
    }
   ],
   "source": [
    "test_ext = pca.transform(test)\n",
    "print(test_ext.shape)"
   ]
  },
  {
   "cell_type": "code",
   "execution_count": 72,
   "metadata": {},
   "outputs": [],
   "source": [
    "min_max_scaler = MinMaxScaler()"
   ]
  },
  {
   "cell_type": "code",
   "execution_count": 73,
   "metadata": {},
   "outputs": [],
   "source": [
    "train_norm = min_max_scaler.fit_transform(train_ext)\n",
    "test_norm = min_max_scaler.fit_transform(test_ext)"
   ]
  },
  {
   "cell_type": "code",
   "execution_count": 75,
   "metadata": {},
   "outputs": [
    {
     "data": {
      "text/plain": [
       "KNeighborsClassifier(algorithm='auto', leaf_size=30, metric='minkowski',\n",
       "                     metric_params=None, n_jobs=-1, n_neighbors=3, p=2,\n",
       "                     weights='distance')"
      ]
     },
     "execution_count": 75,
     "metadata": {},
     "output_type": "execute_result"
    }
   ],
   "source": [
    "knn = KNeighborsClassifier(n_neighbors=3, weights='distance', n_jobs=-1)\n",
    "knn.fit(train_norm, train_labels)"
   ]
  },
  {
   "cell_type": "code",
   "execution_count": 76,
   "metadata": {},
   "outputs": [],
   "source": [
    "pred = knn.predict(test_norm)"
   ]
  },
  {
   "cell_type": "code",
   "execution_count": 77,
   "metadata": {},
   "outputs": [],
   "source": [
    "# 출력용 만들기\n",
    "img_id=[]\n",
    "# summit 관련해서는 id가 1부터 시작되어야 하니, index matching 부분\n",
    "for i in range(1, len(test)+1):\n",
    "    img_id.append(i)\n",
    "    \n",
    "predMNIST = pd.DataFrame({\"imageId\":img_id, \"Label\":pred})\n",
    "\n",
    "out_path = \"data/01_MNIST_Kaggle_data/submission.csv\"\n",
    "predMNIST.to_csv(out_path, index=False)"
   ]
  }
 ],
 "metadata": {
  "kernelspec": {
   "display_name": "Python 3",
   "language": "python",
   "name": "python3"
  },
  "language_info": {
   "codemirror_mode": {
    "name": "ipython",
    "version": 3
   },
   "file_extension": ".py",
   "mimetype": "text/x-python",
   "name": "python",
   "nbconvert_exporter": "python",
   "pygments_lexer": "ipython3",
   "version": "3.7.4"
  }
 },
 "nbformat": 4,
 "nbformat_minor": 2
}
