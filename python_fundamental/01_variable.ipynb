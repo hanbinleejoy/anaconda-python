{
 "cells": [
  {
   "cell_type": "code",
   "execution_count": 1,
   "metadata": {},
   "outputs": [
    {
     "name": "stdout",
     "output_type": "stream",
     "text": [
      "a\n",
      "1\n"
     ]
    }
   ],
   "source": [
    "# 대소문자 구별함\n",
    "A = \"a\"\n",
    "a = \"1\"\n",
    "print(A)\n",
    "print(a)"
   ]
  },
  {
   "cell_type": "code",
   "execution_count": 3,
   "metadata": {
    "scrolled": true
   },
   "outputs": [
    {
     "name": "stdout",
     "output_type": "stream",
     "text": [
      "<class 'int'>\n",
      "<class 'float'>\n",
      "<class 'str'>\n"
     ]
    }
   ],
   "source": [
    "# 변수의 형을 마음대로 변형 가능\n",
    "a = 3;\n",
    "print(type(a))\n",
    "a = 3.1111111\n",
    "print(type(a))\n",
    "a = \"12344abcd\"\n",
    "print(type(a))"
   ]
  },
  {
   "cell_type": "code",
   "execution_count": 15,
   "metadata": {},
   "outputs": [
    {
     "name": "stdout",
     "output_type": "stream",
     "text": [
      "abcd\n",
      "abcd\n",
      "We will \"Lock you!\"\n"
     ]
    },
    {
     "data": {
      "text/plain": [
       "'1'"
      ]
     },
     "execution_count": 15,
     "metadata": {},
     "output_type": "execute_result"
    }
   ],
   "source": [
    "# string - '', \"\" 상관없다.\n",
    "a = 'abcd'\n",
    "b = \"abcd\"\n",
    "print(a)\n",
    "print(b)\n",
    "c = 'Trump said \"We will attack on Iran!\"'\n",
    "c2 = \"We will \\\"Lock you!\\\"\" # escape\n",
    "\n",
    "print(c2)\n",
    "\n",
    "a+b # 스트링 합쳐짐\n",
    "\n",
    "change = str(1)\n",
    "change # 문자 날 것 그대로 가져옴"
   ]
  },
  {
   "cell_type": "code",
   "execution_count": 29,
   "metadata": {},
   "outputs": [
    {
     "name": "stdout",
     "output_type": "stream",
     "text": [
      "[1, 2, 3, 'abcd']\n",
      "1\n",
      "[1, 2, 3]\n",
      "[1, 2, 3, 'abcd', 'a']\n",
      "[1, 2, 'b', 3, 'abcd', 'a']\n",
      "[1, 'b', 3, 'abcd', 'a', 2]\n"
     ]
    }
   ],
   "source": [
    "# list (tuple과 다르게 추가, 삭제가 가능)\n",
    "\n",
    "a_list = [1,2,3,\"abcd\"] # r과 다르게(vector, matrix) 여러가지 타입을 받아줄 수 있음\n",
    "print(a_list)\n",
    "\n",
    "print(a_list[0]) # 0부터 시작\n",
    "print(a_list[0:3]) # 0부터 3전까지\n",
    "\n",
    "# append: 그냥 뒤에 추가하는 것\n",
    "a_list.append(\"a\")\n",
    "print(a_list)\n",
    "\n",
    "# insert: 원하는 위치에 추가\n",
    "a_list.insert(2, \"b\") # 2번째에 \"b\"를 넣고 싶다.\n",
    "print(a_list)\n",
    "\n",
    "# remove\n",
    "a_list.append(2)\n",
    "a_list.remove(2)\n",
    "print(a_list) # 요소 2가 여러개 있을 때 앞에서부터 지워짐\n"
   ]
  },
  {
   "cell_type": "code",
   "execution_count": 33,
   "metadata": {},
   "outputs": [
    {
     "name": "stdout",
     "output_type": "stream",
     "text": [
      "{'a': 1234, 'b': 5678}\n"
     ]
    },
    {
     "data": {
      "text/plain": [
       "dict_values([1234, 5678])"
      ]
     },
     "execution_count": 33,
     "metadata": {},
     "output_type": "execute_result"
    }
   ],
   "source": [
    "# dictionary 중요!\n",
    "d1 = {\"a\":1234, \"b\":5678}\n",
    "print(d1)\n",
    "\n",
    "d1.keys() # key값만 추려내기 (list양식으로 출력)\n",
    "d1.values() # value값만 추려내기 (list양식으로 출력)\n",
    "\n"
   ]
  }
 ],
 "metadata": {
  "kernelspec": {
   "display_name": "Python 3",
   "language": "python",
   "name": "python3"
  },
  "language_info": {
   "codemirror_mode": {
    "name": "ipython",
    "version": 3
   },
   "file_extension": ".py",
   "mimetype": "text/x-python",
   "name": "python",
   "nbconvert_exporter": "python",
   "pygments_lexer": "ipython3",
   "version": "3.7.4"
  }
 },
 "nbformat": 4,
 "nbformat_minor": 2
}
