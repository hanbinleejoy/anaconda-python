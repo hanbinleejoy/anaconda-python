{
 "cells": [
  {
   "cell_type": "code",
   "execution_count": 0,
   "metadata": {
    "colab": {},
    "colab_type": "code",
    "id": "zunfRjjZv3It"
   },
   "outputs": [],
   "source": [
    "try:\n",
    "  # Colab only\n",
    "  %tensorflow_version 2.x\n",
    "except Exception:\n",
    "  pass"
   ]
  },
  {
   "cell_type": "code",
   "execution_count": 41,
   "metadata": {
    "colab": {
     "base_uri": "https://localhost:8080/",
     "height": 34
    },
    "colab_type": "code",
    "executionInfo": {
     "elapsed": 2811,
     "status": "ok",
     "timestamp": 1576982199108,
     "user": {
      "displayName": "Dacon Service",
      "photoUrl": "",
      "userId": "00192245294648390361"
     },
     "user_tz": -540
    },
    "id": "NkZcU9J3wDaR",
    "outputId": "2ed83337-d8e7-45f1-f7ef-c347cc57b870"
   },
   "outputs": [
    {
     "data": {
      "text/plain": [
       "'2.1.0-rc1'"
      ]
     },
     "execution_count": 41,
     "metadata": {
      "tags": []
     },
     "output_type": "execute_result"
    }
   ],
   "source": [
    "import tensorflow as tf\n",
    "tf.__version__"
   ]
  },
  {
   "cell_type": "code",
   "execution_count": 42,
   "metadata": {
    "colab": {
     "base_uri": "https://localhost:8080/",
     "height": 34
    },
    "colab_type": "code",
    "executionInfo": {
     "elapsed": 2765,
     "status": "ok",
     "timestamp": 1576982199110,
     "user": {
      "displayName": "Dacon Service",
      "photoUrl": "",
      "userId": "00192245294648390361"
     },
     "user_tz": -540
    },
    "id": "UIxpia49wJeh",
    "outputId": "066c72f1-28fd-4e2c-8fcc-c21b5e856569"
   },
   "outputs": [
    {
     "data": {
      "text/plain": [
       "True"
      ]
     },
     "execution_count": 42,
     "metadata": {
      "tags": []
     },
     "output_type": "execute_result"
    }
   ],
   "source": [
    "tf.test.is_gpu_available()"
   ]
  },
  {
   "cell_type": "code",
   "execution_count": 0,
   "metadata": {
    "colab": {},
    "colab_type": "code",
    "id": "uaBYKe8RwOqV"
   },
   "outputs": [],
   "source": [
    "TRAIN_DATA_URL = \"https://drive.google.com/uc?authuser=0&id=11uwGt8fNyHm5VJbmZU6BVhJja7gjQZVQ&export=download\"\n",
    "TEST_DATA_URL = \"https://drive.google.com/uc?authuser=0&id=1oTfHdPxVShJOpJ8wbCP0VmymyE9m5iOf&export=download\"\n",
    "SUB_MISSION_URL = \"https://drive.google.com/a/dacon.io/uc?authuser=0&id=1jti3rkMN-Tb_WLOIeGVVFDYd_rfE9TFe&export=download\"\n",
    "\n",
    "train_file_path = tf.keras.utils.get_file(\"train.csv\", TRAIN_DATA_URL)\n",
    "test_file_path = tf.keras.utils.get_file(\"eval.csv\", TEST_DATA_URL)\n",
    "submission_path = tf.keras.utils.get_file(\"submission_sample.csv\", SUB_MISSION_URL)"
   ]
  },
  {
   "cell_type": "code",
   "execution_count": 44,
   "metadata": {
    "colab": {
     "base_uri": "https://localhost:8080/",
     "height": 69
    },
    "colab_type": "code",
    "executionInfo": {
     "elapsed": 2637,
     "status": "ok",
     "timestamp": 1576982199116,
     "user": {
      "displayName": "Dacon Service",
      "photoUrl": "",
      "userId": "00192245294648390361"
     },
     "user_tz": -540
    },
    "id": "5qvIertAzJIH",
    "outputId": "21ee67fb-7340-4dc4-89c4-9ddac02deeaa"
   },
   "outputs": [
    {
     "name": "stdout",
     "output_type": "stream",
     "text": [
      "/root/.keras/datasets/train.csv\n",
      "/root/.keras/datasets/eval.csv\n",
      "/root/.keras/datasets/submission_sample.csv\n"
     ]
    }
   ],
   "source": [
    "print(train_file_path)\n",
    "print(test_file_path)\n",
    "print(submission_path)"
   ]
  },
  {
   "cell_type": "code",
   "execution_count": 0,
   "metadata": {
    "colab": {},
    "colab_type": "code",
    "id": "AsW8F8MawaUU"
   },
   "outputs": [],
   "source": [
    "import pandas as pd\n",
    "train = pd.read_csv(train_file_path)"
   ]
  },
  {
   "cell_type": "code",
   "execution_count": 46,
   "metadata": {
    "colab": {
     "base_uri": "https://localhost:8080/",
     "height": 309
    },
    "colab_type": "code",
    "executionInfo": {
     "elapsed": 3947,
     "status": "ok",
     "timestamp": 1576982200507,
     "user": {
      "displayName": "Dacon Service",
      "photoUrl": "",
      "userId": "00192245294648390361"
     },
     "user_tz": -540
    },
    "id": "M943jVRnwi6_",
    "outputId": "dc9fb7f1-e70f-4af8-9e67-0e0e07aabfb3"
   },
   "outputs": [
    {
     "data": {
      "text/html": [
       "<div>\n",
       "<style scoped>\n",
       "    .dataframe tbody tr th:only-of-type {\n",
       "        vertical-align: middle;\n",
       "    }\n",
       "\n",
       "    .dataframe tbody tr th {\n",
       "        vertical-align: top;\n",
       "    }\n",
       "\n",
       "    .dataframe thead th {\n",
       "        text-align: right;\n",
       "    }\n",
       "</style>\n",
       "<table border=\"1\" class=\"dataframe\">\n",
       "  <thead>\n",
       "    <tr style=\"text-align: right;\">\n",
       "      <th></th>\n",
       "      <th>id</th>\n",
       "      <th>date</th>\n",
       "      <th>bus_route_id</th>\n",
       "      <th>in_out</th>\n",
       "      <th>station_code</th>\n",
       "      <th>station_name</th>\n",
       "      <th>latitude</th>\n",
       "      <th>longitude</th>\n",
       "      <th>6~7_ride</th>\n",
       "      <th>7~8_ride</th>\n",
       "      <th>8~9_ride</th>\n",
       "      <th>9~10_ride</th>\n",
       "      <th>10~11_ride</th>\n",
       "      <th>11~12_ride</th>\n",
       "      <th>6~7_takeoff</th>\n",
       "      <th>7~8_takeoff</th>\n",
       "      <th>8~9_takeoff</th>\n",
       "      <th>9~10_takeoff</th>\n",
       "      <th>10~11_takeoff</th>\n",
       "      <th>11~12_takeoff</th>\n",
       "      <th>18~20_ride</th>\n",
       "    </tr>\n",
       "  </thead>\n",
       "  <tbody>\n",
       "    <tr>\n",
       "      <th>0</th>\n",
       "      <td>0</td>\n",
       "      <td>2019-09-01</td>\n",
       "      <td>4270000</td>\n",
       "      <td>시외</td>\n",
       "      <td>344</td>\n",
       "      <td>제주썬호텔</td>\n",
       "      <td>33.48990</td>\n",
       "      <td>126.49373</td>\n",
       "      <td>0.0</td>\n",
       "      <td>1.0</td>\n",
       "      <td>2.0</td>\n",
       "      <td>5.0</td>\n",
       "      <td>2.0</td>\n",
       "      <td>6.0</td>\n",
       "      <td>0.0</td>\n",
       "      <td>0.0</td>\n",
       "      <td>0.0</td>\n",
       "      <td>0.0</td>\n",
       "      <td>0.0</td>\n",
       "      <td>0.0</td>\n",
       "      <td>0.0</td>\n",
       "    </tr>\n",
       "    <tr>\n",
       "      <th>1</th>\n",
       "      <td>1</td>\n",
       "      <td>2019-09-01</td>\n",
       "      <td>4270000</td>\n",
       "      <td>시외</td>\n",
       "      <td>357</td>\n",
       "      <td>한라병원</td>\n",
       "      <td>33.48944</td>\n",
       "      <td>126.48508</td>\n",
       "      <td>1.0</td>\n",
       "      <td>4.0</td>\n",
       "      <td>4.0</td>\n",
       "      <td>2.0</td>\n",
       "      <td>5.0</td>\n",
       "      <td>6.0</td>\n",
       "      <td>0.0</td>\n",
       "      <td>0.0</td>\n",
       "      <td>0.0</td>\n",
       "      <td>0.0</td>\n",
       "      <td>0.0</td>\n",
       "      <td>0.0</td>\n",
       "      <td>5.0</td>\n",
       "    </tr>\n",
       "    <tr>\n",
       "      <th>2</th>\n",
       "      <td>2</td>\n",
       "      <td>2019-09-01</td>\n",
       "      <td>4270000</td>\n",
       "      <td>시외</td>\n",
       "      <td>432</td>\n",
       "      <td>정존마을</td>\n",
       "      <td>33.48181</td>\n",
       "      <td>126.47352</td>\n",
       "      <td>1.0</td>\n",
       "      <td>1.0</td>\n",
       "      <td>0.0</td>\n",
       "      <td>2.0</td>\n",
       "      <td>0.0</td>\n",
       "      <td>0.0</td>\n",
       "      <td>0.0</td>\n",
       "      <td>0.0</td>\n",
       "      <td>0.0</td>\n",
       "      <td>0.0</td>\n",
       "      <td>0.0</td>\n",
       "      <td>0.0</td>\n",
       "      <td>2.0</td>\n",
       "    </tr>\n",
       "    <tr>\n",
       "      <th>3</th>\n",
       "      <td>3</td>\n",
       "      <td>2019-09-01</td>\n",
       "      <td>4270000</td>\n",
       "      <td>시내</td>\n",
       "      <td>1579</td>\n",
       "      <td>제주국제공항(600번)</td>\n",
       "      <td>33.50577</td>\n",
       "      <td>126.49252</td>\n",
       "      <td>0.0</td>\n",
       "      <td>17.0</td>\n",
       "      <td>6.0</td>\n",
       "      <td>26.0</td>\n",
       "      <td>14.0</td>\n",
       "      <td>16.0</td>\n",
       "      <td>0.0</td>\n",
       "      <td>0.0</td>\n",
       "      <td>0.0</td>\n",
       "      <td>0.0</td>\n",
       "      <td>0.0</td>\n",
       "      <td>0.0</td>\n",
       "      <td>53.0</td>\n",
       "    </tr>\n",
       "    <tr>\n",
       "      <th>4</th>\n",
       "      <td>4</td>\n",
       "      <td>2019-09-01</td>\n",
       "      <td>4270000</td>\n",
       "      <td>시내</td>\n",
       "      <td>1646</td>\n",
       "      <td>중문관광단지입구</td>\n",
       "      <td>33.25579</td>\n",
       "      <td>126.41260</td>\n",
       "      <td>0.0</td>\n",
       "      <td>0.0</td>\n",
       "      <td>0.0</td>\n",
       "      <td>0.0</td>\n",
       "      <td>0.0</td>\n",
       "      <td>0.0</td>\n",
       "      <td>0.0</td>\n",
       "      <td>0.0</td>\n",
       "      <td>0.0</td>\n",
       "      <td>1.0</td>\n",
       "      <td>0.0</td>\n",
       "      <td>0.0</td>\n",
       "      <td>0.0</td>\n",
       "    </tr>\n",
       "  </tbody>\n",
       "</table>\n",
       "</div>"
      ],
      "text/plain": [
       "   id        date  bus_route_id  ... 10~11_takeoff  11~12_takeoff 18~20_ride\n",
       "0   0  2019-09-01       4270000  ...           0.0            0.0        0.0\n",
       "1   1  2019-09-01       4270000  ...           0.0            0.0        5.0\n",
       "2   2  2019-09-01       4270000  ...           0.0            0.0        2.0\n",
       "3   3  2019-09-01       4270000  ...           0.0            0.0       53.0\n",
       "4   4  2019-09-01       4270000  ...           0.0            0.0        0.0\n",
       "\n",
       "[5 rows x 21 columns]"
      ]
     },
     "execution_count": 46,
     "metadata": {
      "tags": []
     },
     "output_type": "execute_result"
    }
   ],
   "source": [
    "train.head()"
   ]
  },
  {
   "cell_type": "code",
   "execution_count": 47,
   "metadata": {
    "colab": {
     "base_uri": "https://localhost:8080/",
     "height": 297
    },
    "colab_type": "code",
    "executionInfo": {
     "elapsed": 7574,
     "status": "ok",
     "timestamp": 1576982204202,
     "user": {
      "displayName": "Dacon Service",
      "photoUrl": "",
      "userId": "00192245294648390361"
     },
     "user_tz": -540
    },
    "id": "kbC_INFEwkXB",
    "outputId": "e4112fda-8f81-490f-895e-8f54bbfcbdc8"
   },
   "outputs": [
    {
     "data": {
      "text/plain": [
       "<matplotlib.axes._subplots.AxesSubplot at 0x7f137fc91a20>"
      ]
     },
     "execution_count": 47,
     "metadata": {
      "tags": []
     },
     "output_type": "execute_result"
    },
    {
     "data": {
      "image/png": "[encoded data removed]",
      "text/plain": [
       "<Figure size 432x288 with 1 Axes>"
      ]
     },
     "metadata": {
      "tags": []
     },
     "output_type": "display_data"
    }
   ],
   "source": [
    "train.plot(kind = 'scatter', x = 'longitude', y = 'latitude', alpha = 0.1)"
   ]
  },
  {
   "cell_type": "code",
   "execution_count": 0,
   "metadata": {
    "colab": {},
    "colab_type": "code",
    "id": "SZm1lx01yrwD"
   },
   "outputs": [],
   "source": [
    "LABEL_COLUMN = '18~20_ride'"
   ]
  },
  {
   "cell_type": "code",
   "execution_count": 49,
   "metadata": {
    "colab": {
     "base_uri": "https://localhost:8080/",
     "height": 122
    },
    "colab_type": "code",
    "executionInfo": {
     "elapsed": 7512,
     "status": "ok",
     "timestamp": 1576982204204,
     "user": {
      "displayName": "Dacon Service",
      "photoUrl": "",
      "userId": "00192245294648390361"
     },
     "user_tz": -540
    },
    "id": "I3QXPO431yvD",
    "outputId": "c1e7e40b-6599-43a4-fb77-edc0609e9993"
   },
   "outputs": [
    {
     "data": {
      "text/plain": [
       "Index(['id', 'date', 'bus_route_id', 'in_out', 'station_code', 'station_name',\n",
       "       'latitude', 'longitude', '6~7_ride', '7~8_ride', '8~9_ride',\n",
       "       '9~10_ride', '10~11_ride', '11~12_ride', '6~7_takeoff', '7~8_takeoff',\n",
       "       '8~9_takeoff', '9~10_takeoff', '10~11_takeoff', '11~12_takeoff',\n",
       "       '18~20_ride'],\n",
       "      dtype='object')"
      ]
     },
     "execution_count": 49,
     "metadata": {
      "tags": []
     },
     "output_type": "execute_result"
    }
   ],
   "source": [
    "train.columns"
   ]
  },
  {
   "cell_type": "code",
   "execution_count": 0,
   "metadata": {
    "colab": {},
    "colab_type": "code",
    "id": "SUbMGaR80TxA"
   },
   "outputs": [],
   "source": [
    "# Dataset 형태로 csv파일을 변경\n",
    "\n",
    "def get_dataset(file_path, **kwargs):\n",
    "    dataset = tf.data.experimental.make_csv_dataset(\n",
    "        file_path,\n",
    "        batch_size=5000,\n",
    "        na_value=\"?\",\n",
    "        num_epochs=1,\n",
    "        ignore_errors= True,\n",
    "        **kwargs)\n",
    "    return dataset\n",
    "\n",
    "SELECT_TRAIN_COLUMNS = ['in_out',\n",
    "                  'latitude', 'longitude', \n",
    "                  '6~7_ride', '7~8_ride', '8~9_ride',\n",
    "                  '9~10_ride', '10~11_ride', '11~12_ride',\n",
    "                  '6~7_takeoff', '7~8_takeoff', '8~9_takeoff',\n",
    "                  '9~10_takeoff', '10~11_takeoff', '11~12_takeoff',\n",
    "                  '18~20_ride']\n",
    "\n",
    "SELECT_TEST_COLUMNS = ['in_out',\n",
    "                  'latitude', 'longitude', \n",
    "                  '6~7_ride', '7~8_ride', '8~9_ride',\n",
    "                  '9~10_ride', '10~11_ride', '11~12_ride',\n",
    "                  '6~7_takeoff', '7~8_takeoff', '8~9_takeoff',\n",
    "                  '9~10_takeoff', '10~11_takeoff', '11~12_takeoff']                  "
   ]
  },
  {
   "cell_type": "code",
   "execution_count": 0,
   "metadata": {
    "colab": {},
    "colab_type": "code",
    "id": "6ynFP02W07E2"
   },
   "outputs": [],
   "source": [
    "raw_train_data = get_dataset(train_file_path,\n",
    "                             select_columns = SELECT_TRAIN_COLUMNS,\n",
    "                             label_name = LABEL_COLUMN)\n",
    "\n",
    "raw_test_data = get_dataset(test_file_path,\n",
    "                            select_columns = SELECT_TEST_COLUMNS)"
   ]
  },
  {
   "cell_type": "code",
   "execution_count": 0,
   "metadata": {
    "colab": {},
    "colab_type": "code",
    "id": "2uBc3sJA1NOt"
   },
   "outputs": [],
   "source": [
    "# train set에만 작동 됩니다\n",
    "def show_batch(dataset):\n",
    "  for batch, label in dataset.take(1):\n",
    "    for key, value in batch.items():\n",
    "      print(\"{:20s}: {}\".format(key,value.numpy()))\n",
    "\n",
    "    print(label)\n"
   ]
  },
  {
   "cell_type": "code",
   "execution_count": 53,
   "metadata": {
    "colab": {
     "base_uri": "https://localhost:8080/",
     "height": 332
    },
    "colab_type": "code",
    "executionInfo": {
     "elapsed": 7256,
     "status": "ok",
     "timestamp": 1576982204206,
     "user": {
      "displayName": "Dacon Service",
      "photoUrl": "",
      "userId": "00192245294648390361"
     },
     "user_tz": -540
    },
    "id": "QbhbO02O5N_R",
    "outputId": "1ef4fada-4407-4b7c-c46d-da478ed62075"
   },
   "outputs": [
    {
     "name": "stdout",
     "output_type": "stream",
     "text": [
      "in_out              : [b'\\xec\\x8b\\x9c\\xeb\\x82\\xb4' b'\\xec\\x8b\\x9c\\xeb\\x82\\xb4'\n",
      " b'\\xec\\x8b\\x9c\\xeb\\x82\\xb4' ... b'\\xec\\x8b\\x9c\\xeb\\x82\\xb4'\n",
      " b'\\xec\\x8b\\x9c\\xeb\\x82\\xb4' b'\\xec\\x8b\\x9c\\xeb\\x82\\xb4']\n",
      "latitude            : [33.4852  33.4923  33.3009  ... 33.51353 33.51315 33.31034]\n",
      "longitude           : [126.54289 126.5266  126.18043 ... 126.54158 126.52706 126.33932]\n",
      "6~7_ride            : [0. 2. 2. ... 2. 0. 0.]\n",
      "7~8_ride            : [0. 0. 2. ... 0. 4. 0.]\n",
      "8~9_ride            : [0. 0. 1. ... 3. 1. 0.]\n",
      "9~10_ride           : [1. 0. 0. ... 1. 0. 1.]\n",
      "10~11_ride          : [1. 0. 1. ... 0. 2. 1.]\n",
      "11~12_ride          : [0. 0. 2. ... 0. 5. 0.]\n",
      "6~7_takeoff         : [0. 1. 0. ... 0. 0. 0.]\n",
      "7~8_takeoff         : [0. 0. 0. ... 0. 1. 0.]\n",
      "8~9_takeoff         : [0. 0. 0. ... 0. 7. 0.]\n",
      "9~10_takeoff        : [1. 0. 0. ... 0. 0. 2.]\n",
      "10~11_takeoff       : [0. 0. 0. ... 0. 4. 1.]\n",
      "11~12_takeoff       : [0. 0. 0. ... 0. 3. 1.]\n",
      "tf.Tensor([0. 0. 2. ... 1. 4. 0.], shape=(5000,), dtype=float32)\n"
     ]
    }
   ],
   "source": [
    "show_batch(raw_train_data)"
   ]
  },
  {
   "cell_type": "code",
   "execution_count": 0,
   "metadata": {
    "colab": {},
    "colab_type": "code",
    "id": "OQMO8g0J5u5A"
   },
   "outputs": [],
   "source": [
    "class PackNumericFeatures(object):\n",
    "  def __init__(self, names): \n",
    "    self.names = names\n",
    "\n",
    "  # test set에는 label이 없어서 실행이 안될 것임 \n",
    "  def __call__(self, features, labels):\n",
    "    numeric_features = [features.pop(name) for name in self.names]\n",
    "    numeric_features = [tf.cast(feat, tf.float32) for feat in numeric_features]\n",
    "    numeric_features = tf.stack(numeric_features, axis=-1)\n",
    "    features['numeric'] = numeric_features\n",
    "\n",
    "    return features, labels\n",
    "\n",
    "class TestPackNumericFeatures(object):\n",
    "  def __init__(self, names): \n",
    "    self.names = names\n",
    "\n",
    "  \n",
    "  def __call__(self, features):\n",
    "    numeric_features = [features.pop(name) for name in self.names]\n",
    "    numeric_features = [tf.cast(feat, tf.float32) for feat in numeric_features]\n",
    "    numeric_features = tf.stack(numeric_features, axis=-1)\n",
    "    features['numeric'] = numeric_features\n",
    "\n",
    "    return features"
   ]
  },
  {
   "cell_type": "code",
   "execution_count": 0,
   "metadata": {
    "colab": {},
    "colab_type": "code",
    "id": "8_UVjmuW_E0M"
   },
   "outputs": [],
   "source": [
    "NUMERIC_FEATURES = ['latitude', 'longitude', \n",
    "                  '6~7_ride', '7~8_ride', '8~9_ride',\n",
    "                  '9~10_ride', '10~11_ride', '11~12_ride',\n",
    "                  '6~7_takeoff', '7~8_takeoff', '8~9_takeoff',\n",
    "                  '9~10_takeoff', '10~11_takeoff', '11~12_takeoff'\n",
    "                  ]\n",
    "\n",
    "packed_train_data = raw_train_data.map(\n",
    "    PackNumericFeatures(NUMERIC_FEATURES))\n",
    "\n",
    "packed_test_data = raw_test_data.map(\n",
    "    TestPackNumericFeatures(NUMERIC_FEATURES))"
   ]
  },
  {
   "cell_type": "code",
   "execution_count": 56,
   "metadata": {
    "colab": {
     "base_uri": "https://localhost:8080/",
     "height": 209
    },
    "colab_type": "code",
    "executionInfo": {
     "elapsed": 7190,
     "status": "ok",
     "timestamp": 1576982204207,
     "user": {
      "displayName": "Dacon Service",
      "photoUrl": "",
      "userId": "00192245294648390361"
     },
     "user_tz": -540
    },
    "id": "-WjxXyv3COQB",
    "outputId": "9258d170-b974-4c7c-aa0e-6e5be7805731"
   },
   "outputs": [
    {
     "name": "stdout",
     "output_type": "stream",
     "text": [
      "in_out              : [b'\\xec\\x8b\\x9c\\xeb\\x82\\xb4' b'\\xec\\x8b\\x9c\\xeb\\x82\\xb4'\n",
      " b'\\xec\\x8b\\x9c\\xeb\\x82\\xb4' ... b'\\xec\\x8b\\x9c\\xeb\\x82\\xb4'\n",
      " b'\\xec\\x8b\\x9c\\xeb\\x82\\xb4' b'\\xec\\x8b\\x9c\\xeb\\x82\\xb4']\n",
      "numeric             : [[ 33.52121 126.57471   1.      ...   0.        0.        0.     ]\n",
      " [ 33.48486 126.54293   0.      ...   1.        2.        0.     ]\n",
      " [ 33.51261 126.55096   0.      ...   1.        0.        1.     ]\n",
      " ...\n",
      " [ 33.24985 126.50723   0.      ...   0.        0.        1.     ]\n",
      " [ 33.52023 126.56319   0.      ...   0.        0.        0.     ]\n",
      " [ 33.4818  126.48638   0.      ...   0.        0.        0.     ]]\n",
      "tf.Tensor([2. 0. 1. ... 2. 0. 0.], shape=(5000,), dtype=float32)\n"
     ]
    }
   ],
   "source": [
    "show_batch(packed_train_data)"
   ]
  },
  {
   "cell_type": "code",
   "execution_count": 0,
   "metadata": {
    "colab": {},
    "colab_type": "code",
    "id": "mU4gBXh0DM6L"
   },
   "outputs": [],
   "source": [
    "example_batch, labels_batch = next(iter(packed_train_data)) "
   ]
  },
  {
   "cell_type": "code",
   "execution_count": 0,
   "metadata": {
    "colab": {},
    "colab_type": "code",
    "id": "H79Aot_jDXwc"
   },
   "outputs": [],
   "source": [
    "import numpy as np\n",
    "desc = pd.read_csv(train_file_path)[NUMERIC_FEATURES].describe()\n",
    "desc\n",
    "MEAN = np.array(desc.T['mean'])\n",
    "STD = np.array(desc.T['std'])"
   ]
  },
  {
   "cell_type": "code",
   "execution_count": 0,
   "metadata": {
    "colab": {},
    "colab_type": "code",
    "id": "-C8OR7FwDae5"
   },
   "outputs": [],
   "source": [
    "def normalize_numeric_data(data, mean, std):\n",
    "  # Center the data\n",
    "  return (data-mean)/std"
   ]
  },
  {
   "cell_type": "code",
   "execution_count": 60,
   "metadata": {
    "colab": {
     "base_uri": "https://localhost:8080/",
     "height": 142
    },
    "colab_type": "code",
    "executionInfo": {
     "elapsed": 8004,
     "status": "ok",
     "timestamp": 1576982205093,
     "user": {
      "displayName": "Dacon Service",
      "photoUrl": "",
      "userId": "00192245294648390361"
     },
     "user_tz": -540
    },
    "id": "GjYlDRiHDeqD",
    "outputId": "bf00c81b-80c1-4199-cb5e-797b5e29ba0c"
   },
   "outputs": [
    {
     "data": {
      "text/plain": [
       "NumericColumn(key='numeric', shape=(14,), default_value=None, dtype=tf.float32, normalizer_fn=functools.partial(<function normalize_numeric_data at 0x7f137dcc26a8>, mean=array([3.34203746e+01, 1.26533574e+02, 3.05893030e-01, 8.29698885e-01,\n",
       "       8.15349656e-01, 6.42475260e-01, 5.99617739e-01, 5.79392571e-01,\n",
       "       1.12870496e-01, 3.44870168e-01, 5.16480792e-01, 4.30922217e-01,\n",
       "       4.08001001e-01, 4.02873697e-01]), std=array([0.1079957 , 0.1409865 , 1.10976598, 2.25511606, 2.31756064,\n",
       "       1.95984392, 1.88594054, 1.94213739, 0.59771422, 1.27917892,\n",
       "       1.6588497 , 1.48512358, 1.412839  , 1.44608019])))"
      ]
     },
     "execution_count": 60,
     "metadata": {
      "tags": []
     },
     "output_type": "execute_result"
    }
   ],
   "source": [
    "# See what you just created.\n",
    "import functools\n",
    "normalizer = functools.partial(normalize_numeric_data, mean=MEAN, std=STD)\n",
    "\n",
    "numeric_column = tf.feature_column.numeric_column('numeric', normalizer_fn=normalizer, shape=[len(NUMERIC_FEATURES)])\n",
    "numeric_columns = [numeric_column]\n",
    "# numeric column을 preprocessing할 정보가 담김 \n",
    "numeric_column"
   ]
  },
  {
   "cell_type": "code",
   "execution_count": 61,
   "metadata": {
    "colab": {
     "base_uri": "https://localhost:8080/",
     "height": 262
    },
    "colab_type": "code",
    "executionInfo": {
     "elapsed": 9272,
     "status": "ok",
     "timestamp": 1576982206380,
     "user": {
      "displayName": "Dacon Service",
      "photoUrl": "",
      "userId": "00192245294648390361"
     },
     "user_tz": -540
    },
    "id": "WQ2nELHUDhAJ",
    "outputId": "2a770e6b-1d42-43d4-aa78-f50f6a03b273"
   },
   "outputs": [
    {
     "data": {
      "text/plain": [
       "<tf.Tensor: shape=(5000, 14), dtype=float32, numpy=\n",
       "array([[ 33.30452, 126.28862,   0.     , ...,   0.     ,   0.     ,\n",
       "          2.     ],\n",
       "       [ 33.51522, 126.50258,   0.     , ...,   0.     ,   0.     ,\n",
       "          2.     ],\n",
       "       [ 33.51456, 126.58883,   0.     , ...,   0.     ,   0.     ,\n",
       "          1.     ],\n",
       "       ...,\n",
       "       [ 33.47653, 126.54428,   0.     , ...,   0.     ,   0.     ,\n",
       "          0.     ],\n",
       "       [ 33.51767, 126.76983,   0.     , ...,   0.     ,   1.     ,\n",
       "          0.     ],\n",
       "       [ 33.48997, 126.49127,   0.     , ...,   0.     ,   0.     ,\n",
       "          0.     ]], dtype=float32)>"
      ]
     },
     "execution_count": 61,
     "metadata": {
      "tags": []
     },
     "output_type": "execute_result"
    }
   ],
   "source": [
    "example_batch['numeric']"
   ]
  },
  {
   "cell_type": "code",
   "execution_count": 62,
   "metadata": {
    "colab": {
     "base_uri": "https://localhost:8080/",
     "height": 244
    },
    "colab_type": "code",
    "executionInfo": {
     "elapsed": 9259,
     "status": "ok",
     "timestamp": 1576982206382,
     "user": {
      "displayName": "Dacon Service",
      "photoUrl": "",
      "userId": "00192245294648390361"
     },
     "user_tz": -540
    },
    "id": "zTYWRuDqDlja",
    "outputId": "b0eee29a-8724-45a6-dac0-d086dc4d028e"
   },
   "outputs": [
    {
     "data": {
      "text/plain": [
       "array([[-1.072785  , -1.7374498 , -0.27563742, ..., -0.29015914,\n",
       "        -0.28878096,  1.104452  ],\n",
       "       [ 0.8782278 , -0.21986665, -0.27563742, ..., -0.29015914,\n",
       "        -0.28878096,  1.104452  ],\n",
       "       [ 0.8721169 ,  0.39189622, -0.27563742, ..., -0.29015914,\n",
       "        -0.28878096,  0.4129275 ],\n",
       "       ...,\n",
       "       [ 0.51994985,  0.07592245, -0.27563742, ..., -0.29015914,\n",
       "        -0.28878096, -0.27859706],\n",
       "       [ 0.9009049 ,  1.6757053 , -0.27563742, ..., -0.29015914,\n",
       "         0.41901374, -0.27859706],\n",
       "       [ 0.64442694, -0.30006415, -0.27563742, ..., -0.29015914,\n",
       "        -0.28878096, -0.27859706]], dtype=float32)"
      ]
     },
     "execution_count": 62,
     "metadata": {
      "tags": []
     },
     "output_type": "execute_result"
    }
   ],
   "source": [
    "numeric_layer = tf.keras.layers.DenseFeatures(numeric_columns)\n",
    "numeric_layer(example_batch).numpy()"
   ]
  },
  {
   "cell_type": "code",
   "execution_count": 0,
   "metadata": {
    "colab": {},
    "colab_type": "code",
    "id": "H6MYspQyDy8d"
   },
   "outputs": [],
   "source": [
    "CATEGORIES = {\n",
    "    'in_out': ['시내', '시외'],\n",
    "}"
   ]
  },
  {
   "cell_type": "code",
   "execution_count": 0,
   "metadata": {
    "colab": {},
    "colab_type": "code",
    "id": "XQeVpD1FEHGE"
   },
   "outputs": [],
   "source": [
    "categorical_columns = []\n",
    "for feature, vocab in CATEGORIES.items():\n",
    "  cat_col = tf.feature_column.categorical_column_with_vocabulary_list(\n",
    "        key=feature, vocabulary_list=vocab)\n",
    "  categorical_columns.append(tf.feature_column.indicator_column(cat_col))"
   ]
  },
  {
   "cell_type": "code",
   "execution_count": 65,
   "metadata": {
    "colab": {
     "base_uri": "https://localhost:8080/",
     "height": 54
    },
    "colab_type": "code",
    "executionInfo": {
     "elapsed": 9214,
     "status": "ok",
     "timestamp": 1576982206385,
     "user": {
      "displayName": "Dacon Service",
      "photoUrl": "",
      "userId": "00192245294648390361"
     },
     "user_tz": -540
    },
    "id": "ZyECOXvhEL93",
    "outputId": "c8d45a1e-5760-42d7-9a34-c11fe3982a3c"
   },
   "outputs": [
    {
     "data": {
      "text/plain": [
       "[IndicatorColumn(categorical_column=VocabularyListCategoricalColumn(key='in_out', vocabulary_list=('시내', '시외'), dtype=tf.string, default_value=-1, num_oov_buckets=0))]"
      ]
     },
     "execution_count": 65,
     "metadata": {
      "tags": []
     },
     "output_type": "execute_result"
    }
   ],
   "source": [
    "# See what you just created.\n",
    "categorical_columns"
   ]
  },
  {
   "cell_type": "code",
   "execution_count": 66,
   "metadata": {
    "colab": {
     "base_uri": "https://localhost:8080/",
     "height": 34
    },
    "colab_type": "code",
    "executionInfo": {
     "elapsed": 9151,
     "status": "ok",
     "timestamp": 1576982206386,
     "user": {
      "displayName": "Dacon Service",
      "photoUrl": "",
      "userId": "00192245294648390361"
     },
     "user_tz": -540
    },
    "id": "IJJMA10ZENCK",
    "outputId": "a7e801a1-03da-44d4-b1ee-42e68c5782ad"
   },
   "outputs": [
    {
     "name": "stdout",
     "output_type": "stream",
     "text": [
      "[1. 0.]\n"
     ]
    }
   ],
   "source": [
    "categorical_layer = tf.keras.layers.DenseFeatures(categorical_columns)\n",
    "print(categorical_layer(example_batch).numpy()[0])"
   ]
  },
  {
   "cell_type": "code",
   "execution_count": 67,
   "metadata": {
    "colab": {
     "base_uri": "https://localhost:8080/",
     "height": 69
    },
    "colab_type": "code",
    "executionInfo": {
     "elapsed": 9115,
     "status": "ok",
     "timestamp": 1576982206386,
     "user": {
      "displayName": "Dacon Service",
      "photoUrl": "",
      "userId": "00192245294648390361"
     },
     "user_tz": -540
    },
    "id": "zn6D1RwHEP8h",
    "outputId": "495d2bfc-4260-4535-b357-d1cb5d86493e"
   },
   "outputs": [
    {
     "name": "stdout",
     "output_type": "stream",
     "text": [
      "[ 1.          0.         -1.072785   -1.7374498  -0.27563742 -0.3679185\n",
      " -0.3518137  -0.32781962 -0.31794095 -0.29832727 -0.18883689 -0.26960275\n",
      " -0.31134877 -0.29015914 -0.28878096  1.104452  ]\n"
     ]
    }
   ],
   "source": [
    "preprocessing_layer = tf.keras.layers.DenseFeatures(categorical_columns+numeric_columns)\n",
    "print(preprocessing_layer(example_batch).numpy()[0])\n"
   ]
  },
  {
   "cell_type": "code",
   "execution_count": 0,
   "metadata": {
    "colab": {},
    "colab_type": "code",
    "id": "yA36Z4vIEULK"
   },
   "outputs": [],
   "source": [
    "# rmse를 metrics로 설정하고 싶은 경우 선택합니다.\n",
    "def rmse(targets, predictions):\n",
    "  rmse = tf.sqrt(tf.reduce_mean(tf.math.squared_difference(targets, predictions)))\n",
    "  return rmse"
   ]
  },
  {
   "cell_type": "code",
   "execution_count": 0,
   "metadata": {
    "colab": {},
    "colab_type": "code",
    "id": "C7jFohtFEV6v"
   },
   "outputs": [],
   "source": [
    "model = tf.keras.Sequential([\n",
    "  preprocessing_layer,\n",
    "  tf.keras.layers.Dense(128, activation='relu'),\n",
    "  tf.keras.layers.Dense(128, activation='relu'),\n",
    "  tf.keras.layers.Dropout(0.2),\n",
    "  tf.keras.layers.Dense(1)\n",
    "])\n",
    "\n",
    "model.compile(\n",
    "    loss='mse',\n",
    "    optimizer='adam',\n",
    "    metrics=['mse', 'mae', rmse])"
   ]
  },
  {
   "cell_type": "code",
   "execution_count": 0,
   "metadata": {
    "colab": {},
    "colab_type": "code",
    "id": "34KdsbqCEmt1"
   },
   "outputs": [],
   "source": [
    "train_data = packed_train_data.shuffle(500)"
   ]
  },
  {
   "cell_type": "code",
   "execution_count": 71,
   "metadata": {
    "colab": {
     "base_uri": "https://localhost:8080/",
     "height": 107
    },
    "colab_type": "code",
    "executionInfo": {
     "elapsed": 24288,
     "status": "ok",
     "timestamp": 1576982221620,
     "user": {
      "displayName": "Dacon Service",
      "photoUrl": "",
      "userId": "00192245294648390361"
     },
     "user_tz": -540
    },
    "id": "liFIM_HVEwu-",
    "outputId": "358ca00e-14c0-4dbf-ac8b-42b668b9056a"
   },
   "outputs": [
    {
     "name": "stdout",
     "output_type": "stream",
     "text": [
      "Train for 1000 steps\n",
      "Epoch 1/20\n",
      "  75/1000 [=>............................] - ETA: 1:45 - loss: 14.3635 - mse: 14.3431 - mae: 1.3074 - rmse: 3.6684WARNING:tensorflow:Your input ran out of data; interrupting training. Make sure that your dataset or generator can generate at least `steps_per_epoch * epochs` batches (in this case, 20000 batches). You may need to use the repeat() function when building your dataset.\n",
      "  84/1000 [=>............................] - ETA: 1:33 - loss: 14.1734 - mse: 14.1533 - mae: 1.2949 - rmse: 3.6472"
     ]
    }
   ],
   "source": [
    "# patience 매개변수는 성능 향상을 체크할 에포크 횟수입니다\n",
    "# 이 부분은 개별적으로 공부해보세요\n",
    "# early_stop = tf.keras.callbacks.EarlyStopping(monitor='val_loss', patience=10)\n",
    "\n",
    "\n",
    "history = model.fit(train_data, steps_per_epoch= 1000, epochs=20)\n"
   ]
  },
  {
   "cell_type": "code",
   "execution_count": 72,
   "metadata": {
    "colab": {
     "base_uri": "https://localhost:8080/",
     "height": 80
    },
    "colab_type": "code",
    "executionInfo": {
     "elapsed": 24263,
     "status": "ok",
     "timestamp": 1576982221621,
     "user": {
      "displayName": "Dacon Service",
      "photoUrl": "",
      "userId": "00192245294648390361"
     },
     "user_tz": -540
    },
    "id": "Y09eDqY6E3fz",
    "outputId": "efe6647b-8762-488a-cca1-0561b3c4b14f"
   },
   "outputs": [
    {
     "data": {
      "text/html": [
       "<div>\n",
       "<style scoped>\n",
       "    .dataframe tbody tr th:only-of-type {\n",
       "        vertical-align: middle;\n",
       "    }\n",
       "\n",
       "    .dataframe tbody tr th {\n",
       "        vertical-align: top;\n",
       "    }\n",
       "\n",
       "    .dataframe thead th {\n",
       "        text-align: right;\n",
       "    }\n",
       "</style>\n",
       "<table border=\"1\" class=\"dataframe\">\n",
       "  <thead>\n",
       "    <tr style=\"text-align: right;\">\n",
       "      <th></th>\n",
       "      <th>loss</th>\n",
       "      <th>mse</th>\n",
       "      <th>mae</th>\n",
       "      <th>rmse</th>\n",
       "      <th>epoch</th>\n",
       "    </tr>\n",
       "  </thead>\n",
       "  <tbody>\n",
       "    <tr>\n",
       "      <th>0</th>\n",
       "      <td>14.153311</td>\n",
       "      <td>14.15331</td>\n",
       "      <td>1.294857</td>\n",
       "      <td>3.64717</td>\n",
       "      <td>0</td>\n",
       "    </tr>\n",
       "  </tbody>\n",
       "</table>\n",
       "</div>"
      ],
      "text/plain": [
       "        loss       mse       mae     rmse  epoch\n",
       "0  14.153311  14.15331  1.294857  3.64717      0"
      ]
     },
     "execution_count": 72,
     "metadata": {
      "tags": []
     },
     "output_type": "execute_result"
    }
   ],
   "source": [
    "hist = pd.DataFrame(history.history)\n",
    "hist['epoch'] = history.epoch\n",
    "hist.head()"
   ]
  },
  {
   "cell_type": "code",
   "execution_count": 73,
   "metadata": {
    "colab": {
     "base_uri": "https://localhost:8080/",
     "height": 351
    },
    "colab_type": "code",
    "executionInfo": {
     "elapsed": 24882,
     "status": "ok",
     "timestamp": 1576982222258,
     "user": {
      "displayName": "Dacon Service",
      "photoUrl": "",
      "userId": "00192245294648390361"
     },
     "user_tz": -540
    },
    "id": "8Gumir2AHdIg",
    "outputId": "b9c5af9f-4b76-4993-c487-35b01f8a08bc"
   },
   "outputs": [
    {
     "name": "stderr",
     "output_type": "stream",
     "text": [
      "/usr/local/lib/python3.6/dist-packages/pandas/plotting/_matplotlib/core.py:1085: UserWarning: Attempting to set identical left == right == 0.0 results in singular transformations; automatically expanding.\n",
      "  ax.set_xlim(left, right)\n"
     ]
    },
    {
     "data": {
      "text/plain": [
       "<matplotlib.axes._subplots.AxesSubplot at 0x7f137dbbd7f0>"
      ]
     },
     "execution_count": 73,
     "metadata": {
      "tags": []
     },
     "output_type": "execute_result"
    },
    {
     "data": {
      "image/png": "[encoded data removed]",
      "text/plain": [
       "<Figure size 432x288 with 1 Axes>"
      ]
     },
     "metadata": {
      "tags": []
     },
     "output_type": "display_data"
    }
   ],
   "source": [
    "hist.drop('mse', axis = 1).plot(kind = 'line', x = 'epoch')"
   ]
  },
  {
   "cell_type": "code",
   "execution_count": 0,
   "metadata": {
    "colab": {},
    "colab_type": "code",
    "id": "64n1eUmmHpeG"
   },
   "outputs": [],
   "source": [
    "test_data = packed_test_data\n",
    "predictions = model.predict(test_data)"
   ]
  },
  {
   "cell_type": "code",
   "execution_count": 75,
   "metadata": {
    "colab": {
     "base_uri": "https://localhost:8080/",
     "height": 34
    },
    "colab_type": "code",
    "executionInfo": {
     "elapsed": 29692,
     "status": "ok",
     "timestamp": 1576982227109,
     "user": {
      "displayName": "Dacon Service",
      "photoUrl": "",
      "userId": "00192245294648390361"
     },
     "user_tz": -540
    },
    "id": "I8AJGh-JJDX9",
    "outputId": "82889684-9631-410f-cad3-4e633d7f6206"
   },
   "outputs": [
    {
     "data": {
      "text/plain": [
       "(228170, 1)"
      ]
     },
     "execution_count": 75,
     "metadata": {
      "tags": []
     },
     "output_type": "execute_result"
    }
   ],
   "source": [
    "predictions.shape"
   ]
  },
  {
   "cell_type": "code",
   "execution_count": 0,
   "metadata": {
    "colab": {},
    "colab_type": "code",
    "id": "5c8-O1uitfMf"
   },
   "outputs": [],
   "source": [
    "submission = pd.read_csv(submission_path)"
   ]
  },
  {
   "cell_type": "code",
   "execution_count": 77,
   "metadata": {
    "colab": {
     "base_uri": "https://localhost:8080/",
     "height": 204
    },
    "colab_type": "code",
    "executionInfo": {
     "elapsed": 29665,
     "status": "ok",
     "timestamp": 1576982227113,
     "user": {
      "displayName": "Dacon Service",
      "photoUrl": "",
      "userId": "00192245294648390361"
     },
     "user_tz": -540
    },
    "id": "7LlULQWwKRC7",
    "outputId": "289880e8-8446-4d54-8911-22e4b8da8660"
   },
   "outputs": [
    {
     "data": {
      "text/html": [
       "<div>\n",
       "<style scoped>\n",
       "    .dataframe tbody tr th:only-of-type {\n",
       "        vertical-align: middle;\n",
       "    }\n",
       "\n",
       "    .dataframe tbody tr th {\n",
       "        vertical-align: top;\n",
       "    }\n",
       "\n",
       "    .dataframe thead th {\n",
       "        text-align: right;\n",
       "    }\n",
       "</style>\n",
       "<table border=\"1\" class=\"dataframe\">\n",
       "  <thead>\n",
       "    <tr style=\"text-align: right;\">\n",
       "      <th></th>\n",
       "      <th>id</th>\n",
       "      <th>18~20_ride</th>\n",
       "    </tr>\n",
       "  </thead>\n",
       "  <tbody>\n",
       "    <tr>\n",
       "      <th>0</th>\n",
       "      <td>415423</td>\n",
       "      <td>0.417005</td>\n",
       "    </tr>\n",
       "    <tr>\n",
       "      <th>1</th>\n",
       "      <td>415424</td>\n",
       "      <td>1.006335</td>\n",
       "    </tr>\n",
       "    <tr>\n",
       "      <th>2</th>\n",
       "      <td>415425</td>\n",
       "      <td>0.310545</td>\n",
       "    </tr>\n",
       "    <tr>\n",
       "      <th>3</th>\n",
       "      <td>415426</td>\n",
       "      <td>0.628893</td>\n",
       "    </tr>\n",
       "    <tr>\n",
       "      <th>4</th>\n",
       "      <td>415427</td>\n",
       "      <td>2.274790</td>\n",
       "    </tr>\n",
       "  </tbody>\n",
       "</table>\n",
       "</div>"
      ],
      "text/plain": [
       "       id  18~20_ride\n",
       "0  415423    0.417005\n",
       "1  415424    1.006335\n",
       "2  415425    0.310545\n",
       "3  415426    0.628893\n",
       "4  415427    2.274790"
      ]
     },
     "execution_count": 77,
     "metadata": {
      "tags": []
     },
     "output_type": "execute_result"
    }
   ],
   "source": [
    "submission['18~20_ride'] = predictions\n",
    "submission.head()"
   ]
  },
  {
   "cell_type": "code",
   "execution_count": 0,
   "metadata": {
    "colab": {},
    "colab_type": "code",
    "id": "YJxUpgjHirL9"
   },
   "outputs": [],
   "source": [
    "submission.to_csv('/content/submit.csv', index = False)"
   ]
  },
  {
   "cell_type": "code",
   "execution_count": 0,
   "metadata": {
    "colab": {},
    "colab_type": "code",
    "id": "cwWqagIXvYdc"
   },
   "outputs": [],
   "source": []
  }
 ],
 "metadata": {
  "accelerator": "GPU",
  "colab": {
   "collapsed_sections": [],
   "name": "국토도시_윈터스쿨(중급반).ipynb",
   "provenance": []
  },
  "kernelspec": {
   "display_name": "Python 3",
   "language": "python",
   "name": "python3"
  },
  "language_info": {
   "codemirror_mode": {
    "name": "ipython",
    "version": 3
   },
   "file_extension": ".py",
   "mimetype": "text/x-python",
   "name": "python",
   "nbconvert_exporter": "python",
   "pygments_lexer": "ipython3",
   "version": "3.7.4"
  }
 },
 "nbformat": 4,
 "nbformat_minor": 1
}
