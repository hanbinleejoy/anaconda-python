{
 "cells": [
  {
   "cell_type": "markdown",
   "metadata": {},
   "source": [
    "# 1. Machine Learning"
   ]
  },
  {
   "cell_type": "markdown",
   "metadata": {},
   "source": [
    "- Supervised Learning :지도 학습 -> knn, 선형회귀, 로지스틱 회귀, SVM, DT/RandomForest, Neural Network\n",
    "- Unsupervised Learning : 비지도학습 -> 군집(K-Means, 계층분석, 기대값최소), 차원축소(PCA,t-SNE), 기타 연관성\n",
    "- Reinforcement Learning : 강화학습"
   ]
  },
  {
   "cell_type": "markdown",
   "metadata": {},
   "source": [
    "- 지도 학습: 가격예측, 어떤 예측할 때\n",
    "- 비지도 학습: 군집, 주로 묶어줄때(정답이 없이 군집으로 나눔), 차원축소(정답이 없다.), 연관성 분석(basket 분석: 상품간에 관계성, 단어간의 관계성)"
   ]
  },
  {
   "cell_type": "markdown",
   "metadata": {},
   "source": [
    "## Supervised Learning\n",
    "    - 어떤 입력(특징)에 대해서 어떠한 결과(target, label)가 나와야 하는지에 대한 데이터셋을 가지고, 특정 입력에 대한 특정 출력이 나오게 하는 규칙을 찾는 것\n",
    "    - 입력과 출력으로 구성되는 학습데이터(training data)에 의해 입력으로부터 출력을 끌어내는 규칙(Rule)을 발견하는 것"
   ]
  },
  {
   "cell_type": "markdown",
   "metadata": {},
   "source": [
    "컬럼중에 특정한 컬럼(정답지, label)을 분리해서 생각, 이것을 train data와 같이 Predictive Model에 집어넣어 기계학습 시키면  \n",
    "새로운 데이터가 들어왔을 때 어떠한 결과값을 놓을 것인지 보는 것이다."
   ]
  },
  {
   "cell_type": "markdown",
   "metadata": {},
   "source": [
    "정답이 존재    \n",
    "#### regression 평가 방법\n",
    "- #### RMSE(Root Mean Squared Error)\n",
    "- MAPE(Mean Absolut Percentage Error)\n",
    "- MASE(Mean Absolute Squared Error)"
   ]
  },
  {
   "cell_type": "markdown",
   "metadata": {},
   "source": [
    "## Unsupervised Learning"
   ]
  },
  {
   "cell_type": "markdown",
   "metadata": {},
   "source": [
    "정답지가 없다.(**Label이 없다.**)  \n",
    "그래서 분류를 할 때 지도학습은 label 라인을 기준으로 나누기라도 할 수 있지만 비지도학습은 임의로 나눌수가 있다.  \n",
    "그래서 딱 맞아 떨어지지 않는 경우가 많다고 할 수 있다."
   ]
  },
  {
   "cell_type": "markdown",
   "metadata": {},
   "source": [
    "**차원축소**: 15개 변수중에서 내가 생각한 결과에 가장 영향을 많이 주는 변수로 축소하는 것"
   ]
  },
  {
   "cell_type": "markdown",
   "metadata": {},
   "source": [
    "특징 X.... / 결과 Y 순으로 data칼럼이 배치"
   ]
  },
  {
   "cell_type": "markdown",
   "metadata": {},
   "source": [
    "Train / Test로 분리 --> 여러가지 알고리즘을 통해 학습을 시킬 때 Train을 이용  \n",
    "test데이터는 모델결과를 테스트할 때 사용"
   ]
  },
  {
   "cell_type": "markdown",
   "metadata": {},
   "source": [
    "## scikit-learn 소개\n",
    "- machine learning 오픈 소스 라이브러리, 구글 썸머 코드에서 처음 구현\n",
    "- 다른 라이브러리와 호환성이 상당히 좋다. 내적으로는 통일된 인터페이스를 가지고 있어서 처리하는 과정에서 좀 힘들 수 있음"
   ]
  },
  {
   "cell_type": "markdown",
   "metadata": {},
   "source": [
    "# knn"
   ]
  },
  {
   "cell_type": "code",
   "execution_count": 5,
   "metadata": {
    "scrolled": true
   },
   "outputs": [],
   "source": [
    "# 계속 바뀔 수가 있다.\n",
    "from sklearn.datasets import fetch_mldata\n",
    "\n",
    "from sklearn.model_selection import train_test_split"
   ]
  },
  {
   "cell_type": "code",
   "execution_count": 6,
   "metadata": {
    "scrolled": false
   },
   "outputs": [
    {
     "data": {
      "text/plain": [
       "{'DESCR': 'mldata.org dataset: mnist-original',\n",
       " 'COL_NAMES': ['label', 'data'],\n",
       " 'target': array([0., 0., 0., ..., 9., 9., 9.]),\n",
       " 'data': array([[0, 0, 0, ..., 0, 0, 0],\n",
       "        [0, 0, 0, ..., 0, 0, 0],\n",
       "        [0, 0, 0, ..., 0, 0, 0],\n",
       "        ...,\n",
       "        [0, 0, 0, ..., 0, 0, 0],\n",
       "        [0, 0, 0, ..., 0, 0, 0],\n",
       "        [0, 0, 0, ..., 0, 0, 0]], dtype=uint8)}"
      ]
     },
     "execution_count": 6,
     "metadata": {},
     "output_type": "execute_result"
    }
   ],
   "source": [
    "mnist = fetch_mldata(\"MNIST original\")\n",
    "mnist\n",
    "# target이 목표, 결과값\n",
    "# data는 sample data : 필기체에 대해서 픽셀화시킨 것을 2차원 어레이로 표현했는데 -> 1차원 리스트로 표현\n",
    "# dtype=uint8 0 ~ 255까지 표현가능(진한 정도)"
   ]
  },
  {
   "cell_type": "code",
   "execution_count": null,
   "metadata": {},
   "outputs": [],
   "source": [
    "# test_size: 25%는 test로 나머지는 train 7:3 / 8:2\n",
    "# target과 data를 같이 넣어준다.\n",
    "# random_state: seed 번호 -> 이걸안해주면 돌릴때마다 결과값이 달라질 수 있다. (random으로 선택했을때 문제 없게하기 위해)\n",
    "(train_data, test_data, train_labels,test_labels)= train_test_split(np.array(mnist.data),mnist.target, test_size=0.25, random_state=1234)\n",
    "# 모의고사 문제지, 모의고사 정답지, 실전 문제지, 실전 정답지 4set로 나오게 된다.\n",
    "print(len(train_data))\n",
    "print(len(test_data))"
   ]
  }
 ],
 "metadata": {
  "kernelspec": {
   "display_name": "Python 3",
   "language": "python",
   "name": "python3"
  },
  "language_info": {
   "codemirror_mode": {
    "name": "ipython",
    "version": 3
   },
   "file_extension": ".py",
   "mimetype": "text/x-python",
   "name": "python",
   "nbconvert_exporter": "python",
   "pygments_lexer": "ipython3",
   "version": "3.7.4"
  }
 },
 "nbformat": 4,
 "nbformat_minor": 2
}
