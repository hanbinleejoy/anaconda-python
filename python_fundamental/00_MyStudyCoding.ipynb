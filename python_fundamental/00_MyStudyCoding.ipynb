{
 "cells": [
  {
   "cell_type": "markdown",
   "metadata": {},
   "source": [
    "# 개인 공부 공간"
   ]
  },
  {
   "cell_type": "markdown",
   "metadata": {},
   "source": [
    "### map()"
   ]
  },
  {
   "cell_type": "markdown",
   "metadata": {},
   "source": [
    "#### map() 함수는 built-in 함수로 list 나 dictionary 와 같은 iterable 한 데이터를 인자로 받아 list 안의 개별 item을 함수의 인자로 전달하여 결과를 반환해 주는 함수이다."
   ]
  },
  {
   "cell_type": "code",
   "execution_count": 16,
   "metadata": {},
   "outputs": [
    {
     "name": "stdout",
     "output_type": "stream",
     "text": [
      "1 2\n",
      "1 2\n"
     ]
    }
   ],
   "source": [
    "def func(x):\n",
    "    return x*2\n",
    "\n",
    "# map -> list로 형태변환\n",
    "list(map(func, [1, 2, 3, 4]))\n",
    "\n",
    "# 이런식으로 (변수a, 변수b) 마치 R의 벡터형식처럼 받을 수 있다.\n",
    "n, m = map(int, input().split())\n",
    "\n",
    "array = numpy.array([input().strip().split() for _ in range(n)], int)\n"
   ]
  },
  {
   "cell_type": "markdown",
   "metadata": {},
   "source": [
    "#### '_'  언더바 표시\n",
    "- 1. 인터프리터에서 마지막 값을 저장하고 싶을 때\n",
    "- 2. 값을 무시하고 싶을 때\n",
    "- 3. 변수나 함수명에 특별한 의미를 부여하고 싶을 때\n",
    "- 4. 숫자 리터럴 값의 자릿수 구분을 위한 구분자로써 사용할 때\n",
    "\n",
    "[링크참고하기](https://gomguard.tistory.com/125)"
   ]
  },
  {
   "cell_type": "code",
   "execution_count": 19,
   "metadata": {},
   "outputs": [
    {
     "name": "stdout",
     "output_type": "stream",
     "text": [
      "hello\n",
      "hello\n",
      "hello\n",
      "hello\n",
      "hello\n"
     ]
    }
   ],
   "source": [
    "# index가 필요없을 때 이런식으로도 표현 가능\n",
    "for _ in range(5):\n",
    "    print(\"hello\")"
   ]
  },
  {
   "cell_type": "code",
   "execution_count": 5,
   "metadata": {},
   "outputs": [
    {
     "name": "stdout",
     "output_type": "stream",
     "text": [
      "one\n",
      "two\n",
      "three\n",
      "one\n",
      "two\n",
      "three\n",
      "1\n",
      "2\n",
      "3\n"
     ]
    }
   ],
   "source": [
    "# dictionary는 for x in dictionary 이런식으로 바로 사용하면\n",
    "# 해당 index를 대상으로 x에 대입한다.\n",
    "\n",
    "dic = {\"one\":1,\"two\":2,\"three\":3}\n",
    "\n",
    "# key값을 대상\n",
    "for index in dic:\n",
    "    print(index)\n",
    "for key in dic.keys():\n",
    "    print(key)\n",
    "# value값을 대상\n",
    "for value in dic.values():\n",
    "    print(value)"
   ]
  },
  {
   "cell_type": "code",
   "execution_count": null,
   "metadata": {},
   "outputs": [],
   "source": []
  }
 ],
 "metadata": {
  "kernelspec": {
   "display_name": "Python 3",
   "language": "python",
   "name": "python3"
  },
  "language_info": {
   "codemirror_mode": {
    "name": "ipython",
    "version": 3
   },
   "file_extension": ".py",
   "mimetype": "text/x-python",
   "name": "python",
   "nbconvert_exporter": "python",
   "pygments_lexer": "ipython3",
   "version": "3.7.4"
  }
 },
 "nbformat": 4,
 "nbformat_minor": 2
}
