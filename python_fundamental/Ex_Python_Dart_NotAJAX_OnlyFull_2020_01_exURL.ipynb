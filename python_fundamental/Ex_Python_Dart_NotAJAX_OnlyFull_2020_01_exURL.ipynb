{
 "cells": [
  {
   "cell_type": "markdown",
   "metadata": {},
   "source": [
    "# Dart - Web Crawling!!!!"
   ]
  },
  {
   "cell_type": "markdown",
   "metadata": {},
   "source": [
    "* 숨겨져 있는 URL의 속성을 어떻게 찾을 수 있을까? 이것을 찾지 못한다면 크롤링을 하는데 상당히 불편한 일이 많거나, 안되는 경우가 상당히 많음!!!"
   ]
  },
  {
   "cell_type": "markdown",
   "metadata": {},
   "source": [
    "* 참고) Chrome HTTP Tracer 활용 참고 : http://blog.naver.com/PostView.nhn?blogId=yundongcheol&logNo=220606742182&categoryNo=72&parentCategoryNo=0&viewDate=&currentPage=1&postListTopCurrentPage=1&from=postView"
   ]
  },
  {
   "cell_type": "code",
   "execution_count": null,
   "metadata": {},
   "outputs": [],
   "source": [
    "# 아래의 Chrome HTTP Tracer 를 활용하면, 숨겨져 있는 페이지의 구성 요소 및 관련 내용을 정확히 확인할 수 있어서 구체적인  페이즈 URL을 찾고 이를 활용해서 파싱하는데 유용한다.\n",
    "img_path = u\"/Users/minkyukwon/PycharmProjects/MachineLearning_Course/06_WebCrawling_DART/chrome_HTTP_Tracer.png\"\n",
    "from IPython.display import Image\n",
    "Image(filename=img_path) "
   ]
  },
  {
   "cell_type": "code",
   "execution_count": 1,
   "metadata": {},
   "outputs": [],
   "source": [
    "from bs4 import BeautifulSoup as bs\n",
    "import requests\n",
    "import pandas as pd\n",
    "import re"
   ]
  },
  {
   "cell_type": "code",
   "execution_count": 2,
   "metadata": {},
   "outputs": [
    {
     "name": "stdout",
     "output_type": "stream",
     "text": [
      "http://dart.fss.or.kr/dsac001/mainAll.do?selectDate=2017.03.28&sort=&series=&mdayCnt=0&currentPage=\n"
     ]
    }
   ],
   "source": [
    "# 여기서 날짜만 yyyy.mm.dd 형식으로 지정!\n",
    "# 참고: mdayCnt=1 하면, 기준 날짜를 중심으로 back 한 날짜의 정보를 탐색한다. 즉, 위에서 mdayCnt=1하면, 2017년 3월 27일의 정보를 탐색하게 됨!!!!\n",
    "# 해당 날짜가 상당히 많은 rolling page 를 가지고 있어서 임!!!\n",
    "date = \"2017.03.28\"\n",
    "url_part1 = \"\"\"http://dart.fss.or.kr/dsac001/mainAll.do?selectDate=\"\"\"\n",
    "url_part2 = \"\"\"&sort=&series=&mdayCnt=0&currentPage=\"\"\"\n",
    "    \n",
    "url = url_part1 + date + url_part2\n",
    "print(url)"
   ]
  },
  {
   "cell_type": "code",
   "execution_count": 3,
   "metadata": {},
   "outputs": [],
   "source": [
    "# 일단 전체 페이지 가지고 와서 전체 데이터 확인용...\n",
    "res = requests.get(url)\n",
    "soup=bs(res.text, 'html.parser')"
   ]
  },
  {
   "cell_type": "code",
   "execution_count": 4,
   "metadata": {},
   "outputs": [
    {
     "name": "stdout",
     "output_type": "stream",
     "text": [
      "0\n",
      "<p id=\"accessibility\"><a href=\"#layoutMain\">본문 바로가기</a></p>\n",
      "~~~~~~~~~~~\n",
      "1\n",
      "<p class=\"utill\">\n",
      "<!-- <ul class=\"topLink\"> -->\n",
      "<a href=\"/dsag002/loginForm.do\"><img alt=\"로그인\" src=\"/images/common/utill_login.gif\" title=\"로그인\"/></a>\n",
      "<a href=\"/dsag003/main.do\"><img alt=\"마이페이지\" src=\"/images/common/utill_mypage.gif\" title=\"마이페이지\"/></a>\n",
      "<a href=\"/dsaa003/searchGuide.do\"><img alt=\"공시업무\" src=\"/images/common/utill_gongsi.gif\" title=\"공시업무\"/></a>\n",
      "<a href=\"/introduction/content1.do\"><img alt=\"다트소개\" src=\"/images/common/utill_intro.gif\" title=\"다트소개\"/></a>\n",
      "<a href=\"/dsap001/intro.do\"><img alt=\"오픈API\" src=\"/images/common/utill_openapi.gif\" title=\"오픈API\"/></a>\n",
      "<a href=\"/introduction/content6.do\"><img alt=\"RSS이용안내\" src=\"/images/common/utill_rss.gif\" title=\"RSS이용안내\"/></a>\n",
      "<a class=\"end\" href=\"/sitemap.do\"><img alt=\"사이트맵\" src=\"/images/common/utill_sitemap.gif\" title=\"사이트맵\"/></a>\n",
      "</p>\n",
      "~~~~~~~~~~~\n",
      "2\n",
      "<p class=\"tit\"><img alt=\"최근공시\" src=\"/images/common/lnb_recent_disclosure.jpg\" title=\"최근공시\"/></p>\n",
      "~~~~~~~~~~~\n",
      "3\n",
      "<p>\n",
      "<input name=\"keyword\" onkeyup=\"searchPressEnterLeftKeyword(this);\" title=\"통합검색입력\" type=\"text\"/><input alt=\"통합검색\" class=\"ibtn\" onclick=\"clickSearch();\" src=\"/images/btn/lnb_search.gif\" style=\"cursor:pointer;vertical-align: top;\" title=\"통합검색\" type=\"image\"/>\n",
      "</p>\n",
      "~~~~~~~~~~~\n",
      "4\n",
      "<p class=\"loc\"><img alt=\"홈\" src=\"/images/common/ico_home.gif\"/> &gt;\r\n",
      "\t\r\n",
      "\t<span>  최근공시\r\n",
      "\t\t\t\r\n",
      "\t\t\r\n",
      "\t\t\t\r\n",
      "\t\t\t&gt;  전체</span>\n",
      "</p>\n",
      "~~~~~~~~~~~\n",
      "5\n",
      "<p class=\"help\">\n",
      "<a href=\"\" onclick=\"scrapFeed('today'); return false;\"><img alt=\"rss주소복사\" id=\"rss\" src=\"/images/button/btn_rss.gif\" style=\"visibility:hidden\"/></a>\n",
      "<a href=\"#help\" onclick=\"openHelp(110); return false;\"><img alt=\"도움말 새창\" id=\"help\" src=\"/images/common/help.gif\"/></a>\n",
      "</p>\n",
      "~~~~~~~~~~~\n",
      "6\n",
      "<p class=\"date_choice\">\n",
      "<a class=\"date_select\" href=\"#date\" onclick=\"changeMdayCnt(this, '0'); return false;\" style=\"cursor:pointer\" title=\"03월 28일\">\r\n",
      "\t\t\t\t\t\t\t\t03월 28일\r\n",
      "\t\t\t\t\t\t\t</a>\n",
      "<a href=\"#date\" onclick=\"changeMdayCnt(this, '1'); return false;\" style=\"cursor:pointer\" title=\"03월 27일\">\r\n",
      "\t\t\t\t\t\t\t\t03월 27일\r\n",
      "\t\t\t\t\t\t\t</a>\n",
      "<a href=\"#date\" onclick=\"changeMdayCnt(this, '4'); return false;\" style=\"cursor:pointer\" title=\"03월 24일\">\r\n",
      "\t\t\t\t\t\t\t\t03월 24일\r\n",
      "\t\t\t\t\t\t\t</a>\n",
      "<a href=\"#date\" onclick=\"changeMdayCnt(this, '5'); return false;\" style=\"cursor:pointer\" title=\"03월 23일\">\r\n",
      "\t\t\t\t\t\t\t\t03월 23일\r\n",
      "\t\t\t\t\t\t\t</a>\n",
      "<a href=\"#date\" onclick=\"changeMdayCnt(this, '6'); return false;\" style=\"cursor:pointer\" title=\"03월 22일\">\r\n",
      "\t\t\t\t\t\t\t\t03월 22일\r\n",
      "\t\t\t\t\t\t\t</a>\n",
      "<a class=\"selectDate\" href=\"#calDate\" id=\"calDate\" onclick=\"selectDate2(); return false;\" style=\"cursor:pointer\" title=\"날짜선택\">날짜선택</a>\n",
      "</p>\n",
      "~~~~~~~~~~~\n",
      "7\n",
      "<p class=\"table_tit\">\n",
      "<b>\r\n",
      "\t\t\r\n",
      "\t\t\r\n",
      "\t\t\r\n",
      "\t\t\r\n",
      "        \r\n",
      "        \r\n",
      "\t\t전체\r\n",
      "\t\t  894건\r\n",
      "\t\t\r\n",
      "\t\t\t\r\n",
      "\t\t\t\t\r\n",
      "\t\t\t\t\t\r\n",
      "\t\t\t\t\t(2017년 03월 28일)\r\n",
      "\t\t\t\t\r\n",
      "\t\t\t\r\n",
      "\t\t\t\t\r\n",
      "\t\t\t\r\n",
      "\t\t\t\t\r\n",
      "\t\t\t\r\n",
      "\t\t\t\t\r\n",
      "\t\t\t\r\n",
      "\t\t\t\t\r\n",
      "\t\t\t\r\n",
      "\t\t\r\n",
      "\t</b></p>\n",
      "~~~~~~~~~~~\n",
      "8\n",
      "<p class=\"page_info\">\r\n",
      "\t\t[1/9] [총 894건]\r\n",
      "\t</p>\n",
      "~~~~~~~~~~~\n",
      "9\n",
      "<p class=\"des\">\r\n",
      "\t상기 <span>보고서명</span> 앞의 대괄호([]) 및 <span>비고</span>란의 약어(예:<img alt=\"정정신고\" src=\"/images/common/ico_correct_report.gif\" style=\"vertical-align:middle; padding-bottom:2px; \" title=\"본 보고서 제출 후 정정신고가 있으니 관련 보고서를 참조하시기 바람\"/>)에 마우스를 위치하면 설명이 나타나니 참고하시기 바랍니다.\r\n",
      "</p>\n",
      "~~~~~~~~~~~\n",
      "10\n",
      "<p class=\"qr_code\"><a href=\"/info/main.do\" target=\"_blank\"><img alt=\"기업공시 길라잡이\" src=\"/images/common/dart_info.png\"/></a></p>\n",
      "~~~~~~~~~~~\n",
      "11\n",
      "<p class=\"qr_code\"><a href=\"#help\" onclick=\"openHelp(); return false;\"><img alt=\"이용자가이드\" src=\"/images/common/guide.gif\"/></a></p>\n",
      "~~~~~~~~~~~\n",
      "12\n",
      "<p class=\"qr_code\"><img alt=\"모바일전자공시 QR코드 (http://mdart.fss.or.kr 모바일 사이트로 이동)\" src=\"/images/common/qr.gif\"/></p>\n",
      "~~~~~~~~~~~\n",
      "13\n",
      "<p class=\"f_logo\" style=\"margin-left:80px;\"><img alt=\"금융감독원\" src=\"/images/common/f_logo.gif\" title=\"금융감독원\"/></p>\n",
      "~~~~~~~~~~~\n",
      "14\n",
      "<p><img alt=\"서울특별시 영등포구 여의대로 38 대표전화 : 02)3145-5114 Copyright ⓒ FINANCIAL SUPERVISORY SERVICE All Rights Reserved.\" src=\"/images/common/f_addr.gif\" title=\"서울특별시 영등포구 여의대로 38\n",
      "대표전화 : 02)3145-5114\n",
      "Copyright ⓒ FINANCIAL SUPERVISORY SERVICE All Rights Reserved.\"/></p>\n",
      "~~~~~~~~~~~\n",
      "15\n",
      "<p><img alt=\"홈페이지 이용문의 : (국번없이)1332 (5번-&gt;1번-&gt;1번) 기업공시 제도문의 : (국번없이)1332 (5번-&gt;1번-&gt;2,3,4,5번)\" src=\"/images/common/f_tel1.gif\" title=\"홈페이지 이용문의 :\n",
      "(국번없이)1332 (5번-&gt;1번-&gt;1번)\n",
      "기업공시 제도문의 :\n",
      "(국번없이)1332 (5번-&gt;1번-&gt;2,3,4,5번)\"/></p>\n",
      "~~~~~~~~~~~\n",
      "16\n",
      "<p style=\"margin-top:12px;\"><img alt=\"ISO 20000 인증\" src=\"/images/common/ISOIEC_20000-1_with_UKAS.jpg\" title=\"ISO 20000 인증\"/></p>\n",
      "~~~~~~~~~~~\n"
     ]
    }
   ],
   "source": [
    "for i in range(0, len(soup.find_all(\"p\"))):\n",
    "    print(i)\n",
    "    print(soup.find_all(\"p\")[i])\n",
    "    print(\"~~~~~~~~~~~\")"
   ]
  },
  {
   "cell_type": "code",
   "execution_count": 5,
   "metadata": {
    "scrolled": false
   },
   "outputs": [
    {
     "name": "stdout",
     "output_type": "stream",
     "text": [
      "<p class=\"page_info\">\r\n",
      "\t\t[1/9] [총 894건]\r\n",
      "\t</p>\n"
     ]
    }
   ],
   "source": [
    "print(soup.find_all(\"p\")[8])"
   ]
  },
  {
   "cell_type": "code",
   "execution_count": 7,
   "metadata": {},
   "outputs": [
    {
     "data": {
      "text/plain": [
       "'\\r\\n\\t\\t[1/9] [총 894건]\\r\\n\\t'"
      ]
     },
     "execution_count": 7,
     "metadata": {},
     "output_type": "execute_result"
    }
   ],
   "source": [
    "totNum = soup.find_all(\"p\")[8].text\n",
    "totNum"
   ]
  },
  {
   "cell_type": "code",
   "execution_count": 8,
   "metadata": {},
   "outputs": [
    {
     "data": {
      "text/plain": [
       "'\\r\\n\\t\\t총 894건]\\r\\n\\t'"
      ]
     },
     "execution_count": 8,
     "metadata": {},
     "output_type": "execute_result"
    }
   ],
   "source": [
    "totNum = re.sub(\"\\\\[.*\\\\] \\\\[\",\"\",totNum)\n",
    "totNum"
   ]
  },
  {
   "cell_type": "code",
   "execution_count": 9,
   "metadata": {},
   "outputs": [
    {
     "data": {
      "text/plain": [
       "'\\r\\n\\t\\t 894건]\\r\\n\\t'"
      ]
     },
     "execution_count": 9,
     "metadata": {},
     "output_type": "execute_result"
    }
   ],
   "source": [
    "# 총 문자 유니코드로 빼기\n",
    "totNum = re.sub(u\"\\ucd1d\",\"\",totNum)\n",
    "totNum"
   ]
  },
  {
   "cell_type": "code",
   "execution_count": 10,
   "metadata": {},
   "outputs": [
    {
     "data": {
      "text/plain": [
       "'\\r\\n\\t\\t 894]\\r\\n\\t'"
      ]
     },
     "execution_count": 10,
     "metadata": {},
     "output_type": "execute_result"
    }
   ],
   "source": [
    "# 건 문자 유니코드로 빼기\n",
    "totNum = re.sub(u\"\\uac74\",\"\",totNum)\n",
    "totNum"
   ]
  },
  {
   "cell_type": "code",
   "execution_count": 11,
   "metadata": {},
   "outputs": [
    {
     "data": {
      "text/plain": [
       "'\\r\\n\\t\\t 894\\r\\n\\t'"
      ]
     },
     "execution_count": 11,
     "metadata": {},
     "output_type": "execute_result"
    }
   ],
   "source": [
    "totNum = re.sub(\"\\\\]\",\"\",totNum)\n",
    "totNum"
   ]
  },
  {
   "cell_type": "code",
   "execution_count": 12,
   "metadata": {},
   "outputs": [
    {
     "data": {
      "text/plain": [
       "'894'"
      ]
     },
     "execution_count": 12,
     "metadata": {},
     "output_type": "execute_result"
    }
   ],
   "source": [
    "totNum = totNum.strip()\n",
    "totNum"
   ]
  },
  {
   "cell_type": "code",
   "execution_count": 13,
   "metadata": {},
   "outputs": [
    {
     "data": {
      "text/plain": [
       "894"
      ]
     },
     "execution_count": 13,
     "metadata": {},
     "output_type": "execute_result"
    }
   ],
   "source": [
    "totNum = int(totNum)\n",
    "totNum"
   ]
  },
  {
   "cell_type": "code",
   "execution_count": 14,
   "metadata": {},
   "outputs": [
    {
     "data": {
      "text/plain": [
       "9"
      ]
     },
     "execution_count": 14,
     "metadata": {},
     "output_type": "execute_result"
    }
   ],
   "source": [
    "totNum = int(totNum)\n",
    "totPage = int((totNum/100) + 1)\n",
    "totPage"
   ]
  },
  {
   "cell_type": "code",
   "execution_count": 60,
   "metadata": {},
   "outputs": [
    {
     "data": {
      "text/plain": [
       "101"
      ]
     },
     "execution_count": 60,
     "metadata": {},
     "output_type": "execute_result"
    }
   ],
   "source": [
    "len(soup.find_all(\"tr\"))"
   ]
  },
  {
   "cell_type": "code",
   "execution_count": 62,
   "metadata": {},
   "outputs": [
    {
     "data": {
      "text/plain": [
       "<tr>\n",
       "<td class=\"cen_txt\">\n",
       "\t\t\t\t\t\t18:58\n",
       "\t\t\t\t\t</td>\n",
       "<td>\n",
       "<span class=\"nobr1\" style=\"max-width:150px;\">\n",
       "<img alt=\"코넥스시장\" src=\"/images/ico_konex.gif\" title=\"코넥스시장\"/> \n",
       "\t\t\t\t\t\t\t<a href=\"/dsae001/selectPopup.ax?selectKey=01109690\" onclick=\"openCorpInfo('01109690'); return false;\" title=\"포레스팅블록체인 기업개황 새창\">\n",
       "\t\t\t\t\t\t\t\t포레스팅블록체인\n",
       "\t\t\t\t\t\t\t</a>\n",
       "</span>\n",
       "</td>\n",
       "<td>\n",
       "<a href=\"/dsaf001/main.do?rcpNo=20170328601049\" id=\"r_20170328601049\" onclick=\"openReportViewer('20170328601049'); return false;\" title=\"감사보고서제출 공시뷰어 새창\">감사보고서제출\n",
       "\t\t\t\t\t\t\t\n",
       "  \t\t\t\t\t\t\t\n",
       "\t\t\t\t\t\t</a>\n",
       "</td>\n",
       "<td title=\"포레스팅블록체인\"><div class=\"nobr\" style=\"width:95px\">포레스팅블록체인</div></td>\n",
       "<td class=\"cen_txt\">2017.03.28</td>\n",
       "<td class=\"cen_txt end\"> <img alt=\"본 문서는 한국거래소 코넥스시장 소관임\" hspace=\"1\" src=\"/images/sub/remark09.gif\" title=\"본 문서는 한국거래소 코넥스시장 소관임\"/> <img alt=\"본 보고서 제출 후 정정신고가 있으니 관련 보고서를 참조하시기 바람\" hspace=\"1\" src=\"/images/sub/remark01.gif\" title=\"본 보고서 제출 후 정정신고가 있으니 관련 보고서를 참조하시기 바람\"/></td>\n",
       "</tr>"
      ]
     },
     "execution_count": 62,
     "metadata": {},
     "output_type": "execute_result"
    }
   ],
   "source": [
    "soup.find_all(\"tr\")[1]"
   ]
  },
  {
   "cell_type": "code",
   "execution_count": 64,
   "metadata": {},
   "outputs": [
    {
     "data": {
      "text/plain": [
       "'18:46'"
      ]
     },
     "execution_count": 64,
     "metadata": {},
     "output_type": "execute_result"
    }
   ],
   "source": [
    "# 시간 찾기\n",
    "soup.find_all(\"tr\")[2].find(\"td\").text.strip()"
   ]
  },
  {
   "cell_type": "code",
   "execution_count": 67,
   "metadata": {},
   "outputs": [
    {
     "data": {
      "text/plain": [
       "[<td class=\"cen_txt\">\n",
       " \t\t\t\t\t\t18:46\n",
       " \t\t\t\t\t</td>,\n",
       " <td class=\"cen_txt\">2017.03.28</td>,\n",
       " <td class=\"cen_txt end\"> <img alt=\"본 공시사항은 한국거래소 코스닥시장본부 소관임\" hspace=\"1\" src=\"/images/sub/remark05.gif\" title=\"본 공시사항은 한국거래소 코스닥시장본부 소관임\"/></td>]"
      ]
     },
     "execution_count": 67,
     "metadata": {},
     "output_type": "execute_result"
    }
   ],
   "source": [
    "# class 이름 뽑아오기\n",
    "# td인데 class이름이 cen_txt인 td를 뽑아내겠다.\n",
    "soup.find_all(\"tr\")[2].find_all(\"td\", class_=\"cen_txt\")"
   ]
  },
  {
   "cell_type": "code",
   "execution_count": 70,
   "metadata": {},
   "outputs": [
    {
     "data": {
      "text/plain": [
       "'쏠리드'"
      ]
     },
     "execution_count": 70,
     "metadata": {},
     "output_type": "execute_result"
    }
   ],
   "source": [
    "# 회사이름 찾기\n",
    "soup.find_all(\"tr\")[2].find(\"a\").text.strip()"
   ]
  },
  {
   "cell_type": "code",
   "execution_count": 75,
   "metadata": {},
   "outputs": [
    {
     "data": {
      "text/plain": [
       "'코스닥시장'"
      ]
     },
     "execution_count": 75,
     "metadata": {},
     "output_type": "execute_result"
    }
   ],
   "source": [
    "# 소속 시장 찾기 (속성값 가져오기 title)\n",
    "soup.find_all(\"tr\")[2].find_all(\"td\")[1].find(\"img\").get(\"title\")"
   ]
  },
  {
   "cell_type": "code",
   "execution_count": 81,
   "metadata": {},
   "outputs": [],
   "source": [
    "# 고유값(키) 가져오기\n",
    "temp = soup.find_all(\"tr\")[2].find(\"a\").get(\"href\")"
   ]
  },
  {
   "cell_type": "code",
   "execution_count": 80,
   "metadata": {
    "scrolled": true
   },
   "outputs": [
    {
     "data": {
      "text/plain": [
       "'00364403'"
      ]
     },
     "execution_count": 80,
     "metadata": {},
     "output_type": "execute_result"
    }
   ],
   "source": [
    "re.sub(\"\\\\/dsae001\\\\/selectPopup.ax\\\\?selectKey=\",\"\",temp)"
   ]
  },
  {
   "cell_type": "code",
   "execution_count": 85,
   "metadata": {},
   "outputs": [
    {
     "data": {
      "text/plain": [
       "['00364403']"
      ]
     },
     "execution_count": 85,
     "metadata": {},
     "output_type": "execute_result"
    }
   ],
   "source": [
    "re.findall(r\"[0-9]{8}\", temp)"
   ]
  },
  {
   "cell_type": "markdown",
   "metadata": {},
   "source": [
    "#### 2번째 회사 쏠리드에 대한 정보를 추출하시오\n",
    "- 공시시간\n",
    "- 공시 회사 이름\n",
    "- 회사가 속한 시장 종류 : 코스닥/유가증권/코넥스..\n",
    "- 회사 id값\n",
    "- 공시 이름\n",
    "- 해당 공시의 고유값\n",
    "- 제출일"
   ]
  },
  {
   "cell_type": "code",
   "execution_count": 228,
   "metadata": {},
   "outputs": [
    {
     "name": "stdout",
     "output_type": "stream",
     "text": [
      "None\n",
      "None\n",
      "r_20170328900966\n"
     ]
    }
   ],
   "source": [
    "# 공시 시간\n",
    "print(soup.find_all(\"tr\")[2].find_all(\"td\", class_=\"cen_txt\")[0].text.strip())\n",
    "# 공시 회사 이름\n",
    "print(soup.find_all(\"tr\")[2].find(\"a\").text.strip())\n",
    "# 회사가 속한 시장\n",
    "print(soup.find_all(\"tr\")[2].find(\"img\").get(\"title\"))\n",
    "# 회사 id값\n",
    "temp = soup.find_all(\"tr\")[1].find(\"a\").get(\"href\")\n",
    "temp = re.findall(r\"[0-9]{8}\", temp)\n",
    "print(temp[0])\n",
    "\n",
    "# 공시 이름\n",
    "print(soup.find_all(\"tr\")[2].find_all(\"a\")[1].get(\"title\").split()[0])\n",
    "\n",
    "# 해당 공시의 고유값\n",
    "print(re.sub(\"r_\",\"\",soup.find_all(\"tr\")[2].find_all(\"a\")[1].get(\"id\").split()[0]))\n",
    "# 제출일\n",
    "print(soup.find_all(\"tr\")[2].find_all(\"td\",class_=\"cen_txt\")[1].text)\n",
    "soup.find_all(\"tr\")[34].find_all(\"a\", id=\"r_20170328900966\")\n",
    "soup.find_all(\"tr\")[34].find_all(\"a\")[1].get(\"id\")\n",
    "\n"
   ]
  },
  {
   "cell_type": "code",
   "execution_count": 241,
   "metadata": {},
   "outputs": [
    {
     "name": "stdout",
     "output_type": "stream",
     "text": [
      "True\n"
     ]
    }
   ],
   "source": [
    "for a in soup.find_all(\"tr\")[1].find_all(\"a\"):\n",
    "    if (a.get(\"id\") != None):\n",
    "        print(\"True\")\n",
    "\n"
   ]
  },
  {
   "cell_type": "code",
   "execution_count": 234,
   "metadata": {},
   "outputs": [
    {
     "data": {
      "text/plain": [
       "True"
      ]
     },
     "execution_count": 234,
     "metadata": {},
     "output_type": "execute_result"
    }
   ],
   "source": [
    "\"r_\" in soup.find_all(\"tr\")[34].find_all(\"a\")[2].get(\"id\")"
   ]
  },
  {
   "cell_type": "code",
   "execution_count": 19,
   "metadata": {
    "scrolled": true
   },
   "outputs": [
    {
     "data": {
      "text/html": [
       "<div>\n",
       "<style scoped>\n",
       "    .dataframe tbody tr th:only-of-type {\n",
       "        vertical-align: middle;\n",
       "    }\n",
       "\n",
       "    .dataframe tbody tr th {\n",
       "        vertical-align: top;\n",
       "    }\n",
       "\n",
       "    .dataframe thead th {\n",
       "        text-align: right;\n",
       "    }\n",
       "</style>\n",
       "<table border=\"1\" class=\"dataframe\">\n",
       "  <thead>\n",
       "    <tr style=\"text-align: right;\">\n",
       "      <th></th>\n",
       "      <th>coID</th>\n",
       "      <th>coName</th>\n",
       "      <th>market</th>\n",
       "      <th>pubDate</th>\n",
       "      <th>pubTime</th>\n",
       "      <th>rcpNo</th>\n",
       "      <th>title</th>\n",
       "    </tr>\n",
       "  </thead>\n",
       "  <tbody>\n",
       "    <tr>\n",
       "      <td>0</td>\n",
       "      <td>01109690</td>\n",
       "      <td>포레스팅블록체인</td>\n",
       "      <td>코넥스시장</td>\n",
       "      <td>2017.03.28</td>\n",
       "      <td>18:58</td>\n",
       "      <td>20170328601049</td>\n",
       "      <td>감사보고서제출</td>\n",
       "    </tr>\n",
       "    <tr>\n",
       "      <td>1</td>\n",
       "      <td>00364403</td>\n",
       "      <td>쏠리드</td>\n",
       "      <td>코스닥시장</td>\n",
       "      <td>2017.03.28</td>\n",
       "      <td>18:46</td>\n",
       "      <td>20170328901048</td>\n",
       "      <td>불성실공시법인지정예고(공시불이행)</td>\n",
       "    </tr>\n",
       "    <tr>\n",
       "      <td>2</td>\n",
       "      <td>00308559</td>\n",
       "      <td>코디</td>\n",
       "      <td>코스닥시장</td>\n",
       "      <td>2017.03.28</td>\n",
       "      <td>18:35</td>\n",
       "      <td>20170328901037</td>\n",
       "      <td>주권매매거래정지(불성실공시법인</td>\n",
       "    </tr>\n",
       "    <tr>\n",
       "      <td>3</td>\n",
       "      <td>00308559</td>\n",
       "      <td>코디</td>\n",
       "      <td>코스닥시장</td>\n",
       "      <td>2017.03.28</td>\n",
       "      <td>18:35</td>\n",
       "      <td>20170328901047</td>\n",
       "      <td>불성실공시법인지정(공시불이행)</td>\n",
       "    </tr>\n",
       "    <tr>\n",
       "      <td>4</td>\n",
       "      <td>00207223</td>\n",
       "      <td>위너지스</td>\n",
       "      <td>기타법인</td>\n",
       "      <td>2017.03.28</td>\n",
       "      <td>18:29</td>\n",
       "      <td>20170328901039</td>\n",
       "      <td>주권매매거래정지(불성실공시법인</td>\n",
       "    </tr>\n",
       "    <tr>\n",
       "      <td>...</td>\n",
       "      <td>...</td>\n",
       "      <td>...</td>\n",
       "      <td>...</td>\n",
       "      <td>...</td>\n",
       "      <td>...</td>\n",
       "      <td>...</td>\n",
       "      <td>...</td>\n",
       "    </tr>\n",
       "    <tr>\n",
       "      <td>889</td>\n",
       "      <td>00178806</td>\n",
       "      <td>바이더웨이</td>\n",
       "      <td>기타법인</td>\n",
       "      <td>2017.03.28</td>\n",
       "      <td>07:00</td>\n",
       "      <td>20170327000959</td>\n",
       "      <td>임원의변동</td>\n",
       "    </tr>\n",
       "    <tr>\n",
       "      <td>890</td>\n",
       "      <td>01083000</td>\n",
       "      <td>케이엔에프인터내셔날</td>\n",
       "      <td>기타법인</td>\n",
       "      <td>2017.03.28</td>\n",
       "      <td>07:00</td>\n",
       "      <td>20170327000967</td>\n",
       "      <td>감사보고서</td>\n",
       "    </tr>\n",
       "    <tr>\n",
       "      <td>891</td>\n",
       "      <td>01078868</td>\n",
       "      <td>케이피엑스글로벌</td>\n",
       "      <td>기타법인</td>\n",
       "      <td>2017.03.28</td>\n",
       "      <td>07:00</td>\n",
       "      <td>20170327000958</td>\n",
       "      <td>감사보고서</td>\n",
       "    </tr>\n",
       "    <tr>\n",
       "      <td>892</td>\n",
       "      <td>00186513</td>\n",
       "      <td>코리아세븐</td>\n",
       "      <td>기타법인</td>\n",
       "      <td>2017.03.28</td>\n",
       "      <td>07:00</td>\n",
       "      <td>20170327000962</td>\n",
       "      <td>동일인등출자계열회사와의상품ㆍ용역거래</td>\n",
       "    </tr>\n",
       "    <tr>\n",
       "      <td>893</td>\n",
       "      <td>00862826</td>\n",
       "      <td>코릴</td>\n",
       "      <td>기타법인</td>\n",
       "      <td>2017.03.28</td>\n",
       "      <td>07:00</td>\n",
       "      <td>20170327000968</td>\n",
       "      <td>감사보고서</td>\n",
       "    </tr>\n",
       "  </tbody>\n",
       "</table>\n",
       "<p>894 rows × 7 columns</p>\n",
       "</div>"
      ],
      "text/plain": [
       "         coID      coName market     pubDate pubTime           rcpNo  \\\n",
       "0    01109690    포레스팅블록체인  코넥스시장  2017.03.28   18:58  20170328601049   \n",
       "1    00364403         쏠리드  코스닥시장  2017.03.28   18:46  20170328901048   \n",
       "2    00308559          코디  코스닥시장  2017.03.28   18:35  20170328901037   \n",
       "3    00308559          코디  코스닥시장  2017.03.28   18:35  20170328901047   \n",
       "4    00207223        위너지스   기타법인  2017.03.28   18:29  20170328901039   \n",
       "..        ...         ...    ...         ...     ...             ...   \n",
       "889  00178806       바이더웨이   기타법인  2017.03.28   07:00  20170327000959   \n",
       "890  01083000  케이엔에프인터내셔날   기타법인  2017.03.28   07:00  20170327000967   \n",
       "891  01078868    케이피엑스글로벌   기타법인  2017.03.28   07:00  20170327000958   \n",
       "892  00186513       코리아세븐   기타법인  2017.03.28   07:00  20170327000962   \n",
       "893  00862826          코릴   기타법인  2017.03.28   07:00  20170327000968   \n",
       "\n",
       "                   title  \n",
       "0                감사보고서제출  \n",
       "1     불성실공시법인지정예고(공시불이행)  \n",
       "2       주권매매거래정지(불성실공시법인  \n",
       "3       불성실공시법인지정(공시불이행)  \n",
       "4       주권매매거래정지(불성실공시법인  \n",
       "..                   ...  \n",
       "889                임원의변동  \n",
       "890                감사보고서  \n",
       "891                감사보고서  \n",
       "892  동일인등출자계열회사와의상품ㆍ용역거래  \n",
       "893                감사보고서  \n",
       "\n",
       "[894 rows x 7 columns]"
      ]
     },
     "execution_count": 19,
     "metadata": {},
     "output_type": "execute_result"
    }
   ],
   "source": [
    "date = \"2017.03.28\"\n",
    "url_part1 = \"\"\"http://dart.fss.or.kr/dsac001/mainAll.do?selectDate=\"\"\"\n",
    "url_part2 = \"\"\"&sort=&series=&mdayCnt=0&currentPage=\"\"\"\n",
    "    \n",
    "url = url_part1 + date + url_part2\n",
    "\n",
    "df_dart = pd.DataFrame()\n",
    "#df_dart_temp = pd.DataFrame([], columns=[\"pubTime\",\"coName\",\"market\",\"coID\",\"title\",\"pubDate\",\"rcpNo\"])\n",
    "df_dart_temp = pd.DataFrame()\n",
    "df_dart_temp = df_dart_temp.append({\"pubTime\" : \"\",\"coName\" : \"\",\"market\" : \"\",\"coID\" : \"\",\"title\" : \"\",\"pubDate\" : \"\",\"rcpNo\" : \"\"}, ignore_index=True)\n",
    "\n",
    "url = url_part1 + date + url_part2\n",
    "\n",
    "for i in range(totPage):\n",
    "    if i == totPage - 1:\n",
    "        countNum = totNum - (totPage-1)*100\n",
    "    else:\n",
    "        countNum = 100\n",
    "    \n",
    "    # 해당 페이지 불러오기\n",
    "    url_page = url + str(i+1)\n",
    "    res = requests.get(url_page)\n",
    "    soup=bs(res.text, 'html.parser')\n",
    "    \n",
    "    for j in range(countNum):\n",
    "        df_dart_temp.iat[0, df_dart_temp.columns.get_loc(\"pubTime\")] = soup.find_all(\"tr\")[j+1].find_all(\"td\", class_=\"cen_txt\")[0].text.strip()\n",
    "        df_dart_temp.iat[0, df_dart_temp.columns.get_loc(\"coName\")] = soup.find_all(\"tr\")[j+1].find(\"a\").text.strip()\n",
    "        df_dart_temp.iat[0, df_dart_temp.columns.get_loc(\"market\")] = soup.find_all(\"tr\")[j+1].find(\"img\").get(\"title\")\n",
    "        \n",
    "        temp_coNum = soup.find_all(\"tr\")[j+1].find(\"a\").get(\"href\")\n",
    "        temp_coNum = re.findall(r\"[0-9]{8}\", temp_coNum)\n",
    "        df_dart_temp.iat[0, df_dart_temp.columns.get_loc(\"coID\")] = temp_coNum[0]\n",
    "        \n",
    "        for tagA in soup.find_all(\"tr\")[j+1].find_all(\"a\"):\n",
    "            if tagA.get(\"id\") != None:\n",
    "                temp_rcpNo = tagA.get(\"id\")\n",
    "                \n",
    "        df_dart_temp.iat[0, df_dart_temp.columns.get_loc(\"title\")] = soup.find_all(\"tr\")[j+1].find_all(\"a\",id=temp_rcpNo)[0].get(\"title\").split()[0]\n",
    "        df_dart_temp.iat[0, df_dart_temp.columns.get_loc(\"pubDate\")] = soup.find_all(\"tr\")[j+1].find_all(\"td\",class_=\"cen_txt\")[1].text\n",
    "        df_dart_temp.iat[0, df_dart_temp.columns.get_loc(\"rcpNo\")] = re.sub(\"r_\",\"\",temp_rcpNo)\n",
    "        \n",
    "        df_dart = df_dart.append(df_dart_temp, ignore_index=True) \n",
    "        df_dart_temp.iloc[0] = \"\"\n",
    "\n",
    "\n",
    "df_dart"
   ]
  }
 ],
 "metadata": {
  "kernelspec": {
   "display_name": "Python 3",
   "language": "python",
   "name": "python3"
  },
  "language_info": {
   "codemirror_mode": {
    "name": "ipython",
    "version": 3
   },
   "file_extension": ".py",
   "mimetype": "text/x-python",
   "name": "python",
   "nbconvert_exporter": "python",
   "pygments_lexer": "ipython3",
   "version": "3.7.4"
  },
  "toc": {
   "base_numbering": 1,
   "nav_menu": {},
   "number_sections": true,
   "sideBar": true,
   "skip_h1_title": false,
   "title_cell": "Table of Contents",
   "title_sidebar": "Contents",
   "toc_cell": false,
   "toc_position": {},
   "toc_section_display": true,
   "toc_window_display": false
  },
  "varInspector": {
   "cols": {
    "lenName": 16,
    "lenType": 16,
    "lenVar": 40
   },
   "kernels_config": {
    "python": {
     "delete_cmd_postfix": "",
     "delete_cmd_prefix": "del ",
     "library": "var_list.py",
     "varRefreshCmd": "print(var_dic_list())"
    },
    "r": {
     "delete_cmd_postfix": ") ",
     "delete_cmd_prefix": "rm(",
     "library": "var_list.r",
     "varRefreshCmd": "cat(var_dic_list()) "
    }
   },
   "types_to_exclude": [
    "module",
    "function",
    "builtin_function_or_method",
    "instance",
    "_Feature"
   ],
   "window_display": false
  },
  "widgets": {
   "state": {},
   "version": "1.1.2"
  }
 },
 "nbformat": 4,
 "nbformat_minor": 2
}
