{
 "cells": [
  {
   "cell_type": "markdown",
   "metadata": {},
   "source": [
    "## DataFrame\n",
    "### 자료만 입력 & 컬럼 이름 추가"
   ]
  },
  {
   "cell_type": "code",
   "execution_count": 2,
   "metadata": {},
   "outputs": [
    {
     "name": "stdout",
     "output_type": "stream",
     "text": [
      "   column1\n",
      "0        0\n",
      "1        1\n",
      "2        2\n",
      "3        3\n",
      "4        4\n",
      "\n",
      "0    0\n",
      "1    1\n",
      "2    2\n",
      "3    3\n",
      "4    4\n",
      "dtype: int64\n"
     ]
    }
   ],
   "source": [
    "import pandas as pd\n",
    "import numpy as np\n",
    "\n",
    "# DataFrame\n",
    "d = [0,1,2,3,4]\n",
    "df = pd.DataFrame({\"column1\":d})\n",
    "print(df)\n",
    "print()\n",
    "ds = pd.Series(d)\n",
    "print(ds)\n",
    "# 차이가 있다.\n"
   ]
  },
  {
   "cell_type": "code",
   "execution_count": 3,
   "metadata": {},
   "outputs": [
    {
     "name": "stdout",
     "output_type": "stream",
     "text": [
      "   column1  newCol\n",
      "0        0       0\n",
      "1        1       1\n",
      "2        2       2\n",
      "3        3       3\n",
      "4        4       4\n",
      "   column1  newCol  newCol2\n",
      "0        0       0        5\n",
      "1        1       1        5\n",
      "2        2       2        5\n",
      "3        3       3        5\n",
      "4        4       4        5\n"
     ]
    }
   ],
   "source": [
    "df[\"newCol\"] = d\n",
    "print(df)\n",
    "df[\"newCol2\"] = 5\n",
    "print(df)"
   ]
  },
  {
   "cell_type": "code",
   "execution_count": 4,
   "metadata": {},
   "outputs": [
    {
     "data": {
      "text/html": [
       "<div>\n",
       "<style scoped>\n",
       "    .dataframe tbody tr th:only-of-type {\n",
       "        vertical-align: middle;\n",
       "    }\n",
       "\n",
       "    .dataframe tbody tr th {\n",
       "        vertical-align: top;\n",
       "    }\n",
       "\n",
       "    .dataframe thead th {\n",
       "        text-align: right;\n",
       "    }\n",
       "</style>\n",
       "<table border=\"1\" class=\"dataframe\">\n",
       "  <thead>\n",
       "    <tr style=\"text-align: right;\">\n",
       "      <th></th>\n",
       "      <th>column1</th>\n",
       "      <th>newCol</th>\n",
       "      <th>newCol2</th>\n",
       "      <th>newCol3</th>\n",
       "    </tr>\n",
       "  </thead>\n",
       "  <tbody>\n",
       "    <tr>\n",
       "      <td>0</td>\n",
       "      <td>0</td>\n",
       "      <td>0</td>\n",
       "      <td>5</td>\n",
       "      <td>500</td>\n",
       "    </tr>\n",
       "    <tr>\n",
       "      <td>1</td>\n",
       "      <td>1</td>\n",
       "      <td>1</td>\n",
       "      <td>5</td>\n",
       "      <td>500</td>\n",
       "    </tr>\n",
       "    <tr>\n",
       "      <td>2</td>\n",
       "      <td>2</td>\n",
       "      <td>2</td>\n",
       "      <td>5</td>\n",
       "      <td>500</td>\n",
       "    </tr>\n",
       "    <tr>\n",
       "      <td>3</td>\n",
       "      <td>3</td>\n",
       "      <td>3</td>\n",
       "      <td>5</td>\n",
       "      <td>500</td>\n",
       "    </tr>\n",
       "    <tr>\n",
       "      <td>4</td>\n",
       "      <td>4</td>\n",
       "      <td>4</td>\n",
       "      <td>5</td>\n",
       "      <td>500</td>\n",
       "    </tr>\n",
       "  </tbody>\n",
       "</table>\n",
       "</div>"
      ],
      "text/plain": [
       "   column1  newCol  newCol2  newCol3\n",
       "0        0       0        5      500\n",
       "1        1       1        5      500\n",
       "2        2       2        5      500\n",
       "3        3       3        5      500\n",
       "4        4       4        5      500"
      ]
     },
     "execution_count": 4,
     "metadata": {},
     "output_type": "execute_result"
    }
   ],
   "source": [
    "df[\"newCol3\"] = df[\"newCol2\"]* 100\n",
    "df"
   ]
  },
  {
   "cell_type": "code",
   "execution_count": 5,
   "metadata": {},
   "outputs": [
    {
     "name": "stdout",
     "output_type": "stream",
     "text": [
      "5\n"
     ]
    },
    {
     "data": {
      "text/html": [
       "<div>\n",
       "<style scoped>\n",
       "    .dataframe tbody tr th:only-of-type {\n",
       "        vertical-align: middle;\n",
       "    }\n",
       "\n",
       "    .dataframe tbody tr th {\n",
       "        vertical-align: top;\n",
       "    }\n",
       "\n",
       "    .dataframe thead th {\n",
       "        text-align: right;\n",
       "    }\n",
       "</style>\n",
       "<table border=\"1\" class=\"dataframe\">\n",
       "  <thead>\n",
       "    <tr style=\"text-align: right;\">\n",
       "      <th></th>\n",
       "      <th>column1</th>\n",
       "      <th>newCol</th>\n",
       "      <th>newCol2</th>\n",
       "      <th>newCol3</th>\n",
       "    </tr>\n",
       "  </thead>\n",
       "  <tbody>\n",
       "    <tr>\n",
       "      <td>0</td>\n",
       "      <td>0</td>\n",
       "      <td>0</td>\n",
       "      <td>5</td>\n",
       "      <td>500</td>\n",
       "    </tr>\n",
       "    <tr>\n",
       "      <td>1</td>\n",
       "      <td>1</td>\n",
       "      <td>1</td>\n",
       "      <td>2000</td>\n",
       "      <td>500</td>\n",
       "    </tr>\n",
       "    <tr>\n",
       "      <td>2</td>\n",
       "      <td>2</td>\n",
       "      <td>2</td>\n",
       "      <td>5</td>\n",
       "      <td>500</td>\n",
       "    </tr>\n",
       "    <tr>\n",
       "      <td>3</td>\n",
       "      <td>3</td>\n",
       "      <td>3</td>\n",
       "      <td>5</td>\n",
       "      <td>500</td>\n",
       "    </tr>\n",
       "    <tr>\n",
       "      <td>4</td>\n",
       "      <td>4</td>\n",
       "      <td>4</td>\n",
       "      <td>5</td>\n",
       "      <td>500</td>\n",
       "    </tr>\n",
       "  </tbody>\n",
       "</table>\n",
       "</div>"
      ],
      "text/plain": [
       "   column1  newCol  newCol2  newCol3\n",
       "0        0       0        5      500\n",
       "1        1       1     2000      500\n",
       "2        2       2        5      500\n",
       "3        3       3        5      500\n",
       "4        4       4        5      500"
      ]
     },
     "execution_count": 5,
     "metadata": {},
     "output_type": "execute_result"
    }
   ],
   "source": [
    "# 특정위치 데이터 바꾸기\n",
    "print(df.iloc[1,2])\n",
    "df.iloc[1,2] = 2000\n",
    "df"
   ]
  },
  {
   "cell_type": "markdown",
   "metadata": {},
   "source": [
    "### 칼럼 제거하기 : 여러가지 방법 존재"
   ]
  },
  {
   "cell_type": "markdown",
   "metadata": {},
   "source": [
    "#### del function"
   ]
  },
  {
   "cell_type": "code",
   "execution_count": 6,
   "metadata": {},
   "outputs": [
    {
     "name": "stdout",
     "output_type": "stream",
     "text": [
      "   column1  newCol  newCol2  newCol3\n",
      "0        0       0        5      500\n",
      "1        1       1     2000      500\n",
      "2        2       2        5      500\n",
      "3        3       3        5      500\n",
      "4        4       4        5      500\n",
      "\n",
      "   newCol  newCol2  newCol3\n",
      "0       0        5      500\n",
      "1       1     2000      500\n",
      "2       2        5      500\n",
      "3       3        5      500\n",
      "4       4        5      500\n"
     ]
    }
   ],
   "source": [
    "# 컬럼 제거 방법 1 : del function\n",
    "print(df)\n",
    "print()\n",
    "del df[\"column1\"]\n",
    "print(df)"
   ]
  },
  {
   "cell_type": "markdown",
   "metadata": {},
   "source": [
    "### 필요한 칼럼 선택으로 간접 제거"
   ]
  },
  {
   "cell_type": "code",
   "execution_count": 7,
   "metadata": {},
   "outputs": [
    {
     "name": "stdout",
     "output_type": "stream",
     "text": [
      "['newCol' 'newCol2' 'newCol3']\n",
      "['newCol2', 'newCol3']\n"
     ]
    },
    {
     "data": {
      "text/html": [
       "<div>\n",
       "<style scoped>\n",
       "    .dataframe tbody tr th:only-of-type {\n",
       "        vertical-align: middle;\n",
       "    }\n",
       "\n",
       "    .dataframe tbody tr th {\n",
       "        vertical-align: top;\n",
       "    }\n",
       "\n",
       "    .dataframe thead th {\n",
       "        text-align: right;\n",
       "    }\n",
       "</style>\n",
       "<table border=\"1\" class=\"dataframe\">\n",
       "  <thead>\n",
       "    <tr style=\"text-align: right;\">\n",
       "      <th></th>\n",
       "      <th>newCol</th>\n",
       "      <th>newCol2</th>\n",
       "      <th>newCol3</th>\n",
       "    </tr>\n",
       "  </thead>\n",
       "  <tbody>\n",
       "    <tr>\n",
       "      <td>0</td>\n",
       "      <td>0</td>\n",
       "      <td>5</td>\n",
       "      <td>500</td>\n",
       "    </tr>\n",
       "    <tr>\n",
       "      <td>1</td>\n",
       "      <td>1</td>\n",
       "      <td>2000</td>\n",
       "      <td>500</td>\n",
       "    </tr>\n",
       "    <tr>\n",
       "      <td>2</td>\n",
       "      <td>2</td>\n",
       "      <td>5</td>\n",
       "      <td>500</td>\n",
       "    </tr>\n",
       "    <tr>\n",
       "      <td>3</td>\n",
       "      <td>3</td>\n",
       "      <td>5</td>\n",
       "      <td>500</td>\n",
       "    </tr>\n",
       "    <tr>\n",
       "      <td>4</td>\n",
       "      <td>4</td>\n",
       "      <td>5</td>\n",
       "      <td>500</td>\n",
       "    </tr>\n",
       "  </tbody>\n",
       "</table>\n",
       "</div>"
      ],
      "text/plain": [
       "   newCol  newCol2  newCol3\n",
       "0       0        5      500\n",
       "1       1     2000      500\n",
       "2       2        5      500\n",
       "3       3        5      500\n",
       "4       4        5      500"
      ]
     },
     "execution_count": 7,
     "metadata": {},
     "output_type": "execute_result"
    }
   ],
   "source": [
    "# 칼럼 제거 방법 2 : multi-column select\n",
    "print(df.columns.values)\n",
    "newColList = [\n",
    "    \"newCol2\",\n",
    "    \"newCol3\"\n",
    "]\n",
    "print(newColList)\n",
    "df"
   ]
  },
  {
   "cell_type": "code",
   "execution_count": 8,
   "metadata": {},
   "outputs": [
    {
     "name": "stdout",
     "output_type": "stream",
     "text": [
      "   newCol2  newCol3\n",
      "0        5      500\n",
      "1     2000      500\n",
      "2        5      500\n",
      "3        5      500\n",
      "4        5      500\n",
      "   newCol  newCol2  newCol3\n",
      "0       0        5      500\n",
      "1       1     2000      500\n",
      "2       2        5      500\n",
      "4       4        5      500\n"
     ]
    }
   ],
   "source": [
    "# 컬럼 제거 방법 3 : drop 메소드 사용\n",
    "# axis : 0(row, 가로줄), 1(column, 세로줄)\n",
    "print(df.drop(\"newCol\", axis = 1))\n",
    "print(df.drop(3, axis = 0))\n",
    "# del function은 사용 즉시 df 원본에 적용 but drop method는 그 때만 한시적으로 적용"
   ]
  },
  {
   "cell_type": "code",
   "execution_count": 9,
   "metadata": {},
   "outputs": [
    {
     "data": {
      "text/html": [
       "<div>\n",
       "<style scoped>\n",
       "    .dataframe tbody tr th:only-of-type {\n",
       "        vertical-align: middle;\n",
       "    }\n",
       "\n",
       "    .dataframe tbody tr th {\n",
       "        vertical-align: top;\n",
       "    }\n",
       "\n",
       "    .dataframe thead th {\n",
       "        text-align: right;\n",
       "    }\n",
       "</style>\n",
       "<table border=\"1\" class=\"dataframe\">\n",
       "  <thead>\n",
       "    <tr style=\"text-align: right;\">\n",
       "      <th></th>\n",
       "      <th>newCol</th>\n",
       "      <th>newCol2</th>\n",
       "      <th>newCol3</th>\n",
       "    </tr>\n",
       "    <tr>\n",
       "      <th>Count</th>\n",
       "      <th></th>\n",
       "      <th></th>\n",
       "      <th></th>\n",
       "    </tr>\n",
       "  </thead>\n",
       "  <tbody>\n",
       "    <tr>\n",
       "      <td>0</td>\n",
       "      <td>0</td>\n",
       "      <td>5</td>\n",
       "      <td>500</td>\n",
       "    </tr>\n",
       "    <tr>\n",
       "      <td>1</td>\n",
       "      <td>1</td>\n",
       "      <td>2000</td>\n",
       "      <td>500</td>\n",
       "    </tr>\n",
       "    <tr>\n",
       "      <td>2</td>\n",
       "      <td>2</td>\n",
       "      <td>5</td>\n",
       "      <td>500</td>\n",
       "    </tr>\n",
       "    <tr>\n",
       "      <td>3</td>\n",
       "      <td>3</td>\n",
       "      <td>5</td>\n",
       "      <td>500</td>\n",
       "    </tr>\n",
       "    <tr>\n",
       "      <td>4</td>\n",
       "      <td>4</td>\n",
       "      <td>5</td>\n",
       "      <td>500</td>\n",
       "    </tr>\n",
       "  </tbody>\n",
       "</table>\n",
       "</div>"
      ],
      "text/plain": [
       "       newCol  newCol2  newCol3\n",
       "Count                          \n",
       "0           0        5      500\n",
       "1           1     2000      500\n",
       "2           2        5      500\n",
       "3           3        5      500\n",
       "4           4        5      500"
      ]
     },
     "execution_count": 9,
     "metadata": {},
     "output_type": "execute_result"
    }
   ],
   "source": [
    "# index 이름\n",
    "df.index.name = \"Count\"\n",
    "df"
   ]
  },
  {
   "cell_type": "code",
   "execution_count": 10,
   "metadata": {},
   "outputs": [
    {
     "data": {
      "text/html": [
       "<div>\n",
       "<style scoped>\n",
       "    .dataframe tbody tr th:only-of-type {\n",
       "        vertical-align: middle;\n",
       "    }\n",
       "\n",
       "    .dataframe tbody tr th {\n",
       "        vertical-align: top;\n",
       "    }\n",
       "\n",
       "    .dataframe thead th {\n",
       "        text-align: right;\n",
       "    }\n",
       "</style>\n",
       "<table border=\"1\" class=\"dataframe\">\n",
       "  <thead>\n",
       "    <tr style=\"text-align: right;\">\n",
       "      <th></th>\n",
       "      <th>0</th>\n",
       "    </tr>\n",
       "  </thead>\n",
       "  <tbody>\n",
       "    <tr>\n",
       "      <td>2016-03-01</td>\n",
       "      <td>10000</td>\n",
       "    </tr>\n",
       "    <tr>\n",
       "      <td>2016-06-01</td>\n",
       "      <td>10300</td>\n",
       "    </tr>\n",
       "    <tr>\n",
       "      <td>2016-09-01</td>\n",
       "      <td>9900</td>\n",
       "    </tr>\n",
       "    <tr>\n",
       "      <td>2016-12-01</td>\n",
       "      <td>10500</td>\n",
       "    </tr>\n",
       "    <tr>\n",
       "      <td>2017-03-01</td>\n",
       "      <td>11000</td>\n",
       "    </tr>\n",
       "  </tbody>\n",
       "</table>\n",
       "</div>"
      ],
      "text/plain": [
       "                0\n",
       "2016-03-01  10000\n",
       "2016-06-01  10300\n",
       "2016-09-01   9900\n",
       "2016-12-01  10500\n",
       "2017-03-01  11000"
      ]
     },
     "execution_count": 10,
     "metadata": {},
     "output_type": "execute_result"
    }
   ],
   "source": [
    "stock_price_DF_withIndex = pd.DataFrame(\n",
    "    [10000, 10300, 9900, 10500, 11000],\n",
    "    index = [\"2016-03-01\",\"2016-06-01\",\"2016-09-01\",\"2016-12-01\",\"2017-03-01\"])\n",
    "stock_price_DF_withIndex"
   ]
  },
  {
   "cell_type": "code",
   "execution_count": 11,
   "metadata": {},
   "outputs": [
    {
     "data": {
      "text/html": [
       "<div>\n",
       "<style scoped>\n",
       "    .dataframe tbody tr th:only-of-type {\n",
       "        vertical-align: middle;\n",
       "    }\n",
       "\n",
       "    .dataframe tbody tr th {\n",
       "        vertical-align: top;\n",
       "    }\n",
       "\n",
       "    .dataframe thead th {\n",
       "        text-align: right;\n",
       "    }\n",
       "</style>\n",
       "<table border=\"1\" class=\"dataframe\">\n",
       "  <thead>\n",
       "    <tr style=\"text-align: right;\">\n",
       "      <th></th>\n",
       "      <th>시가</th>\n",
       "      <th>종가</th>\n",
       "      <th>고가</th>\n",
       "      <th>저가</th>\n",
       "    </tr>\n",
       "  </thead>\n",
       "  <tbody>\n",
       "    <tr>\n",
       "      <td>2016-03-01</td>\n",
       "      <td>10000</td>\n",
       "      <td>11000</td>\n",
       "      <td>13000</td>\n",
       "      <td>3000</td>\n",
       "    </tr>\n",
       "    <tr>\n",
       "      <td>2016-06-01</td>\n",
       "      <td>10300</td>\n",
       "      <td>12000</td>\n",
       "      <td>15000</td>\n",
       "      <td>5000</td>\n",
       "    </tr>\n",
       "    <tr>\n",
       "      <td>2016-09-01</td>\n",
       "      <td>9900</td>\n",
       "      <td>10000</td>\n",
       "      <td>15000</td>\n",
       "      <td>5000</td>\n",
       "    </tr>\n",
       "    <tr>\n",
       "      <td>2016-12-01</td>\n",
       "      <td>10500</td>\n",
       "      <td>13000</td>\n",
       "      <td>18000</td>\n",
       "      <td>8000</td>\n",
       "    </tr>\n",
       "    <tr>\n",
       "      <td>2017-03-01</td>\n",
       "      <td>11000</td>\n",
       "      <td>12000</td>\n",
       "      <td>17000</td>\n",
       "      <td>7000</td>\n",
       "    </tr>\n",
       "  </tbody>\n",
       "</table>\n",
       "</div>"
      ],
      "text/plain": [
       "               시가     종가     고가    저가\n",
       "2016-03-01  10000  11000  13000  3000\n",
       "2016-06-01  10300  12000  15000  5000\n",
       "2016-09-01   9900  10000  15000  5000\n",
       "2016-12-01  10500  13000  18000  8000\n",
       "2017-03-01  11000  12000  17000  7000"
      ]
     },
     "execution_count": 11,
     "metadata": {},
     "output_type": "execute_result"
    }
   ],
   "source": [
    "# \"0\"을 \"시가\"로 컬럼명을 바꿔주세요.\n",
    "# 0은 숫자로 되어있음. 주의해야함\n",
    "stock_price_DF_withIndex.rename(columns = {0: \"시가\"}, inplace=True)\n",
    "\n",
    "\n",
    "# column 추가(기존에 DF 데이터가 존재할 때 컬럼을 추가하는 경우) - 비어있는 DF인 경우에 컬럼추가하는 접근방법이 달라짐\n",
    "tmp = [11000,12000,10000,13000,12000]\n",
    "stock_price_DF_withIndex[\"종가\"] = tmp\n",
    "tmp = [13000,15000,15000, 18000, 17000]\n",
    "stock_price_DF_withIndex[\"고가\"] = tmp\n",
    "tmp = [3000,5000,5000,8000,7000]\n",
    "stock_price_DF_withIndex[\"저가\"] = tmp\n",
    "\n",
    "stock_price_DF_withIndex\n"
   ]
  },
  {
   "cell_type": "code",
   "execution_count": 12,
   "metadata": {},
   "outputs": [
    {
     "data": {
      "text/plain": [
       "10000"
      ]
     },
     "execution_count": 12,
     "metadata": {},
     "output_type": "execute_result"
    }
   ],
   "source": [
    "# number를 가지고 데이터에 접근할 때\n",
    "stock_price_DF_withIndex.iat[0,0]"
   ]
  },
  {
   "cell_type": "code",
   "execution_count": 15,
   "metadata": {},
   "outputs": [
    {
     "name": "stdout",
     "output_type": "stream",
     "text": [
      "시가    10000\n",
      "종가    11000\n",
      "Name: 2016-03-01, dtype: int64\n"
     ]
    }
   ],
   "source": [
    "# 특정 index의 특정 칼럼 접근\n",
    "print(stock_price_DF_withIndex.loc[\"2016-03-01\",[\"시가\",\"종가\"]])"
   ]
  },
  {
   "cell_type": "code",
   "execution_count": 18,
   "metadata": {},
   "outputs": [
    {
     "name": "stdout",
     "output_type": "stream",
     "text": [
      "               시가     종가     고가\n",
      "2016-03-01  10000  11000  13000\n",
      "2016-06-01  10300  12000  15000\n",
      "2016-09-01   9900  10000  15000\n"
     ]
    }
   ],
   "source": [
    "# slicing도 가능\n",
    "print(stock_price_DF_withIndex.loc[\"2016-03-01\":\"2016-12\",\"시가\": \"고가\"])"
   ]
  },
  {
   "cell_type": "code",
   "execution_count": 19,
   "metadata": {},
   "outputs": [
    {
     "data": {
      "text/html": [
       "<div>\n",
       "<style scoped>\n",
       "    .dataframe tbody tr th:only-of-type {\n",
       "        vertical-align: middle;\n",
       "    }\n",
       "\n",
       "    .dataframe tbody tr th {\n",
       "        vertical-align: top;\n",
       "    }\n",
       "\n",
       "    .dataframe thead th {\n",
       "        text-align: right;\n",
       "    }\n",
       "</style>\n",
       "<table border=\"1\" class=\"dataframe\">\n",
       "  <thead>\n",
       "    <tr style=\"text-align: right;\">\n",
       "      <th></th>\n",
       "      <th>2016-03-01</th>\n",
       "      <th>2016-06-01</th>\n",
       "      <th>2016-09-01</th>\n",
       "      <th>2016-12-01</th>\n",
       "      <th>2017-03-01</th>\n",
       "    </tr>\n",
       "  </thead>\n",
       "  <tbody>\n",
       "    <tr>\n",
       "      <td>시가</td>\n",
       "      <td>10000</td>\n",
       "      <td>10300</td>\n",
       "      <td>9900</td>\n",
       "      <td>10500</td>\n",
       "      <td>11000</td>\n",
       "    </tr>\n",
       "    <tr>\n",
       "      <td>종가</td>\n",
       "      <td>11000</td>\n",
       "      <td>12000</td>\n",
       "      <td>10000</td>\n",
       "      <td>13000</td>\n",
       "      <td>12000</td>\n",
       "    </tr>\n",
       "    <tr>\n",
       "      <td>고가</td>\n",
       "      <td>13000</td>\n",
       "      <td>15000</td>\n",
       "      <td>15000</td>\n",
       "      <td>18000</td>\n",
       "      <td>17000</td>\n",
       "    </tr>\n",
       "    <tr>\n",
       "      <td>저가</td>\n",
       "      <td>3000</td>\n",
       "      <td>5000</td>\n",
       "      <td>5000</td>\n",
       "      <td>8000</td>\n",
       "      <td>7000</td>\n",
       "    </tr>\n",
       "  </tbody>\n",
       "</table>\n",
       "</div>"
      ],
      "text/plain": [
       "    2016-03-01  2016-06-01  2016-09-01  2016-12-01  2017-03-01\n",
       "시가       10000       10300        9900       10500       11000\n",
       "종가       11000       12000       10000       13000       12000\n",
       "고가       13000       15000       15000       18000       17000\n",
       "저가        3000        5000        5000        8000        7000"
      ]
     },
     "execution_count": 19,
     "metadata": {},
     "output_type": "execute_result"
    }
   ],
   "source": [
    "# 기타 내용 - 축 바꾸기(가로, 세로 바꾸기) - 별로 사용 안함\n",
    "stock_price_DF_withIndex.T"
   ]
  },
  {
   "cell_type": "code",
   "execution_count": 21,
   "metadata": {},
   "outputs": [
    {
     "data": {
      "text/plain": [
       "array([[10000, 11000, 13000,  3000],\n",
       "       [10300, 12000, 15000,  5000],\n",
       "       [ 9900, 10000, 15000,  5000],\n",
       "       [10500, 13000, 18000,  8000],\n",
       "       [11000, 12000, 17000,  7000]], dtype=int64)"
      ]
     },
     "execution_count": 21,
     "metadata": {},
     "output_type": "execute_result"
    }
   ],
   "source": [
    "# 기타 내용\n",
    "stock_price_DF_withIndex.values\n",
    "# array로 반환"
   ]
  },
  {
   "cell_type": "code",
   "execution_count": 22,
   "metadata": {},
   "outputs": [
    {
     "data": {
      "text/plain": [
       "(5, 4)"
      ]
     },
     "execution_count": 22,
     "metadata": {},
     "output_type": "execute_result"
    }
   ],
   "source": [
    "stock_price_DF_withIndex.shape # (rows, columns)"
   ]
  },
  {
   "cell_type": "code",
   "execution_count": 25,
   "metadata": {},
   "outputs": [
    {
     "name": "stdout",
     "output_type": "stream",
     "text": [
      "5\n",
      "4\n"
     ]
    }
   ],
   "source": [
    "print(stock_price_DF_withIndex.shape[0]) # rows\n",
    "print(stock_price_DF_withIndex.shape[1]) # columns"
   ]
  },
  {
   "cell_type": "markdown",
   "metadata": {},
   "source": [
    "### DF: reindex"
   ]
  },
  {
   "cell_type": "code",
   "execution_count": 26,
   "metadata": {},
   "outputs": [
    {
     "data": {
      "text/plain": [
       "c    4.5\n",
       "b    7.2\n",
       "a   -5.3\n",
       "dtype: float64"
      ]
     },
     "execution_count": 26,
     "metadata": {},
     "output_type": "execute_result"
    }
   ],
   "source": [
    "# reindex\n",
    "obj = pd.Series([4.5,7.2,-5.3], index=[\"c\",\"b\",\"a\"])\n",
    "obj"
   ]
  },
  {
   "cell_type": "code",
   "execution_count": 30,
   "metadata": {},
   "outputs": [
    {
     "data": {
      "text/plain": [
       "a   -5.3\n",
       "b    7.2\n",
       "dtype: float64"
      ]
     },
     "execution_count": 30,
     "metadata": {},
     "output_type": "execute_result"
    }
   ],
   "source": [
    "obj2 = obj.reindex([\"a\",\"b\"])\n",
    "obj2\n",
    "# 원본은 안바뀜"
   ]
  },
  {
   "cell_type": "code",
   "execution_count": 32,
   "metadata": {},
   "outputs": [
    {
     "data": {
      "text/plain": [
       "a   -5.3\n",
       "b    7.2\n",
       "c    4.5\n",
       "d    NaN\n",
       "e    NaN\n",
       "dtype: float64"
      ]
     },
     "execution_count": 32,
     "metadata": {},
     "output_type": "execute_result"
    }
   ],
   "source": [
    "obj3 = obj.reindex([\"a\",\"b\",\"c\",\"d\",\"e\"])\n",
    "obj3\n",
    "# 없는 index를 reindex하면 NaN으로 지정"
   ]
  },
  {
   "cell_type": "code",
   "execution_count": 34,
   "metadata": {},
   "outputs": [
    {
     "data": {
      "text/plain": [
       "a   -5.3\n",
       "b    7.2\n",
       "c    4.5\n",
       "d    0.0\n",
       "e    0.0\n",
       "dtype: float64"
      ]
     },
     "execution_count": 34,
     "metadata": {},
     "output_type": "execute_result"
    }
   ],
   "source": [
    "obj.reindex([\"a\",\"b\",\"c\",\"d\",\"e\"], fill_value=0)\n",
    "# NaN값을 0으로 대체"
   ]
  },
  {
   "cell_type": "markdown",
   "metadata": {},
   "source": [
    "### 실질적으로 \"보간법\"으로 처리하는 경우도 많다."
   ]
  },
  {
   "cell_type": "code",
   "execution_count": 40,
   "metadata": {},
   "outputs": [
    {
     "name": "stdout",
     "output_type": "stream",
     "text": [
      "c    4.5\n",
      "b    7.2\n",
      "a   -5.3\n",
      "dtype: float64\n",
      "\n",
      "a   -5.3\n",
      "d    NaN\n",
      "e    NaN\n",
      "c    4.5\n",
      "b    7.2\n",
      "dtype: float64\n",
      "\n",
      "a   -5.300000\n",
      "d   -2.033333\n",
      "e    1.233333\n",
      "c    4.500000\n",
      "b    7.200000\n",
      "dtype: float64\n"
     ]
    }
   ],
   "source": [
    "# 보간법\n",
    "# NaN을 대체할 때 0이나 고정된 값으로 하기엔 문제가 있음\n",
    "obj = pd.Series([4.5,7.2,-5.3], index=[\"c\",\"b\",\"a\"])\n",
    "print(obj)\n",
    "print()\n",
    "print(obj.reindex([\"a\",\"d\",\"e\",\"c\",\"b\"]))\n",
    "print()\n",
    "# 보간법에 대한 method\n",
    "# 중간에 비어있는 값을 동일한 간격으로 값을 준다.\n",
    "print(obj.reindex([\"a\",\"d\",\"e\",\"c\",\"b\"]).interpolate())"
   ]
  },
  {
   "cell_type": "code",
   "execution_count": 48,
   "metadata": {},
   "outputs": [
    {
     "name": "stdout",
     "output_type": "stream",
     "text": [
      "     0\n",
      "a -5.3\n",
      "d  NaN\n",
      "e  NaN\n",
      "c  4.5\n",
      "b  7.2\n",
      "     0  InterPol\n",
      "a -5.3 -5.300000\n",
      "d  NaN -2.033333\n",
      "e  NaN  1.233333\n",
      "c  4.5  4.500000\n",
      "b  7.2  7.200000\n"
     ]
    }
   ],
   "source": [
    "obj = pd.DataFrame([4.5,7.2,-5.3], index=[\"c\",\"b\",\"a\"])\n",
    "obj = obj.reindex([\"a\",\"d\",\"e\",\"c\",\"b\"])\n",
    "print(obj)\n",
    "obj[\"InterPol\"] = obj.iloc[:,0].interpolate()\n",
    "print(obj)"
   ]
  },
  {
   "cell_type": "markdown",
   "metadata": {},
   "source": [
    "### 그렇다면 interpolate할 때 각 양끝단이 정해진것이 아니라 처음부터 NaN이면 어떻게 할 것인가?"
   ]
  }
 ],
 "metadata": {
  "kernelspec": {
   "display_name": "Python 3",
   "language": "python",
   "name": "python3"
  },
  "language_info": {
   "codemirror_mode": {
    "name": "ipython",
    "version": 3
   },
   "file_extension": ".py",
   "mimetype": "text/x-python",
   "name": "python",
   "nbconvert_exporter": "python",
   "pygments_lexer": "ipython3",
   "version": "3.7.4"
  }
 },
 "nbformat": 4,
 "nbformat_minor": 2
}
